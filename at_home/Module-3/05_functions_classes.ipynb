{
 "cells": [
  {
   "cell_type": "markdown",
   "metadata": {},
   "source": [
    "# 1. This Week\n",
    "#### Module 3, Week A"
   ]
  },
  {
   "cell_type": "markdown",
   "metadata": {},
   "source": [
    "* Object orientation\n",
    "* Functions\n",
    "* Classes"
   ]
  },
  {
   "cell_type": "markdown",
   "metadata": {},
   "source": [
    "# 2. Object Oriented Programming"
   ]
  },
  {
   "cell_type": "markdown",
   "metadata": {},
   "source": [
    "#### (Almost) Everything in Python is an object\n",
    "\n",
    "* We have seen that the data we use are objects.  \n",
    "* The lists and dictionaries are objects, as are the strings and numbers.  \n",
    "* We will see this week that the processes we use are objects, and these come in the form of **functions**.\n",
    "* We will see that we can design entirely new object types; this is done using **classes**.\n",
    "\n",
    "#### What is an object?\n",
    "\n",
    "* Can be assigned to a variable or passed as an argument to a function\n",
    "* Can have attributes (values/information) and methods (actions)\n",
    "\n",
    "From Python's perspective, the data and processes have equal importance.  When thinking about design, the focus is on how these objects interact with themselves and each other to provide the functionality required for the program."
   ]
  },
  {
   "cell_type": "markdown",
   "metadata": {},
   "source": [
    "#### Object-Oriented Concepts\n",
    "1.      (Almost) everything is an object.\n",
    "2.      Computation is performed by objects communicating with each other, requesting that other objects perform actions.  Objects communicate by sending and receiving messages.  A message is a request for action, bundled with whatever arguments may be necessary to complete the tasks.\n",
    "3.      Each object has its own memory, which consists of other objects.\n",
    "4.      Every object is an instance of a class.  A class simply represents a grouping of similar objects, such as integers or lists.\n",
    "5.      The class is the repository for behaviour associated with an object.  That is, that all objects that are instances of the same class can perform the same actions.\n",
    "6.      Classes are organized into a singly rooted tree structure, called the inheritance hierarchy.  Memory and behaviour associated with instances of a class are automatically available to any class associated with a descendant in this tree structure.\n",
    "\n",
    "\n",
    "\n",
    "\n",
    "#### Benefits of Object Oriented Programming\n",
    " \n",
    "1.      Modularity: The source code for a class can be written and maintained independently of the source code for other classes. Once created, an object can be easily passed around inside the system.\n",
    "2.      Information-bundling: By interacting with an object's methods, the details of its internal implementation remain contained, separate from the outside world.\n",
    "3.      Code re-use: If a class already exists, you can use objects from that class in your program. This allows programmers to implement/test/debug complex, task-specific objects, which you can then use in your own code.\n",
    "4.      Easy Debugging: If a particular object turns out to be a problem, you can simply remove it from your application and plug in a different object as its replacement. This is analogous to fixing mechanical problems in the real world. If a bolt breaks, you replace it, not the entire machine.\n",
    " \n",
    "[_Optional_ reading from which these lists came from](http://www.ctp.bilkent.edu.tr/~russell/java/LectureNotes/1_OOConcepts.htm)."
   ]
  },
  {
   "cell_type": "markdown",
   "metadata": {},
   "source": [
    "__Object examples__"
   ]
  },
  {
   "cell_type": "markdown",
   "metadata": {},
   "source": [
    "We don't need to assign _values_ to _variables_ in order to access an object's methods."
   ]
  },
  {
   "cell_type": "code",
   "execution_count": null,
   "metadata": {},
   "outputs": [],
   "source": [
    "[4,5,6,7].pop()"
   ]
  },
  {
   "cell_type": "code",
   "execution_count": null,
   "metadata": {},
   "outputs": [],
   "source": [
    "[4,5,6,7][1]"
   ]
  },
  {
   "cell_type": "code",
   "execution_count": null,
   "metadata": {},
   "outputs": [],
   "source": [
    "\"geography\".upper()"
   ]
  },
  {
   "cell_type": "code",
   "execution_count": null,
   "metadata": {},
   "outputs": [],
   "source": [
    "34.5.is_integer()"
   ]
  },
  {
   "cell_type": "markdown",
   "metadata": {},
   "source": [
    "# 3. Functions"
   ]
  },
  {
   "cell_type": "markdown",
   "metadata": {},
   "source": [
    "A function is a named sequence of operations. \n",
    "\n",
    "#### Example: Brush your teeth    \n",
    " 1. open the cabinet\n",
    " 2. get your brush and toothpaste\n",
    " 3. put some paste on your brush \n",
    " 4. push the brush across your teeth\n",
    " 5. rinse your brush and mouth\n",
    " 6. return brush and toothpaste to cabinet\n",
    " \n",
    "Each morning the parent does not want to explain all these tasks, so they say to their kid, \"brush your teeth\".  When the parent says \"brush your teeth\", s/he is making a function call. \n",
    "\n",
    "\"Brush your teeth\" is an **abstraction** for all the many steps involved.\n",
    "\n",
    "#### Programming\n",
    "\n",
    "* Most programming projects involve many (many, many,..., many) tasks\n",
    "* Some tasks can be grouped together into a single **function** and given a name\n",
    "* Once you have that function, you can forget about all the details inside that function\n",
    "* By writing multiple functions, the larger project becomes easier to understand\n",
    "* Sometimes you work in the opposite direction\n",
    " * Make a list of the high level functions first\n",
    " * Then go back and fill in the tasks later\n",
    "\n",
    "#### Built-in functions vs. user defined functions\n",
    "* We have already used a few built-in functions: e.g., `range()`, `len()`, `dir()`  (there are lots more)\n",
    "* A programming language could not come delivered with \"everything\" a user could possibly ever need\n",
    "* Programming languages allow you to write your own functions\n",
    "* Once your function is written it works just like the built-in ones\n",
    "* They are all objects, so we can work with them like before\n",
    "\n",
    "#### Components of a Function\n",
    "* Name\n",
    " * what you're going to call the function you create\n",
    " * the name is preceded by the command `def`\n",
    " * required\n",
    "* Arguments\n",
    " * external (to the function) information your function needs to run\n",
    " * any number of arguments are allowed, including none\n",
    "* Return values\n",
    " * output from your function\n",
    " * any number of return values are allowed (something is always returned)"
   ]
  },
  {
   "cell_type": "markdown",
   "metadata": {},
   "source": [
    "### Basic Syntax and Usage"
   ]
  },
  {
   "cell_type": "markdown",
   "metadata": {},
   "source": [
    "That was a quick introduction to functions. In the next few sets of cells we will consider different options for writing a function."
   ]
  },
  {
   "cell_type": "markdown",
   "metadata": {},
   "source": [
    "#### No arguments, nothing explicitly returned"
   ]
  },
  {
   "cell_type": "code",
   "execution_count": null,
   "metadata": {},
   "outputs": [],
   "source": [
    "def greeting1():\n",
    "    print(\"Hello\")"
   ]
  },
  {
   "cell_type": "code",
   "execution_count": null,
   "metadata": {},
   "outputs": [],
   "source": [
    "greeting1()"
   ]
  },
  {
   "cell_type": "code",
   "execution_count": null,
   "metadata": {},
   "outputs": [],
   "source": [
    "type(greeting1)"
   ]
  },
  {
   "cell_type": "markdown",
   "metadata": {},
   "source": [
    "**Note**\n",
    "- def: We __define a function__ using the command `def`. \n",
    "- Parentheses: The role of parentheses is critical. When we define the function in the above example `def greeting1()` there are empty parentheses following the function name. When we __call the function__ in the second cell above, `greeting1()`, those parentheses must also be there.\n",
    "- Indentation: Similar to for and while loops, the code within the function is indented."
   ]
  },
  {
   "cell_type": "markdown",
   "metadata": {},
   "source": [
    "**Note**: Just because the function above prints something doesn't mean that something is explicitly returned. Notice the difference between the function below and the function above."
   ]
  },
  {
   "cell_type": "markdown",
   "metadata": {},
   "source": [
    "#### No arguments, explicitly return something"
   ]
  },
  {
   "cell_type": "code",
   "execution_count": null,
   "metadata": {},
   "outputs": [],
   "source": [
    "def greeting2():\n",
    "    return \"Hello\""
   ]
  },
  {
   "cell_type": "code",
   "execution_count": null,
   "metadata": {},
   "outputs": [],
   "source": [
    "message = greeting2()"
   ]
  },
  {
   "cell_type": "code",
   "execution_count": null,
   "metadata": {},
   "outputs": [],
   "source": [
    "print(message)"
   ]
  },
  {
   "cell_type": "markdown",
   "metadata": {},
   "source": [
    "**Action**: Something is always returned. The function `greeting1` did not include the `return` command, so when the function is finished it returns `None`. `greeting2` explicitly uses the `return` command to return a string. Notice the difference above and below when we execute `print(message)`."
   ]
  },
  {
   "cell_type": "code",
   "execution_count": null,
   "metadata": {},
   "outputs": [],
   "source": [
    "message = greeting1()"
   ]
  },
  {
   "cell_type": "code",
   "execution_count": null,
   "metadata": {},
   "outputs": [],
   "source": [
    "print(message)"
   ]
  },
  {
   "cell_type": "markdown",
   "metadata": {},
   "source": [
    "#### One argument, return something"
   ]
  },
  {
   "cell_type": "code",
   "execution_count": null,
   "metadata": {},
   "outputs": [],
   "source": [
    "def greeting3(name):\n",
    "    return \"Hello \" + name"
   ]
  },
  {
   "cell_type": "markdown",
   "metadata": {},
   "source": [
    "**Note**: The function definition above creates a variable called `name`. This variable is then used within the function."
   ]
  },
  {
   "cell_type": "code",
   "execution_count": null,
   "metadata": {},
   "outputs": [],
   "source": [
    "message = greeting3('Mr. President')\n",
    "print(message)"
   ]
  },
  {
   "cell_type": "code",
   "execution_count": null,
   "metadata": {},
   "outputs": [],
   "source": [
    "message = greeting3('George')\n",
    "print(message)"
   ]
  },
  {
   "cell_type": "code",
   "execution_count": null,
   "metadata": {},
   "outputs": [],
   "source": [
    "message = greeting3('6')\n",
    "print(message)"
   ]
  },
  {
   "cell_type": "markdown",
   "metadata": {},
   "source": [
    "**Note**: In each of the three examples above, the argument `name` takes a different value. That value is then prepended with the string `\"Hello \"`"
   ]
  },
  {
   "cell_type": "markdown",
   "metadata": {},
   "source": [
    "**Action**: In the blank cell below, try passing a few more strings to the function `greeting3` to see what is returned."
   ]
  },
  {
   "cell_type": "code",
   "execution_count": null,
   "metadata": {},
   "outputs": [],
   "source": []
  },
  {
   "cell_type": "markdown",
   "metadata": {},
   "source": [
    "#### Multiple arguments, return multiple items"
   ]
  },
  {
   "cell_type": "code",
   "execution_count": null,
   "metadata": {},
   "outputs": [],
   "source": [
    "def greeting4(name, times):\n",
    "    output = \"\"\n",
    "    for i in range(times):\n",
    "        output += \"Hello \" + name + '\\n'\n",
    "    return output, len(output)"
   ]
  },
  {
   "cell_type": "markdown",
   "metadata": {},
   "source": [
    "There are now two arguments in the function definition above, separated by a comma. Notice that `name` is used within the function like a string and `times` is used like an integer. Arguments can be any type.\n",
    "\n",
    "The function returns two objects. `output` is a string and `len(output)` is an integer."
   ]
  },
  {
   "cell_type": "code",
   "execution_count": null,
   "metadata": {},
   "outputs": [],
   "source": [
    "results = greeting4('Madam Speaker', 3)\n",
    "print(results[0])\n",
    "print(results[1])"
   ]
  },
  {
   "cell_type": "markdown",
   "metadata": {},
   "source": [
    "**Note**: In the cell above, we assign the result of the function `greeting4` to the variable `results`. Since `greeting4` returns two values, we can then slice the variable `results` using what we learned in earlier weeks."
   ]
  },
  {
   "cell_type": "markdown",
   "metadata": {},
   "source": [
    "**Action**: In the cell below, figure out the type of the variable `results`. "
   ]
  },
  {
   "cell_type": "code",
   "execution_count": null,
   "metadata": {},
   "outputs": [],
   "source": []
  },
  {
   "cell_type": "code",
   "execution_count": null,
   "metadata": {},
   "outputs": [],
   "source": [
    "message, tot_chars = greeting4('Madam Speaker', 3)\n",
    "print(message)\n",
    "print(tot_chars)"
   ]
  },
  {
   "cell_type": "markdown",
   "metadata": {},
   "source": [
    "**Note**: Hold on a second!!! Why are there two values on the left side of that equals sign??? [*I'm sure this is what you were asking yourself before you read it here.*](https://pics.me.me/not-sure-if-headis-about-to-explode-fromconfusion-or-brain-16118259.png) Since the function `greeting4` returns two values, you can automatically split them apart by putting two values on the left side of the equals."
   ]
  },
  {
   "cell_type": "markdown",
   "metadata": {},
   "source": [
    "**Action**: Do you understand what just happened? Test yourself. What type of object is `message`? What type of object is `tot_chars`? Answer these questions before running the two cells below."
   ]
  },
  {
   "cell_type": "code",
   "execution_count": null,
   "metadata": {},
   "outputs": [],
   "source": [
    "type(message)"
   ]
  },
  {
   "cell_type": "code",
   "execution_count": null,
   "metadata": {},
   "outputs": [],
   "source": [
    "type(tot_chars)"
   ]
  },
  {
   "cell_type": "markdown",
   "metadata": {},
   "source": [
    "In the cell below, we forget to include the parentheses with the function `greeting4`.  Python just tells you that it's a function."
   ]
  },
  {
   "cell_type": "code",
   "execution_count": null,
   "metadata": {},
   "outputs": [],
   "source": [
    "greeting4"
   ]
  },
  {
   "cell_type": "markdown",
   "metadata": {},
   "source": [
    "Below is another example. It might seem more complex, but it follows all the same rules we have seen so far. This function returns two objects: a list and a string. Even though the list has multiple objects within it, from the function's perspective it is just retuning two objects.  "
   ]
  },
  {
   "cell_type": "code",
   "execution_count": null,
   "metadata": {},
   "outputs": [],
   "source": [
    "def funky():\n",
    "    return [4,5,6], 'dog'"
   ]
  },
  {
   "cell_type": "code",
   "execution_count": null,
   "metadata": {},
   "outputs": [],
   "source": [
    "funky_output = funky()\n",
    "funky_output"
   ]
  },
  {
   "cell_type": "markdown",
   "metadata": {},
   "source": [
    "**Action**: In the cell below, using slicing to grab the 5 from `funky_output`."
   ]
  },
  {
   "cell_type": "code",
   "execution_count": null,
   "metadata": {},
   "outputs": [],
   "source": []
  },
  {
   "cell_type": "markdown",
   "metadata": {},
   "source": [
    "### Function Argument Types"
   ]
  },
  {
   "cell_type": "markdown",
   "metadata": {},
   "source": [
    "We write functions to make life easier on ourselves and other people who might use our code. Once you have defined your function, you want to make it as easy to use as possible. The examples below show different ways that you can define the arguments to a function."
   ]
  },
  {
   "cell_type": "markdown",
   "metadata": {},
   "source": [
    "Types of arguments\n",
    "* Positional\n",
    "* Keyword"
   ]
  },
  {
   "cell_type": "markdown",
   "metadata": {},
   "source": [
    "#### Positional arguments"
   ]
  },
  {
   "cell_type": "markdown",
   "metadata": {},
   "source": [
    "Below we write a function that takes any number and then raises it to any exponent."
   ]
  },
  {
   "cell_type": "code",
   "execution_count": null,
   "metadata": {},
   "outputs": [],
   "source": [
    "def power1(x, exponent):\n",
    "    return x**exponent"
   ]
  },
  {
   "cell_type": "code",
   "execution_count": null,
   "metadata": {},
   "outputs": [],
   "source": [
    "power1(3, 2)"
   ]
  },
  {
   "cell_type": "code",
   "execution_count": null,
   "metadata": {},
   "outputs": [],
   "source": [
    "power1(2, 3)"
   ]
  },
  {
   "cell_type": "markdown",
   "metadata": {},
   "source": [
    "**Note:** The first number passed to `power1` is assigned to `x`, and the second number passed is assigned to `exponent`. In other words: order matters!!"
   ]
  },
  {
   "cell_type": "code",
   "execution_count": null,
   "metadata": {},
   "outputs": [],
   "source": [
    "power1(3)"
   ]
  },
  {
   "cell_type": "markdown",
   "metadata": {},
   "source": [
    "**Note**: Read the error message. All positional arguments are **required**."
   ]
  },
  {
   "cell_type": "markdown",
   "metadata": {},
   "source": [
    "#### Keyword arguments"
   ]
  },
  {
   "cell_type": "markdown",
   "metadata": {},
   "source": [
    "Keyword arguments allow us to assign default values to arguments. A positional argument becomes a keyword argument simply by assigning it a default value."
   ]
  },
  {
   "cell_type": "code",
   "execution_count": null,
   "metadata": {},
   "outputs": [],
   "source": [
    "def power2(x=3, exponent=2):\n",
    "    return x**exponent"
   ]
  },
  {
   "cell_type": "markdown",
   "metadata": {},
   "source": [
    "The way we defined `power2`, you don't have to pass anything since we gave all the arguments default values (see cell below)."
   ]
  },
  {
   "cell_type": "code",
   "execution_count": null,
   "metadata": {},
   "outputs": [],
   "source": [
    "power2()"
   ]
  },
  {
   "cell_type": "markdown",
   "metadata": {},
   "source": [
    "What is really nifty, is that you can override the default values."
   ]
  },
  {
   "cell_type": "code",
   "execution_count": null,
   "metadata": {},
   "outputs": [],
   "source": [
    "power2(x=4)"
   ]
  },
  {
   "cell_type": "code",
   "execution_count": null,
   "metadata": {},
   "outputs": [],
   "source": [
    "power2(exponent=4)"
   ]
  },
  {
   "cell_type": "code",
   "execution_count": null,
   "metadata": {},
   "outputs": [],
   "source": [
    "power2(x=4, exponent=3)"
   ]
  },
  {
   "cell_type": "markdown",
   "metadata": {},
   "source": [
    "Order can be kinda tricky with keyword arguments. If we use the argument's name when calling the function, then the arguments can enter in any order (see next cell)."
   ]
  },
  {
   "cell_type": "code",
   "execution_count": null,
   "metadata": {},
   "outputs": [],
   "source": [
    "power2(exponent=3, x=4)"
   ]
  },
  {
   "cell_type": "markdown",
   "metadata": {},
   "source": [
    "However, if you don't call the arguments by name, then they revert to the rules for positional arguments, i.e., order matters (see next two cells)."
   ]
  },
  {
   "cell_type": "code",
   "execution_count": null,
   "metadata": {},
   "outputs": [],
   "source": [
    "power2(4, 3)"
   ]
  },
  {
   "cell_type": "code",
   "execution_count": null,
   "metadata": {},
   "outputs": [],
   "source": [
    "power2(3, 4)"
   ]
  },
  {
   "cell_type": "markdown",
   "metadata": {},
   "source": [
    "**Note**: When using keyword arguments, the default value is used if the user does not explicitly override it. "
   ]
  },
  {
   "cell_type": "markdown",
   "metadata": {},
   "source": [
    "#### Mix-n-Match"
   ]
  },
  {
   "cell_type": "markdown",
   "metadata": {},
   "source": [
    "You can mix positional and keyword arguments. However, all the keyword arguments must follow all the positional arguments when defining the function."
   ]
  },
  {
   "cell_type": "code",
   "execution_count": null,
   "metadata": {},
   "outputs": [],
   "source": [
    "def power3(x, exponent=2):\n",
    "    return x**exponent"
   ]
  },
  {
   "cell_type": "code",
   "execution_count": null,
   "metadata": {},
   "outputs": [],
   "source": [
    "power3(3)"
   ]
  },
  {
   "cell_type": "code",
   "execution_count": null,
   "metadata": {},
   "outputs": [],
   "source": [
    "power3(3, 4)"
   ]
  },
  {
   "cell_type": "markdown",
   "metadata": {},
   "source": [
    "**Action**: Reread the explanation of mix-n-match and the examples above. Now test yourself. Before running each of the following cells, determine if it will run successfully, or return an error."
   ]
  },
  {
   "cell_type": "code",
   "execution_count": null,
   "metadata": {},
   "outputs": [],
   "source": [
    "power3(5, exponent=3)"
   ]
  },
  {
   "cell_type": "code",
   "execution_count": null,
   "metadata": {},
   "outputs": [],
   "source": [
    "power3(x=5, 3)"
   ]
  },
  {
   "cell_type": "code",
   "execution_count": null,
   "metadata": {},
   "outputs": [],
   "source": [
    "power3(exponent=3, x=5)"
   ]
  },
  {
   "cell_type": "code",
   "execution_count": null,
   "metadata": {},
   "outputs": [],
   "source": [
    "power3(exponent=3, 5)"
   ]
  },
  {
   "cell_type": "code",
   "execution_count": null,
   "metadata": {},
   "outputs": [],
   "source": [
    "power3(x=5, exponent=3)"
   ]
  },
  {
   "cell_type": "markdown",
   "metadata": {},
   "source": [
    "### What happens inside the function, stays inside the function... kinda."
   ]
  },
  {
   "cell_type": "markdown",
   "metadata": {},
   "source": [
    "It's sort of like a trip to Vegas, [you need to pay attention](https://youtu.be/jrRipLBh6jo)."
   ]
  },
  {
   "cell_type": "markdown",
   "metadata": {},
   "source": [
    "Let's define a simple function that just multiples two numbers."
   ]
  },
  {
   "cell_type": "code",
   "execution_count": null,
   "metadata": {},
   "outputs": [],
   "source": [
    "def multiply(arg1, arg2):\n",
    "    result = arg1 * arg2\n",
    "    return result    "
   ]
  },
  {
   "cell_type": "markdown",
   "metadata": {},
   "source": [
    "By now you should be comfortable running this function."
   ]
  },
  {
   "cell_type": "code",
   "execution_count": null,
   "metadata": {},
   "outputs": [],
   "source": [
    "multiply(2, 5)"
   ]
  },
  {
   "cell_type": "markdown",
   "metadata": {},
   "source": [
    "Inside the function we defined the variable `result`. However, this variable only exists inside the function. Notice what happens in the next cell when we try to call it."
   ]
  },
  {
   "cell_type": "code",
   "execution_count": null,
   "metadata": {},
   "outputs": [],
   "source": [
    "result"
   ]
  },
  {
   "cell_type": "markdown",
   "metadata": {},
   "source": [
    "We also define `arg1` and `arg2` as arguments of the function. These also only exist inside the function."
   ]
  },
  {
   "cell_type": "code",
   "execution_count": null,
   "metadata": {},
   "outputs": [],
   "source": [
    "arg1"
   ]
  },
  {
   "cell_type": "code",
   "execution_count": null,
   "metadata": {},
   "outputs": [],
   "source": [
    "arg2"
   ]
  },
  {
   "cell_type": "markdown",
   "metadata": {},
   "source": [
    "In the following cell we first define two variables `a` and `b` (outside the function). We then pass these to the `multiply` function. After the function, `a` and `b` still exist as they did before."
   ]
  },
  {
   "cell_type": "code",
   "execution_count": null,
   "metadata": {},
   "outputs": [],
   "source": [
    "a = 2\n",
    "b = 5\n",
    "multiply(a, b)"
   ]
  },
  {
   "cell_type": "code",
   "execution_count": null,
   "metadata": {},
   "outputs": [],
   "source": [
    "a"
   ]
  },
  {
   "cell_type": "code",
   "execution_count": null,
   "metadata": {},
   "outputs": [],
   "source": [
    "b"
   ]
  },
  {
   "cell_type": "markdown",
   "metadata": {},
   "source": [
    "In the following example, the variable `result1` exists inside and outside the function. Notice what happens inside the function does not affect `result1` outside the function."
   ]
  },
  {
   "cell_type": "code",
   "execution_count": null,
   "metadata": {},
   "outputs": [],
   "source": [
    "def multiply2(arg1, arg2):\n",
    "    result1 = arg1 * arg2\n",
    "    print('in here, result1 equals', result1)\n",
    "    return result1    "
   ]
  },
  {
   "cell_type": "code",
   "execution_count": null,
   "metadata": {},
   "outputs": [],
   "source": [
    "result1 = 'dog'"
   ]
  },
  {
   "cell_type": "code",
   "execution_count": null,
   "metadata": {},
   "outputs": [],
   "source": [
    "multiply2(3, 6)"
   ]
  },
  {
   "cell_type": "code",
   "execution_count": null,
   "metadata": {},
   "outputs": [],
   "source": [
    "result1"
   ]
  },
  {
   "cell_type": "markdown",
   "metadata": {},
   "source": [
    "You don't need to explicitly pass everything into the function. The function can see variables that were created outside the function as long as that variable is not also defined within the function."
   ]
  },
  {
   "cell_type": "code",
   "execution_count": null,
   "metadata": {},
   "outputs": [],
   "source": [
    "def multiply3(arg1, arg2):\n",
    "    return arg1 * arg2 * result3"
   ]
  },
  {
   "cell_type": "code",
   "execution_count": null,
   "metadata": {},
   "outputs": [],
   "source": [
    "result3 = 10\n",
    "multiply3(9, 3)"
   ]
  },
  {
   "cell_type": "markdown",
   "metadata": {},
   "source": [
    "The `multiply()` functions above were pretty simple. We are going to complicate things below by working with mutable objects."
   ]
  },
  {
   "cell_type": "code",
   "execution_count": null,
   "metadata": {},
   "outputs": [],
   "source": [
    "def add_on(my_list, value):\n",
    "    squared_val = value**2\n",
    "    my_list.append(squared_val)"
   ]
  },
  {
   "cell_type": "code",
   "execution_count": null,
   "metadata": {},
   "outputs": [],
   "source": [
    "new_list = [33, 44, 55]\n",
    "new_list"
   ]
  },
  {
   "cell_type": "code",
   "execution_count": null,
   "metadata": {},
   "outputs": [],
   "source": [
    "add_on(new_list, 66)\n",
    "new_list"
   ]
  },
  {
   "cell_type": "markdown",
   "metadata": {},
   "source": [
    "**Note**: Some programming languages pass arguments to functions **by value** and others pass **by reference**. The following description is overly simple, but it should get the point across. Pass by value essentially means that the language sends a copy of the thing into the function. Since it's a copy, you can mess with the thing all you want inside the function and nothing changes outside the function. Pass by reference essentially means that the language passes the location of the thing; this means that if the function changes the thing, it will be changed outside the function too. Here is an analogy from [Stack Exchange](http://stackoverflow.com/questions/373419/whats-the-difference-between-passing-by-reference-vs-passing-by-value):\n",
    "\n",
    ">Say I want to share a web page with you.\n",
    "\n",
    ">If I tell you the URL, I'm passing **by reference**. You can use that URL to see the same web page I can see. If that page is changed, we both see the changes. If you delete the URL, all you're doing is destroying your reference to that page - you're not deleting the actual page itself.\n",
    "\n",
    ">If I print out the page and give you the printout, I'm passing **by value**. Your page is a disconnected copy of the original. You won't see any subsequent changes, and any changes that you make (e.g. scribbling on your printout) will not show up on the original page. If you destroy the printout, you have actually destroyed your copy of the object - but the original web page remains intact.\n",
    "\n",
    "Technically, python is neither pass by value nor pass by reference. However, you can generally think of Python as pass by reference: if you pass an object into a function, and change it within the function, then the object will be changed outside the function also. In the example above, inside the function `add_on` we're using the variable `my_list`, outside the function we're using the variable `new_list`; when we change `my_list` inside the function, it also changes `new_list` because they are the same object in RAM. Below is another example, not using functions."
   ]
  },
  {
   "cell_type": "code",
   "execution_count": null,
   "metadata": {},
   "outputs": [],
   "source": [
    "list_a = [4,9,2]\n",
    "list_a"
   ]
  },
  {
   "cell_type": "code",
   "execution_count": null,
   "metadata": {},
   "outputs": [],
   "source": [
    "list_b = list_a\n",
    "list_b"
   ]
  },
  {
   "cell_type": "code",
   "execution_count": null,
   "metadata": {},
   "outputs": [],
   "source": [
    "list_b.append(8888)\n",
    "list_b"
   ]
  },
  {
   "cell_type": "code",
   "execution_count": null,
   "metadata": {},
   "outputs": [],
   "source": [
    "list_a"
   ]
  },
  {
   "cell_type": "markdown",
   "metadata": {},
   "source": [
    "**Note**: `list_b` is `list_a`, so changing one changes the other."
   ]
  },
  {
   "cell_type": "markdown",
   "metadata": {},
   "source": [
    "**Optional**: [This link](https://www.jeffknupp.com/blog/2012/11/13/is-python-callbyvalue-or-callbyreference-neither/) goes deeper into this topic and provides more python examples. This link might be dead."
   ]
  },
  {
   "cell_type": "markdown",
   "metadata": {},
   "source": [
    "### Functions are objects"
   ]
  },
  {
   "cell_type": "markdown",
   "metadata": {},
   "source": [
    "Functions can be passed around like a string, float or any other object. This means that we can make a list that contains functions."
   ]
  },
  {
   "cell_type": "code",
   "execution_count": null,
   "metadata": {},
   "outputs": [],
   "source": [
    "greeting3('Dolly')"
   ]
  },
  {
   "cell_type": "code",
   "execution_count": null,
   "metadata": {},
   "outputs": [],
   "source": [
    "power3(4)"
   ]
  },
  {
   "cell_type": "code",
   "execution_count": null,
   "metadata": {},
   "outputs": [],
   "source": [
    "func_list = [greeting3, power3]"
   ]
  },
  {
   "cell_type": "code",
   "execution_count": null,
   "metadata": {},
   "outputs": [],
   "source": [
    "func_list[0]"
   ]
  },
  {
   "cell_type": "markdown",
   "metadata": {},
   "source": [
    "Get ready to have your mind blown..."
   ]
  },
  {
   "cell_type": "code",
   "execution_count": null,
   "metadata": {},
   "outputs": [],
   "source": [
    "func_list[0]('Dolly')"
   ]
  },
  {
   "cell_type": "markdown",
   "metadata": {},
   "source": [
    "In the cell above, when we slice out the `greeting3` function from `func_list`, we can immediately pass a value to the function. The cell below has a similar example, but without functions."
   ]
  },
  {
   "cell_type": "code",
   "execution_count": null,
   "metadata": {},
   "outputs": [],
   "source": [
    "cities = ['Miami', 'Atlanta', 'Memphis']\n",
    "cities[1].upper()"
   ]
  },
  {
   "cell_type": "markdown",
   "metadata": {},
   "source": [
    "# 5. Classes"
   ]
  },
  {
   "cell_type": "markdown",
   "metadata": {},
   "source": [
    "Python has many built in data structures like lists, sets and dictionaries, each with their own strengths.  However, there are times when a custom data structure is needed for the particular goal you are trying to achieve.  This is where classes come into play.\n",
    "\n",
    "#### Example: University registrar needs to keep track of students.  For each student they need...\n",
    "* Data\n",
    " * Name\n",
    " * Student ID number\n",
    " * Mailing address\n",
    " * email address\n",
    " * Current courses\n",
    " * Completed courses\n",
    " * ...\n",
    "* Processes\n",
    " * Add a course\n",
    " * Drop a course\n",
    " * Mail transcript\n",
    " * ...\n",
    "\n",
    "The registrar needs all of this stuff for every student.  Since it's the same for every student they have an empty shell.  When a student enters the university, the registrar starts populating the shell for that student.  Some things are known at the start (like name and mailing address) and so can be required when first filling the shell. Other things (like current courses) will be entered later.  Some of the processes and data have a relationship (e.g., you can only _drop_ a course that you already enrolled in).  Keeping all of the data and processes bundled together makes life easy when keeping track of thousands of students."
   ]
  },
  {
   "cell_type": "markdown",
   "metadata": {},
   "source": [
    "### What is an **instance** of a class?"
   ]
  },
  {
   "cell_type": "markdown",
   "metadata": {},
   "source": [
    "Example: When people apply to college they typically fill out the [FAFSA](https://en.wikipedia.org/wiki/FAFSA) to see if they're eligible for government financial assistance.  All students in the country fill out the same form, but the content of the form varies from person to person.  The form is like a **class**, it describes all the information the government wants to know about the student to determine eligibility. Each student's completed form is like an **instance** of a class since it is actually populated with information."
   ]
  },
  {
   "cell_type": "markdown",
   "metadata": {},
   "source": [
    "Let's make a couple of sets."
   ]
  },
  {
   "cell_type": "code",
   "execution_count": null,
   "metadata": {},
   "outputs": [],
   "source": [
    "a = set([4,5,6])\n",
    "a"
   ]
  },
  {
   "cell_type": "code",
   "execution_count": null,
   "metadata": {},
   "outputs": [],
   "source": [
    "b = set([2,3,4,5,6])\n",
    "b"
   ]
  },
  {
   "cell_type": "markdown",
   "metadata": {},
   "source": [
    "`a` and `b` are both sets. `a` is different from `b`, but they are both sets."
   ]
  },
  {
   "cell_type": "code",
   "execution_count": null,
   "metadata": {},
   "outputs": [],
   "source": [
    "type(a)"
   ]
  },
  {
   "cell_type": "code",
   "execution_count": null,
   "metadata": {},
   "outputs": [],
   "source": [
    "type(b)"
   ]
  },
  {
   "cell_type": "markdown",
   "metadata": {},
   "source": [
    "Let's define a class (don't worry about the syntax... yet)."
   ]
  },
  {
   "cell_type": "code",
   "execution_count": null,
   "metadata": {},
   "outputs": [],
   "source": [
    "class Car:\n",
    "    def __init__(self, make, model):\n",
    "        self.make = make\n",
    "        self.model = model"
   ]
  },
  {
   "cell_type": "markdown",
   "metadata": {},
   "source": [
    "A class is an object, so it has a type."
   ]
  },
  {
   "cell_type": "code",
   "execution_count": null,
   "metadata": {},
   "outputs": [],
   "source": [
    "type(Car)"
   ]
  },
  {
   "cell_type": "markdown",
   "metadata": {},
   "source": [
    "We can create an *instance* of a class. Again, don't worry about the syntax, but notice where `make` and `model` are in the class definition above, and how variables are passed in below. In the cell below, you can also see how we are extracting information from the class instance in order to print the information... it is the familiar *dot notation* we have already seen."
   ]
  },
  {
   "cell_type": "code",
   "execution_count": null,
   "metadata": {},
   "outputs": [],
   "source": [
    "my_car = Car('Toyota', 'Camry')\n",
    "print(my_car.make, my_car.model)"
   ]
  },
  {
   "cell_type": "code",
   "execution_count": null,
   "metadata": {},
   "outputs": [],
   "source": [
    "my_dream_car = Car('Acura', 'NSX')\n",
    "print(my_dream_car.make, my_dream_car.model)"
   ]
  },
  {
   "cell_type": "markdown",
   "metadata": {},
   "source": [
    "`my_car` and `my_dream_car` are both both instances of the class `Car`"
   ]
  },
  {
   "cell_type": "markdown",
   "metadata": {},
   "source": [
    "**Note**: We use sets because sometimes we need an object with the characteristics of a set (fast look-ups, all unique elements, etc.).  Other times we use lists, tuples, dictionaries, etc. because the task at hand requires the characteristics of those types. We create a class because we need a custom framework.  In this case I want to easily keep track of attributes specific to cars."
   ]
  },
  {
   "cell_type": "markdown",
   "metadata": {},
   "source": [
    "### Syntax"
   ]
  },
  {
   "cell_type": "markdown",
   "metadata": {},
   "source": [
    "The syntax for a class has... \n",
    "* `class` followed by the name of the class\n",
    "   * required\n",
    "* uses `self` as the first argument for each **method**\n",
    "   * technically you can use any name, but `self` is the convention\n",
    "   * methods are defined similar to functions (they start with `def`)\n",
    "* defines the **constructor** using `def __init__`  (note there are two underscores ( `_` ) on each side of `init`)\n",
    "   * when a class is called, this is the first thing that is run -> it _initializes_ the instance\n",
    "   * technically you don't need a constructor, but at this point always include one"
   ]
  },
  {
   "cell_type": "markdown",
   "metadata": {},
   "source": [
    "We'll start with the bare minimum for a class."
   ]
  },
  {
   "cell_type": "code",
   "execution_count": null,
   "metadata": {},
   "outputs": [],
   "source": [
    "class Die:\n",
    "    def __init__(self):\n",
    "        pass"
   ]
  },
  {
   "cell_type": "markdown",
   "metadata": {},
   "source": [
    "You will see below which of the two \"die\"s in the images that we're referring too."
   ]
  },
  {
   "cell_type": "markdown",
   "metadata": {},
   "source": [
    "<img src=\"http://sweaglesw.org/dicewizard/dice-icon.png\" alt=\"die\" style=\"width:200px;float:left\">\n",
    "<img src=\"http://billtammeus.typepad.com/.a/6a00d834515f9b69e2017ee3a7cc34970d-800wi\" alt=\"die\" style=\"width:300px\">"
   ]
  },
  {
   "cell_type": "markdown",
   "metadata": {},
   "source": [
    "Since the definition of `__init__` only has `self`, you can create an instance of `Die` without passing anything."
   ]
  },
  {
   "cell_type": "code",
   "execution_count": null,
   "metadata": {},
   "outputs": [],
   "source": [
    "d = Die()"
   ]
  },
  {
   "cell_type": "code",
   "execution_count": null,
   "metadata": {},
   "outputs": [],
   "source": [
    "type(d)"
   ]
  },
  {
   "cell_type": "markdown",
   "metadata": {},
   "source": [
    "The following can be more useful than `type` when inspecting a class instance."
   ]
  },
  {
   "cell_type": "code",
   "execution_count": null,
   "metadata": {},
   "outputs": [],
   "source": [
    "isinstance(d, Die)"
   ]
  },
  {
   "cell_type": "code",
   "execution_count": null,
   "metadata": {},
   "outputs": [],
   "source": [
    "print(dir(d))"
   ]
  },
  {
   "cell_type": "markdown",
   "metadata": {},
   "source": [
    "Since our `Die` class doesn't do much, `dir` does not have much interesting to tell us."
   ]
  },
  {
   "cell_type": "markdown",
   "metadata": {},
   "source": [
    "Let's revise our class to now take the parameter `sides`."
   ]
  },
  {
   "cell_type": "code",
   "execution_count": null,
   "metadata": {},
   "outputs": [],
   "source": [
    "class Die2:\n",
    "    def __init__(self, sides):\n",
    "        self.sides = sides"
   ]
  },
  {
   "cell_type": "markdown",
   "metadata": {},
   "source": [
    "**Note**: Let's break the above cell down. The first line defines the name of the class, which is `Die2`. The second line defines the `__init__` *method*, which is also called the *constructor*. The first term in a method is always `self`, the second term is the argument needed to create an instance of `Die2`. In this case, you cannot create a `Die2` instance without knowing the number of `sides`. The third line creates an *attribute* using the `self.` syntax. We create an attribute called `self.sides` from the argument `sides` (these don't need to be the same name)."
   ]
  },
  {
   "cell_type": "markdown",
   "metadata": {},
   "source": [
    "When we create an instance of `Die2`, we need to pass in the number of sides. To start off, we'll make a traditional six-sided die."
   ]
  },
  {
   "cell_type": "code",
   "execution_count": null,
   "metadata": {},
   "outputs": [],
   "source": [
    "d6 = Die2(6)"
   ]
  },
  {
   "cell_type": "code",
   "execution_count": null,
   "metadata": {},
   "outputs": [],
   "source": [
    "isinstance(d6, Die2)"
   ]
  },
  {
   "cell_type": "code",
   "execution_count": null,
   "metadata": {},
   "outputs": [],
   "source": [
    "print(dir(d6))"
   ]
  },
  {
   "cell_type": "markdown",
   "metadata": {},
   "source": [
    "**Note**: Look, there is something different from when we did `dir(d)` above!!! It is the `sides` attribute we created in the constructor. I wonder what its values is... hmmmmm..."
   ]
  },
  {
   "cell_type": "code",
   "execution_count": null,
   "metadata": {},
   "outputs": [],
   "source": [
    "d6.sides"
   ]
  },
  {
   "cell_type": "markdown",
   "metadata": {},
   "source": [
    "Our little class is still kinda boring, but we're just getting started."
   ]
  },
  {
   "cell_type": "code",
   "execution_count": null,
   "metadata": {},
   "outputs": [],
   "source": [
    "d6_alt = Die2()"
   ]
  },
  {
   "cell_type": "markdown",
   "metadata": {},
   "source": [
    "**Note**: You're probably not surprised that the above cell returned an error since you know that `Die2` *requires* that a value be passed in. However, the error might seem strange, but it is important to understand. The `__init__` method of `Die2` has two arguments: `self` and `sides`. However, when we use a method, we don't provide a value for the `self` argument (Python does it automatically); note that `__init__` is a method. But we must provide values for all of the arguments after `self`. Notice that the error gives a lot of information."
   ]
  },
  {
   "cell_type": "markdown",
   "metadata": {},
   "source": [
    "Let's redefine our class to add some functionality. This means creating *methods* in addition to the constructor."
   ]
  },
  {
   "cell_type": "markdown",
   "metadata": {},
   "source": [
    "Before we do that, let's take a walk down memory lane. Below is an example of a method you already know."
   ]
  },
  {
   "cell_type": "code",
   "execution_count": null,
   "metadata": {},
   "outputs": [],
   "source": [
    "animals = ['dog', 'cat', 'rat']"
   ]
  },
  {
   "cell_type": "code",
   "execution_count": null,
   "metadata": {},
   "outputs": [],
   "source": [
    "print(dir(animals))"
   ]
  },
  {
   "cell_type": "code",
   "execution_count": null,
   "metadata": {},
   "outputs": [],
   "source": [
    "animals.append('bat')\n",
    "animals"
   ]
  },
  {
   "cell_type": "markdown",
   "metadata": {},
   "source": [
    "**Note**: `append()` is a *method* of the list type. Classes let us define our own methods."
   ]
  },
  {
   "cell_type": "markdown",
   "metadata": {},
   "source": [
    "We will add a method to \"roll\" our die."
   ]
  },
  {
   "cell_type": "code",
   "execution_count": null,
   "metadata": {},
   "outputs": [],
   "source": [
    "import random\n",
    "class Die3:\n",
    "    def __init__(self, sides):\n",
    "        self.sides = sides\n",
    "        \n",
    "    def roll(self):\n",
    "        print(random.randint(1, self.sides))"
   ]
  },
  {
   "cell_type": "markdown",
   "metadata": {},
   "source": [
    "When the `roll` method is defined above, it starts with `self`, just like the constructor method. Also notice that we can reuse a variable from another method by making the variable an attribute. In the constructor we create an attribute `self.sides`, we then use it the `roll` method."
   ]
  },
  {
   "cell_type": "code",
   "execution_count": null,
   "metadata": {},
   "outputs": [],
   "source": [
    "d6 = Die3(6)"
   ]
  },
  {
   "cell_type": "code",
   "execution_count": null,
   "metadata": {},
   "outputs": [],
   "source": [
    "print(dir(d6))"
   ]
  },
  {
   "cell_type": "markdown",
   "metadata": {},
   "source": [
    "When we use `dir` this time, we see both the attribute `sides` and the method `roll`. `dir` does not give us any hint about which is an attribute and which is a method."
   ]
  },
  {
   "cell_type": "code",
   "execution_count": null,
   "metadata": {},
   "outputs": [],
   "source": [
    "d6.sides"
   ]
  },
  {
   "cell_type": "code",
   "execution_count": null,
   "metadata": {},
   "outputs": [],
   "source": [
    "d6.roll()"
   ]
  },
  {
   "cell_type": "markdown",
   "metadata": {},
   "source": [
    "**Action**: Keep rerunning the cell above to get different random rolls of the die."
   ]
  },
  {
   "cell_type": "markdown",
   "metadata": {},
   "source": [
    "Next, we redefine our `roll` method to take an argument"
   ]
  },
  {
   "cell_type": "code",
   "execution_count": null,
   "metadata": {},
   "outputs": [],
   "source": [
    "class Die4:\n",
    "    def __init__(self, sides):\n",
    "        self.sides = sides\n",
    "        \n",
    "    def roll(self, times):\n",
    "        for i in range(times):\n",
    "            print(random.randint(1, self.sides))"
   ]
  },
  {
   "cell_type": "markdown",
   "metadata": {},
   "source": [
    "**Note**: Look closely at the variables inside the `roll` method. Since `sides` was passed into the constructor, we need to make it an attribute (`self.sides`) to use it in `roll`. However, since `times` is part of the definition of `roll`, we can use it directly. "
   ]
  },
  {
   "cell_type": "code",
   "execution_count": null,
   "metadata": {},
   "outputs": [],
   "source": [
    "d6 = Die4(6)"
   ]
  },
  {
   "cell_type": "code",
   "execution_count": null,
   "metadata": {},
   "outputs": [],
   "source": [
    "d6.roll()"
   ]
  },
  {
   "cell_type": "markdown",
   "metadata": {},
   "source": [
    "**Action** Why did the above cell return an error? The answer is in the error message."
   ]
  },
  {
   "cell_type": "code",
   "execution_count": null,
   "metadata": {},
   "outputs": [],
   "source": [
    "d6.roll(2)"
   ]
  },
  {
   "cell_type": "markdown",
   "metadata": {},
   "source": [
    "__Action__: You can keep running the above cell to get different rolls of the die, and different numbers of rolls each time. Personally, I like [Farkle](https://en.wikipedia.org/wiki/Farkle), which requires 6 dice."
   ]
  },
  {
   "cell_type": "markdown",
   "metadata": {},
   "source": [
    "In the cell below, you can see what happens when you forget to use `self` as the first parameter to a method. Notice that the `roll` method doesn't have `self`."
   ]
  },
  {
   "cell_type": "code",
   "execution_count": null,
   "metadata": {},
   "outputs": [],
   "source": [
    "class Die5:\n",
    "    def __init__(self, sides):\n",
    "        self.sides = sides\n",
    "        \n",
    "    def roll(times):\n",
    "        for i in range(times):\n",
    "            print(random.randint(1, self.sides))"
   ]
  },
  {
   "cell_type": "code",
   "execution_count": null,
   "metadata": {},
   "outputs": [],
   "source": [
    "d6_alt = Die5(6)"
   ]
  },
  {
   "cell_type": "markdown",
   "metadata": {},
   "source": [
    "There is no problem creating an instance of `Die5` in the cell above since the constructor has `self`."
   ]
  },
  {
   "cell_type": "code",
   "execution_count": null,
   "metadata": {},
   "outputs": [],
   "source": [
    "d6_alt.roll(2)"
   ]
  },
  {
   "cell_type": "markdown",
   "metadata": {},
   "source": [
    "**Note**: This error should look strange give the error a few cells above. Now it says, that the method takes `1 argument`, but `2 given`.  The `roll` method doesn't have `self` as the first argument, therefore, calls to `roll` will generate an error since the `self` argument is implicitly sent to the method along with the `2`."
   ]
  },
  {
   "cell_type": "markdown",
   "metadata": {},
   "source": [
    "Generate a few instances of the class using [Dungeons and Dragons](https://en.wikipedia.org/wiki/Dungeons_%26_Dragons) dice."
   ]
  },
  {
   "cell_type": "markdown",
   "metadata": {},
   "source": [
    "<img src=\"http://dragonsdengames.com/wp-content/uploads/2013/06/dice.jpg\" alt=\"dice\" style=\"width:300px\">"
   ]
  },
  {
   "cell_type": "markdown",
   "metadata": {},
   "source": [
    "A list containing the number of sides each die has."
   ]
  },
  {
   "cell_type": "code",
   "execution_count": null,
   "metadata": {},
   "outputs": [],
   "source": [
    "dnd_dice_sides = [4, 6, 8, 10, 12, 20]"
   ]
  },
  {
   "cell_type": "markdown",
   "metadata": {},
   "source": [
    "Populate another list with instances of the class `Die4`."
   ]
  },
  {
   "cell_type": "code",
   "execution_count": null,
   "metadata": {},
   "outputs": [],
   "source": [
    "dnd_dice = []\n",
    "for sides in dnd_dice_sides:\n",
    "    dnd_dice.append(Die4(sides))"
   ]
  },
  {
   "cell_type": "code",
   "execution_count": null,
   "metadata": {},
   "outputs": [],
   "source": [
    "dnd_dice"
   ]
  },
  {
   "cell_type": "markdown",
   "metadata": {},
   "source": [
    "Any particular die can be sliced out of the list of `Die4` instances."
   ]
  },
  {
   "cell_type": "code",
   "execution_count": null,
   "metadata": {},
   "outputs": [],
   "source": [
    "dnd_dice[0]"
   ]
  },
  {
   "cell_type": "markdown",
   "metadata": {},
   "source": [
    "...and its attributes and methods can be accessed."
   ]
  },
  {
   "cell_type": "code",
   "execution_count": null,
   "metadata": {},
   "outputs": [],
   "source": [
    "print(dnd_dice[0].sides)"
   ]
  },
  {
   "cell_type": "code",
   "execution_count": null,
   "metadata": {},
   "outputs": [],
   "source": [
    "d0 = dnd_dice[0]\n",
    "d0.sides"
   ]
  },
  {
   "cell_type": "markdown",
   "metadata": {},
   "source": [
    "The list `dnd_dice` is like any other list, so it can be looped over."
   ]
  },
  {
   "cell_type": "code",
   "execution_count": null,
   "metadata": {},
   "outputs": [],
   "source": [
    "for die in dnd_dice:\n",
    "    print(type(die))"
   ]
  },
  {
   "cell_type": "code",
   "execution_count": null,
   "metadata": {},
   "outputs": [],
   "source": [
    "for die in dnd_dice:\n",
    "    print('number of sides:', die.sides)\n",
    "    die.roll(2)"
   ]
  },
  {
   "cell_type": "markdown",
   "metadata": {},
   "source": [
    "# 6. Test Yourself"
   ]
  },
  {
   "cell_type": "markdown",
   "metadata": {},
   "source": [
    "1) Fix the error in the cell below. HINT: run the cell to get an idea of the problem."
   ]
  },
  {
   "cell_type": "code",
   "execution_count": null,
   "metadata": {},
   "outputs": [],
   "source": [
    "def multiplier(a=4, b):\n",
    "    return a * b"
   ]
  },
  {
   "cell_type": "markdown",
   "metadata": {},
   "source": [
    "---"
   ]
  },
  {
   "cell_type": "markdown",
   "metadata": {},
   "source": [
    "2) Using python syntax, extract `dodge` from the variable `cars`."
   ]
  },
  {
   "cell_type": "code",
   "execution_count": null,
   "metadata": {},
   "outputs": [],
   "source": [
    "def yet_another_function():\n",
    "    return ['ford', 'chevy', 'dodge'], ['vw', 'audi', 'bmw']\n",
    "cars = yet_another_function()\n",
    "print cars"
   ]
  },
  {
   "cell_type": "markdown",
   "metadata": {},
   "source": [
    "---"
   ]
  },
  {
   "cell_type": "markdown",
   "metadata": {},
   "source": [
    "3) To run the `repeat` function below, the `var_a` argument is expecting a _string_ and the `var_b` argument is expecting an _integer_. Run the function."
   ]
  },
  {
   "cell_type": "code",
   "execution_count": null,
   "metadata": {},
   "outputs": [],
   "source": [
    "def repeat(var_a, var_b):\n",
    "    '''\n",
    "    a: string\n",
    "       The string you want capitalized and then printed\n",
    "    b: integer\n",
    "       The number of times you want to print a\n",
    "    '''\n",
    "    for i in range(var_b):\n",
    "        print(var_a.upper())"
   ]
  },
  {
   "cell_type": "code",
   "execution_count": null,
   "metadata": {},
   "outputs": [],
   "source": []
  },
  {
   "cell_type": "markdown",
   "metadata": {},
   "source": [
    "---"
   ]
  },
  {
   "cell_type": "markdown",
   "metadata": {},
   "source": [
    "4) The following cell defines the `Classy` class and then creates an _instance_ of the class called `some_text`. Notice that the class has a _method_ called `repeat` which takes an integer argument `var_b`. Call (or \"run\") the `repeat` method of the instance `some_text`."
   ]
  },
  {
   "cell_type": "code",
   "execution_count": null,
   "metadata": {},
   "outputs": [],
   "source": [
    "class Classy:\n",
    "    def __init__(self, var_a):\n",
    "        self.a = var_a\n",
    "    def repeat(self, var_b):\n",
    "        for i in range(var_b):\n",
    "            print(self.a)\n",
    "some_text = Classy(\"I heart GIS\")"
   ]
  },
  {
   "cell_type": "code",
   "execution_count": null,
   "metadata": {},
   "outputs": [],
   "source": []
  },
  {
   "cell_type": "markdown",
   "metadata": {},
   "source": [
    "---"
   ]
  },
  {
   "cell_type": "markdown",
   "metadata": {},
   "source": [
    "5) For each scenario below state if a \"class\" or \"function\" would be preferred."
   ]
  },
  {
   "cell_type": "markdown",
   "metadata": {},
   "source": [
    "a) I want to keep track of the names and ages of all my cats."
   ]
  },
  {
   "cell_type": "markdown",
   "metadata": {
    "collapsed": true
   },
   "source": [
    "[double click to type answer]"
   ]
  },
  {
   "cell_type": "markdown",
   "metadata": {},
   "source": [
    "b) I have an equation that gives an estimate of pine tree's hight based on its diameter."
   ]
  },
  {
   "cell_type": "markdown",
   "metadata": {
    "collapsed": true
   },
   "source": [
    "[double click to type answer]"
   ]
  },
  {
   "cell_type": "markdown",
   "metadata": {},
   "source": [
    "c) Given a city name, I want to download three weather variables from NOAA's API."
   ]
  },
  {
   "cell_type": "markdown",
   "metadata": {
    "collapsed": true
   },
   "source": [
    "[double click to type answer]"
   ]
  },
  {
   "cell_type": "markdown",
   "metadata": {},
   "source": [
    "d) A small business is expanding and needs a system for organizing human resources data on its employees."
   ]
  },
  {
   "cell_type": "markdown",
   "metadata": {
    "collapsed": true
   },
   "source": [
    "[double click to type answer]"
   ]
  },
  {
   "cell_type": "markdown",
   "metadata": {},
   "source": [
    "---"
   ]
  },
  {
   "cell_type": "markdown",
   "metadata": {},
   "source": [
    "6) Write a function that takes three numbers, and returns their sum. HINT: don't call your function `sum` or you will overwrite the built in `sum` function (see the first tutorial)."
   ]
  },
  {
   "cell_type": "code",
   "execution_count": null,
   "metadata": {},
   "outputs": [],
   "source": []
  },
  {
   "cell_type": "markdown",
   "metadata": {},
   "source": [
    "---"
   ]
  },
  {
   "cell_type": "markdown",
   "metadata": {},
   "source": [
    "7) Remember the questions you were asked to write down on a 3x5 card the first day of class? Make a python `class` for a GIS Programming Student. As a refresher... here is a subset of the questions to practice with:\n",
    "\n",
    "- Your name in the university directory\n",
    "- Preferred name you go by\n",
    "- Undergrad university\n",
    "- Programming languages you have tried\n",
    "- Statistical software you have tried\n",
    "\n",
    "This was the minimum information your instructor needed to know for you to start the class, so these would all go in the \"constructor.\" The code in the following cell is intended to get you started."
   ]
  },
  {
   "cell_type": "code",
   "execution_count": null,
   "metadata": {},
   "outputs": [],
   "source": [
    "class Student:\n",
    "    def __init__("
   ]
  },
  {
   "cell_type": "markdown",
   "metadata": {},
   "source": [
    "---"
   ]
  },
  {
   "cell_type": "markdown",
   "metadata": {},
   "source": [
    "8) In the previous question you in effect _designed_ a python `class` called `Student`. For this question, you need to create an _instance_ of the `Student` class using your information. \n",
    "\n",
    "Remember that picking the appropriate _data structure_ is an important part of programming. Pay close attention to each question you were asked to answer when starting the course. Some of these questions have a single answer (e.g., your name), but others might have multiple answers for some students (e.g., previous programming languages). The class you created and the responses should be generic for students with diverse backgrounds."
   ]
  },
  {
   "cell_type": "code",
   "execution_count": null,
   "metadata": {},
   "outputs": [],
   "source": []
  },
  {
   "cell_type": "markdown",
   "metadata": {},
   "source": [
    "---"
   ]
  },
  {
   "cell_type": "markdown",
   "metadata": {},
   "source": [
    "9) Print your name using the instance of the class you created in the previous question."
   ]
  },
  {
   "cell_type": "code",
   "execution_count": null,
   "metadata": {},
   "outputs": [],
   "source": []
  }
 ],
 "metadata": {
  "anaconda-cloud": {},
  "kernelspec": {
   "display_name": "Python 2",
   "language": "python",
   "name": "python2"
  },
  "language_info": {
   "codemirror_mode": {
    "name": "ipython",
    "version": 2
   },
   "file_extension": ".py",
   "mimetype": "text/x-python",
   "name": "python",
   "nbconvert_exporter": "python",
   "pygments_lexer": "ipython2",
   "version": "2.7.16"
  }
 },
 "nbformat": 4,
 "nbformat_minor": 1
}
