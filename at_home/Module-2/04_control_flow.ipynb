{
 "cells": [
  {
   "cell_type": "markdown",
   "metadata": {},
   "source": [
    "# 1. This Week"
   ]
  },
  {
   "cell_type": "markdown",
   "metadata": {},
   "source": [
    "* `if` statements\n",
    "* Indentation\n",
    "* Truth Telling\n",
    "* `while` loops\n",
    "* `for` loops\n",
    "* Tips and tricks"
   ]
  },
  {
   "cell_type": "markdown",
   "metadata": {},
   "source": [
    "# 2. Flow Control"
   ]
  },
  {
   "cell_type": "markdown",
   "metadata": {},
   "source": [
    "* Real world problems are full of conditions...\n",
    " * if this, then do that, otherwise do something else\n",
    "* Computers are great at repetitive tasks...\n",
    " * repeat the same job on each item\n",
    " * keep doing the job until it's done\n",
    "* This means that a script needs the ability to branch, loop back around, test conditions, etc.\n",
    "* The default for Python is to march through the script line-by-line, executing each line as it comes to it.  This is the **flow**.\n",
    "* Today, we will **control** the flow of the script."
   ]
  },
  {
   "cell_type": "markdown",
   "metadata": {},
   "source": [
    "This graphic provides a schematic view of the types of flow control we'll cover in this Notebook.\n",
    "\n",
    "<img src=\"http://docs.oracle.com/cd/B28359_01/appdev.111/b28370/img/lnpls008.gif\" alt=\"Flow Control\" style=\"width:600px\">"
   ]
  },
  {
   "cell_type": "markdown",
   "metadata": {},
   "source": [
    "# 3. if... elif... else"
   ]
  },
  {
   "cell_type": "markdown",
   "metadata": {},
   "source": [
    "* Allow your code to make choices.\n",
    "* Insert a test; \"if\" the test is true do some stuff."
   ]
  },
  {
   "cell_type": "markdown",
   "metadata": {},
   "source": [
    "### A small example from the craps table.  <img src=\"https://www.casino.org/i/craps_table_large.png\" alt=\"craps\" style=\"width:500px\">"
   ]
  },
  {
   "cell_type": "code",
   "execution_count": null,
   "metadata": {},
   "outputs": [],
   "source": [
    "import random"
   ]
  },
  {
   "cell_type": "markdown",
   "metadata": {},
   "source": [
    "Craps is a game of chance played with two standard six-sided dice on a table like the one pictured above. One person rolls the dice, but anybody can place bets on the outcome of the \"shooter's\" roll."
   ]
  },
  {
   "cell_type": "markdown",
   "metadata": {},
   "source": [
    "Each time you run the cell below, you'll get an integer between 2 and 12, i.e., the possible values from summing two dice. So, [let's have a little fun, shall we](https://youtu.be/fZI4URR8u28)?"
   ]
  },
  {
   "cell_type": "code",
   "execution_count": null,
   "metadata": {},
   "outputs": [],
   "source": [
    "# roll two dice\n",
    "roll = random.randint(1,6) + random.randint(1,6)\n",
    "roll"
   ]
  },
  {
   "cell_type": "markdown",
   "metadata": {},
   "source": [
    "There are MANY bets available on the craps table, but for this example we'll confine ourselves to the \"Pass Line\" (see image above). A pass line payout is 1-to-1: meaning that if you win on a \\$5 bet, the house pays you \\$5. By the way, this is one of the best bets for gamblers in Las Vegas in terms of the house advantage. \n",
    "\n",
    "There are three possible outcomes from the initial roll:\n",
    " * Natural: `7` or `11` - you win immediately\n",
    " * Crap Out: `2`, `3` or `12` - you lose immediately\n",
    " * Any other result sets the \"point\" at that number - you roll again\n",
    " \n",
    "The following cell codes up these possibilities. While this cell introduces `if`, `elif` and `else` statements, the majority of the syntax is stuff you've already seen in previous weeks."
   ]
  },
  {
   "cell_type": "code",
   "execution_count": null,
   "metadata": {},
   "outputs": [],
   "source": [
    "roll_again = False\n",
    "if roll in [2, 3, 12]:\n",
    "    print(\"crap out - you lose\")\n",
    "elif roll in [7, 11]:\n",
    "    print(\"natural - you win\")\n",
    "else:\n",
    "    roll_again = True\n",
    "    print(\"the point is \" + str(roll) + ' - roll again')"
   ]
  },
  {
   "cell_type": "markdown",
   "metadata": {},
   "source": [
    "If the point is set, then the shooter keeps rolling until s/he rolls the point again, and is thus a winner; or rolls a `7` and loses.\n",
    "\n",
    "Notice in the above cell we initially set a variable named `roll_again` to `False`, and then flip this to `True` if we don't crap out or hit a natural. We'll use that variable in the next cell as the trigger to determine if we are allowed to roll again."
   ]
  },
  {
   "cell_type": "code",
   "execution_count": null,
   "metadata": {},
   "outputs": [],
   "source": [
    "if roll_again == True:\n",
    "    roll2 = random.randint(1,6) + random.randint(1,6)\n",
    "    if roll2 == 7:\n",
    "        roll_again = False\n",
    "        print(\" you rolled a 7 - you lose \\n go back to the initial roll to start again\")\n",
    "    elif roll2 == roll:\n",
    "        roll_again = False\n",
    "        print(\" you rolled the point (\" + str(roll) + \") - you win \\n go back to the initial roll to start again\")\n",
    "    else:\n",
    "        print(\" you rolled \" + str(roll2) + \" - roll again \\n run this cell again\")\n",
    "else:\n",
    "    print(\" this round is over \\n go back to the initial roll to start again\")"
   ]
  },
  {
   "cell_type": "markdown",
   "metadata": {},
   "source": [
    "**Note**: In the cell above there are nested conditional statements, meaning that we only need to check for the results of the second roll if the shooter is eligible to roll again.  Also, pay attention to the variable `roll_again`, this variable keeps track of when the shooter is eligible for another roll."
   ]
  },
  {
   "cell_type": "markdown",
   "metadata": {},
   "source": [
    "**Action**: Be sure that you understand what is happening in the above cells. Start back at the cell with the `# roll two dice` comment and play again. Unlike in Las Vegas, you can keep playing this version of craps as long as you want, and [never lose money](https://youtu.be/k5ktFxCRKKk)!"
   ]
  },
  {
   "cell_type": "markdown",
   "metadata": {},
   "source": [
    "### The fun is over, let's get back to work!"
   ]
  },
  {
   "cell_type": "markdown",
   "metadata": {},
   "source": [
    "Conditional statements always begin with an `if`; they never *start* with `elif` or `else`.  This means that you can have just an `if` statement as in the example below."
   ]
  },
  {
   "cell_type": "code",
   "execution_count": null,
   "metadata": {},
   "outputs": [],
   "source": [
    "x = random.randint(0,5)\n",
    "print(x)\n",
    "if x > 2:\n",
    "    print('got it')"
   ]
  },
  {
   "cell_type": "markdown",
   "metadata": {},
   "source": [
    "**Action**: When you see a call to `random` you can rerun the cell to get different results. Rerun the above cell multiple times to see the different outcomes."
   ]
  },
  {
   "cell_type": "markdown",
   "metadata": {},
   "source": [
    "You can only have one `if` statement, but you can have many `elif` statements.  Each `elif` statement has its own test."
   ]
  },
  {
   "cell_type": "code",
   "execution_count": null,
   "metadata": {},
   "outputs": [],
   "source": [
    "x = random.randint(0,5)\n",
    "print(x)\n",
    "if x == 0:\n",
    "    print(\"x equals 0\")\n",
    "elif x == 1:\n",
    "    print(\"x equals 1\")\n",
    "elif x == 2:\n",
    "    print(\"x equals 2\") \n",
    "elif x == 3:\n",
    "    print(\"x equals 3\")\n",
    "else:\n",
    "    print(\"x greater than 3\")"
   ]
  },
  {
   "cell_type": "markdown",
   "metadata": {},
   "source": [
    "**Note**: The `else` statement always goes last, and does not have a test. It essentially means \"anything else.\""
   ]
  },
  {
   "cell_type": "markdown",
   "metadata": {},
   "source": [
    "Let's recap. Here are the possible cases:\n",
    " * `if`\n",
    " * `if... elif`\n",
    " * `if... elif... elif`\n",
    " * `if... elif... else`\n",
    " * `if... elif... elif... else`\n",
    " * `if... else`"
   ]
  },
  {
   "cell_type": "markdown",
   "metadata": {},
   "source": [
    "The conditional statements stop running when the first true test is reached. Tests are tried in order; as soon as one test is true, its block of statements is executed, and no other branch is tested."
   ]
  },
  {
   "cell_type": "code",
   "execution_count": null,
   "metadata": {},
   "outputs": [],
   "source": [
    "x = 7\n",
    "if x == 7:\n",
    "    print(\"x equals 7\")\n",
    "elif x > 6:\n",
    "    print(\"x greater than 6\")"
   ]
  },
  {
   "cell_type": "markdown",
   "metadata": {},
   "source": [
    "**Action**: Look very closely at the code in the cell above. When `x=7`, both the `if` test and the `elif` test are true... `x` is equal to `7` AND it's greater than `6`. However, the code inside the `elif` never runs. This is because the conditional statements stop running when the first test that evaluates to true is reached. "
   ]
  },
  {
   "cell_type": "markdown",
   "metadata": {},
   "source": [
    "You can have as many lines as you want in the code block after the test."
   ]
  },
  {
   "cell_type": "code",
   "execution_count": null,
   "metadata": {},
   "outputs": [],
   "source": [
    "x = random.randint(0,10)\n",
    "print(x)\n",
    "if x > 5:\n",
    "    y = x**2\n",
    "    print(y)\n",
    "else:\n",
    "    y = x**3\n",
    "    print(y)"
   ]
  },
  {
   "cell_type": "markdown",
   "metadata": {},
   "source": [
    "# 4. Indentation"
   ]
  },
  {
   "cell_type": "markdown",
   "metadata": {},
   "source": [
    "In most programming languages, indentation is a *recommended* practice to help keep your code organized. Typically a code block, or set of related statements that are subordinate to some preceding statement, are indented. In python this type of indentation is *required*. Some people argue that this required indentation makes python code easier to read... some people don't like being told what to do... you can't make everyone happy."
   ]
  },
  {
   "cell_type": "markdown",
   "metadata": {},
   "source": [
    "* Syntax\n",
    " * A colon (`:`) at the end of a line starts a code block (__Be careful with these. Omitting a `:` is a frequent cause of errors.__)\n",
    " * The next line (i.e., the first line of the code block) must be indented\n",
    " * All subsequent lines in the code block must have the __same__ indentation level\n",
    " * The code block ends on the first line that is not indented\n",
    "* Other languages demarcate code blocks with curly braces (`{}`) or words like `begin`/`end`.\n",
    "* Indentation is easy to identify visually, which makes code easier to debug -> remember trying to figure out the `[[[]]]` syntax in the nested lists of state and county names? Imagine if all your code was organized like this.\n",
    "* Every line within a particular code block must be indented the same.\n",
    "* You can choose how and how much to indent.\n",
    " * Spaces or tabs work\n",
    " * The Python style guide recommends 4 spaces; i.e., tabs are strongly discouraged in Python\n",
    " * Be wary of the tab key!!! In some text editors it will insert a `<tab>` character, in others it will insert a block of spaces (typically 4).\n",
    " * You cannot mix-and-match tabs and spaces in one code block\n",
    " * [People take this very seriously](https://youtu.be/SsoOG6ZeyUI)"
   ]
  },
  {
   "cell_type": "markdown",
   "metadata": {},
   "source": [
    "The indentation rules you see above and in the following examples of `if`... `else` statements will be the same for the loops you'll see later in this Notebook and for functions and classes that will come in a couple weeks."
   ]
  },
  {
   "cell_type": "code",
   "execution_count": null,
   "metadata": {},
   "outputs": [],
   "source": [
    "x = 10\n",
    "if x > 5:\n",
    "    print(\"it's bigger than 5\")\n",
    "     print(\"seriously, it's a big number\")"
   ]
  },
  {
   "cell_type": "markdown",
   "metadata": {},
   "source": [
    "**Action**: The cell above has an error, the cell below does not. Notice the difference in indentation."
   ]
  },
  {
   "cell_type": "code",
   "execution_count": null,
   "metadata": {},
   "outputs": [],
   "source": [
    "x = 10\n",
    "if x > 5:\n",
    "    print(\"it's bigger than 5\")\n",
    "    print(\"seriously, it's a big number\")"
   ]
  },
  {
   "cell_type": "markdown",
   "metadata": {},
   "source": [
    "The style guide says to indent each block 4 spaces. However, you can indent the code as much as you'd like, as in the cell below."
   ]
  },
  {
   "cell_type": "code",
   "execution_count": null,
   "metadata": {},
   "outputs": [],
   "source": [
    "x = 10\n",
    "if x > 5:\n",
    "                                     print(\"it's bigger than 5\")\n",
    "                                     print(\"seriously, it's a big number\")"
   ]
  },
  {
   "cell_type": "markdown",
   "metadata": {},
   "source": [
    "Code blocks can be nested within each other."
   ]
  },
  {
   "cell_type": "code",
   "execution_count": null,
   "metadata": {},
   "outputs": [],
   "source": [
    "x = 10\n",
    "if x > 5:\n",
    "    print(\"it's bigger than 5\")\n",
    "    print(\"seriously, it's a big number\")\n",
    "    if x > 9:\n",
    "        print(\"okay, now that is a really big number\")\n",
    "        print(\"blah, blah, blah\")"
   ]
  },
  {
   "cell_type": "markdown",
   "metadata": {},
   "source": [
    "The rule is that any one code block must have the same indentation. Different code blocks can use different amounts of indentation. In the example below, the first block is indented 4 spaces, but the second block is indented only 2."
   ]
  },
  {
   "cell_type": "code",
   "execution_count": null,
   "metadata": {},
   "outputs": [],
   "source": [
    "x = 10\n",
    "if x > 5:\n",
    "    print(\"it's bigger than 5\")\n",
    "    print(\"seriously, it's a big number\")\n",
    "    if x > 9:\n",
    "      print(\"okay, now that is a really big number\")\n",
    "      print(\"blah, blah, blah\")\n",
    "    print(\"resume the previous code block\")"
   ]
  },
  {
   "cell_type": "markdown",
   "metadata": {},
   "source": [
    "**Action**: In the cell above, what do you think will be printed if `x` equals `8`? Really, stop and look at the code. Okay, _now_ change `x` to `8` and see what happens. What will print if `x` is `4`? Keep changing the value of `x` until you are clear on what is going on in this cell."
   ]
  },
  {
   "cell_type": "markdown",
   "metadata": {},
   "source": [
    "**Action**: Python is serious about its syntax. What is causing the errors in each of the following examples? Are you able to correct them?"
   ]
  },
  {
   "cell_type": "code",
   "execution_count": null,
   "metadata": {},
   "outputs": [],
   "source": [
    "x = 10\n",
    "if x > 5:\n",
    "print(\"it's bigger than 5\")"
   ]
  },
  {
   "cell_type": "code",
   "execution_count": null,
   "metadata": {},
   "outputs": [],
   "source": [
    "x = 10\n",
    "if x > 5\n",
    "    print(\"it's bigger than 5\")"
   ]
  },
  {
   "cell_type": "code",
   "execution_count": null,
   "metadata": {},
   "outputs": [],
   "source": [
    "x = 10\n",
    "x > 5:\n",
    "    print(\"it's bigger than 5\")"
   ]
  },
  {
   "cell_type": "markdown",
   "metadata": {},
   "source": [
    "# 5. Truth Telling"
   ]
  },
  {
   "cell_type": "markdown",
   "metadata": {},
   "source": [
    "* We have seen a lot of python object types in this first few weeks: strings, lists, floats, sets, etc. Another type is a *Boolean*, which consists of `True` and `False`.\n",
    "* Although python has this specific type for truth telling, lots of things **evaluate** to \"false\". For example:\n",
    " * `False`\n",
    " * `None`\n",
    " * zero for a numeric type: `0, 0.0`\n",
    " * an empty sequence or container: `\"\", [], (), {}`\n",
    "* Everything else is \"true\""
   ]
  },
  {
   "cell_type": "markdown",
   "metadata": {},
   "source": [
    "Here are our Boolean types."
   ]
  },
  {
   "cell_type": "code",
   "execution_count": null,
   "metadata": {},
   "outputs": [],
   "source": [
    "type(True)"
   ]
  },
  {
   "cell_type": "code",
   "execution_count": null,
   "metadata": {},
   "outputs": [],
   "source": [
    "type(False)"
   ]
  },
  {
   "cell_type": "markdown",
   "metadata": {},
   "source": [
    "As always spelling and capitalization matters, so these won't work:"
   ]
  },
  {
   "cell_type": "code",
   "execution_count": null,
   "metadata": {},
   "outputs": [],
   "source": [
    "type(true)"
   ]
  },
  {
   "cell_type": "code",
   "execution_count": null,
   "metadata": {},
   "outputs": [],
   "source": [
    "type(TRUE)"
   ]
  },
  {
   "cell_type": "markdown",
   "metadata": {},
   "source": [
    "We have already seen this kind of evaluation a few times over the first few weeks of the course:"
   ]
  },
  {
   "cell_type": "code",
   "execution_count": null,
   "metadata": {},
   "outputs": [],
   "source": [
    "if 10 > 5:\n",
    "    print('got it')"
   ]
  },
  {
   "cell_type": "markdown",
   "metadata": {},
   "source": [
    "Notice what the following cell returns:"
   ]
  },
  {
   "cell_type": "code",
   "execution_count": null,
   "metadata": {},
   "outputs": [],
   "source": [
    "10 > 5"
   ]
  },
  {
   "cell_type": "code",
   "execution_count": null,
   "metadata": {},
   "outputs": [],
   "source": [
    "if True: \n",
    "    print('got it')"
   ]
  },
  {
   "cell_type": "markdown",
   "metadata": {},
   "source": [
    "**Action:** Look at the last three cells, and notice the relationship between them. The first cell should be pretty clear by now: since 10 is greater than 5, the print statement runs.  But what is the computer responding to? Why does the computer run the print statement? Answer: because `10 > 5` \"evaluates\" to `True` (this is what is being shown in the second cell above). Therefore, we can just plug `True` into the `if` statement and it will run (i.e., the third cell above).  Recall that an `if` statement will execute its code block if the test evaluates to `True`. In fact, *anything* that evaluates to `True` will cause the `if` statement to run."
   ]
  },
  {
   "cell_type": "markdown",
   "metadata": {},
   "source": [
    "**Action:** Reread the beginning of this section on \"Truth Telling\" regarding what evaluates to `False` and what evaluates to `True`."
   ]
  },
  {
   "cell_type": "markdown",
   "metadata": {},
   "source": [
    "Do you understand how \"truth\" works in python? Great! Time to prove it. Before running each of the cells below, determine if something will print or not. No cheating!!!"
   ]
  },
  {
   "cell_type": "code",
   "execution_count": null,
   "metadata": {},
   "outputs": [],
   "source": [
    "if False: \n",
    "    print('got it')"
   ]
  },
  {
   "cell_type": "code",
   "execution_count": null,
   "metadata": {},
   "outputs": [],
   "source": [
    "if (): \n",
    "    print('got it')"
   ]
  },
  {
   "cell_type": "code",
   "execution_count": null,
   "metadata": {},
   "outputs": [],
   "source": [
    "if (3,4,5): \n",
    "    print('got it')"
   ]
  },
  {
   "cell_type": "code",
   "execution_count": null,
   "metadata": {},
   "outputs": [],
   "source": [
    "if []: \n",
    "    print('got it')"
   ]
  },
  {
   "cell_type": "code",
   "execution_count": null,
   "metadata": {},
   "outputs": [],
   "source": [
    "if [3,4,5]: \n",
    "    print('got it')"
   ]
  },
  {
   "cell_type": "code",
   "execution_count": null,
   "metadata": {},
   "outputs": [],
   "source": [
    "if 0: \n",
    "    print('got it')"
   ]
  },
  {
   "cell_type": "code",
   "execution_count": null,
   "metadata": {},
   "outputs": [],
   "source": [
    "if 23: \n",
    "    print('got it')"
   ]
  },
  {
   "cell_type": "code",
   "execution_count": null,
   "metadata": {},
   "outputs": [],
   "source": [
    "if \"\": \n",
    "    print('got it')"
   ]
  },
  {
   "cell_type": "code",
   "execution_count": null,
   "metadata": {},
   "outputs": [],
   "source": [
    "if \"dog\": \n",
    "    print('got it')"
   ]
  },
  {
   "cell_type": "code",
   "execution_count": null,
   "metadata": {},
   "outputs": [],
   "source": [
    "if None:\n",
    "    print('got it')\n",
    "else:\n",
    "    print('do some stuff')"
   ]
  },
  {
   "cell_type": "markdown",
   "metadata": {},
   "source": [
    "**Action**: There were 10 examples above, how did you do? If you are saying to yourself, \"I wonder what would happen if you did ---------?\"; then insert a new cell below and test it!"
   ]
  },
  {
   "cell_type": "markdown",
   "metadata": {},
   "source": [
    "# 6. While Loops"
   ]
  },
  {
   "cell_type": "markdown",
   "metadata": {},
   "source": [
    "* Keep doing something **while** the condition is true\n",
    "  * The `while` loop starts with a statement that looks similar to the tests in the `if` statement examples seen in the sections above.\n",
    "  * The code block below the `while` statement test will keep running until the test evaluates to `False`.\n",
    "  * Therefore, something inside the code block must have an impact on that test or the `while` loop will run forever."
   ]
  },
  {
   "cell_type": "markdown",
   "metadata": {},
   "source": [
    "### A little example using a dial lock. <img src=\"http://www.postergarden.com/images/travel-smart-travel-sentry-dial-combination-lock_345.jpg\" alt=\"Lock\" style=\"width:300px\">"
   ]
  },
  {
   "cell_type": "markdown",
   "metadata": {},
   "source": [
    "The combination to unlock the lock in the photo above is `3456`. The dials are currently set to `8649`. The cell below kind of mimics what is happening inside this lock. Each time a person tries a combination, the lock evaluates this input, and determines if the lock should open based on that input. In some respects the lock is forever waiting for someone to enter the correct combination. A `while` loop can be used to get a computer to just wait for input like this mechanical lock is doing. "
   ]
  },
  {
   "cell_type": "code",
   "execution_count": null,
   "metadata": {},
   "outputs": [],
   "source": [
    "combo_to_unlock = 3456\n",
    "current_combo = 8649\n",
    "print(\"status: LOCKED\")\n",
    "while current_combo != combo_to_unlock:\n",
    "    current_combo = input(\"Enter combo: \")\n",
    "    current_combo = int(current_combo)\n",
    "print(\"status: UNLOCKED\")"
   ]
  },
  {
   "cell_type": "markdown",
   "metadata": {},
   "source": [
    "**Warning**: This entire Notebook will be locked up until you enter the correct combination: `3456`."
   ]
  },
  {
   "cell_type": "markdown",
   "metadata": {},
   "source": [
    "Let's break down the seven lines in the cell above...\n",
    "1. define the actual combination\n",
    "2. set a starting value for the current combo (note: if no initial value is set, then line 4 will fail because it uses the variable `current_combo`)\n",
    "3. `print` statement on the current status\n",
    "4. we want this `while` loop to keep running as long as the current combination does not match the actual combination\n",
    "5. ask the user to enter a combo (the only reason we would ever get to this line is if line 4 evaluates to `True`)\n",
    "6. we set the current combo to the value entered by the user (since we're at the end of the code block now, the next line to run will be line 4, which is the `while` loop test)\n",
    "7. `print` statement on the current status (when the test on line 4 evaluates to `False`, then the `while` loop block is skipped and this line runs)"
   ]
  },
  {
   "cell_type": "markdown",
   "metadata": {},
   "source": [
    "**Action**: Read the code in the example below before running it. What do you think will print?"
   ]
  },
  {
   "cell_type": "code",
   "execution_count": null,
   "metadata": {},
   "outputs": [],
   "source": [
    "x = 5\n",
    "print(x)\n",
    "while x > 0:\n",
    "    x -= 1\n",
    "    print(x)"
   ]
  },
  {
   "cell_type": "markdown",
   "metadata": {},
   "source": [
    "`while` loops keep running until the test evaluates to `False`. This means your loop could run forever, as in the following example."
   ]
  },
  {
   "cell_type": "code",
   "execution_count": null,
   "metadata": {},
   "outputs": [],
   "source": [
    "import time\n",
    "x = 5\n",
    "print(x)\n",
    "while x > 0:\n",
    "    print(x)\n",
    "    time.sleep(3)"
   ]
  },
  {
   "cell_type": "markdown",
   "metadata": {},
   "source": [
    "Oh no... we're in an infinite loop!!!!  Luckily this one is [moving slowly](https://youtu.be/OdctnPIR5kA).  What should we do???\n",
    "\n",
    "To stop an infinite loop:\n",
    "* In the Notebook: Look at the top of the page, and click `Kernel` -> `Interrupt`\n",
    "* In the terminal: hold the \"control\" key and hit \"C\"  __(don't do this now)__"
   ]
  },
  {
   "cell_type": "markdown",
   "metadata": {},
   "source": [
    "**Note**: To clean up the cell that currently has a bunch of `5`s. Highlight the offending cell, and click `Cell` -> `Current Outputs` -> `Clear`."
   ]
  },
  {
   "cell_type": "markdown",
   "metadata": {},
   "source": [
    "**Action**: Now that that drama is over, go back to the cell that caused the infinite loop and identify why this code got us into this predicament."
   ]
  },
  {
   "cell_type": "markdown",
   "metadata": {},
   "source": [
    "The following example is the opposite of the one above. In the case below, the while loop never even starts. Why?"
   ]
  },
  {
   "cell_type": "code",
   "execution_count": null,
   "metadata": {},
   "outputs": [],
   "source": [
    "print('start')\n",
    "x = 5\n",
    "while x > 10:\n",
    "    print(x)\n",
    "print('end')"
   ]
  },
  {
   "cell_type": "markdown",
   "metadata": {},
   "source": [
    "# 7. For Loops"
   ]
  },
  {
   "cell_type": "markdown",
   "metadata": {},
   "source": [
    "* A `while` loop runs until the condition evaluates to `False`. A `for` loop runs once for each element in a sequence.\n",
    "* A `for` loop runs over most types of containers: list, tuple, string, sets, etc.\n",
    "* The `for` loop creates a variable that contains the current value of the iterator."
   ]
  },
  {
   "cell_type": "markdown",
   "metadata": {},
   "source": [
    "### An example from my kitchen."
   ]
  },
  {
   "cell_type": "code",
   "execution_count": null,
   "metadata": {},
   "outputs": [],
   "source": [
    "ingredients = ['eggs', 'sausage', 'hash browns', 'cheese', 'salsa', 'tortilla']\n",
    "for ingredient in ingredients:\n",
    "    print(ingredient + ' with ' + 'hot sauce')"
   ]
  },
  {
   "cell_type": "markdown",
   "metadata": {},
   "source": [
    "**Note**: In my kitchen, we (and by \"we\", I mean *I*) believe that _everything_ is better with [hot sauce](https://youtu.be/fKIssdjSW0E)...\n",
    "<img src=\"https://www.soupsonline.com/images/Product/medium/5235.jpg\" alt=\"Look for the red dot!!!\" style=\"width:200px\">"
   ]
  },
  {
   "cell_type": "markdown",
   "metadata": {},
   "source": [
    "Let's take a closer look at the cell above (not the beautiful bottle... but the amazing code). The statement that starts a `for` loop has four parts:\n",
    "* the `for` keyword\n",
    "* the variable used to iterate over the sequence (in this case `ingredient`)\n",
    "* the keyword `in` (this acts like the `in` you saw at the end of last week's Notebook)\n",
    "* the sequence to be iterated over (in this case a list called `ingredients`)\n",
    "\n",
    "Notice that each time python goes through the loop, the value of the variable `ingredient` changes. Each time through it pulls an element (in order) from the list `ingredients`."
   ]
  },
  {
   "cell_type": "markdown",
   "metadata": {},
   "source": [
    "Looping over a sequence does not change the sequence itself. In the next cell, you'll see that `ingredients` is exactly the same as when we defined it above."
   ]
  },
  {
   "cell_type": "code",
   "execution_count": null,
   "metadata": {},
   "outputs": [],
   "source": [
    "ingredients"
   ]
  },
  {
   "cell_type": "markdown",
   "metadata": {},
   "source": [
    "The variable used to do the iterating (in this case `ingredient`) lives on with its last value. Before running the next cell, what do you think this cell will print? "
   ]
  },
  {
   "cell_type": "code",
   "execution_count": null,
   "metadata": {},
   "outputs": [],
   "source": [
    "print('Mmmmmm... ' + ingredient)"
   ]
  },
  {
   "cell_type": "markdown",
   "metadata": {},
   "source": [
    "Oftentimes you have some meaningful sequence to iterate over. For example, you want to operate on each element in a list like in our food example above. However, in other cases you just want to do something a set number of times. You can use `range` to do something a fixed number of times. "
   ]
  },
  {
   "cell_type": "code",
   "execution_count": null,
   "metadata": {},
   "outputs": [],
   "source": [
    "range(1,7)"
   ]
  },
  {
   "cell_type": "markdown",
   "metadata": {},
   "source": [
    "How to cook scrambled eggs for two people:"
   ]
  },
  {
   "cell_type": "code",
   "execution_count": null,
   "metadata": {},
   "outputs": [],
   "source": [
    "for i in range(1,7):\n",
    "    print(\"crack egg #\" + str(i) + \" and put in bowl\")\n",
    "print(\"add milk (optional), salt and pepper to bowl\")\n",
    "print(\"whisk contents of bowl\")\n",
    "print(\"pour everything into frying pan and cook\")"
   ]
  },
  {
   "cell_type": "markdown",
   "metadata": {},
   "source": [
    "__Note__: Recall that calling `range` just creates an object that is waiting to be acted upon. Plugging a range object into a `for` loop in effect activates the object. "
   ]
  },
  {
   "cell_type": "markdown",
   "metadata": {},
   "source": [
    "You can have nested `for` loops, i.e. a `for` loop inside a `for` loop. Notice the indentation rules introduced earlier still apply here."
   ]
  },
  {
   "cell_type": "code",
   "execution_count": null,
   "metadata": {},
   "outputs": [],
   "source": [
    "data = [['Heat', 'Dolphins', 'Marlins'],\n",
    "        ['Suns', 'Cardinals', 'Diamondbacks', 'Coyotes'],\n",
    "        ['Nuggets', 'Broncos', 'Rockies', 'Avalanche']]\n",
    "for teams in data:\n",
    "    print(teams)\n",
    "    for team in teams:\n",
    "        print(team)\n",
    "    print(\"number of teams: \" + str(len(teams)))"
   ]
  },
  {
   "cell_type": "markdown",
   "metadata": {},
   "source": [
    "The examples so far have all iterated over lists. However, you can iterate over almost any sequence or container."
   ]
  },
  {
   "cell_type": "code",
   "execution_count": null,
   "metadata": {},
   "outputs": [],
   "source": [
    "iphone_sizes = {'iPhone 8':4.7, 'iPhone XS':5.8, \n",
    "                'iPhone XR':6.1, 'iPhone XS Max':6.5, \n",
    "                'iPhone 11':6.1, 'iPhone 11 Pro':5.8,\n",
    "                'iPhone 11 Pro Max':6.5}\n",
    "for phone in iphone_sizes:\n",
    "    print(phone, \"size is\", iphone_sizes[phone], \"inches\")"
   ]
  },
  {
   "cell_type": "markdown",
   "metadata": {},
   "source": [
    "**Action**: You learned about dictionaries last week. Dictionaries are built on the concept of key:value pairs. Look closely at the last line of the cell above. What exactly is the variable `phone` iterating over? Hint: the answer is not as simple as \"dictionary.\""
   ]
  },
  {
   "cell_type": "markdown",
   "metadata": {},
   "source": [
    "A string is a sequence, so it can be iterated over in a `for` loop."
   ]
  },
  {
   "cell_type": "code",
   "execution_count": null,
   "metadata": {},
   "outputs": [],
   "source": [
    "for letter in 'iPhone':\n",
    "    print(letter)"
   ]
  },
  {
   "cell_type": "markdown",
   "metadata": {},
   "source": [
    "Notice the error raised by the following cell."
   ]
  },
  {
   "cell_type": "code",
   "execution_count": null,
   "metadata": {},
   "outputs": [],
   "source": [
    "for number in 734:\n",
    "    print(number)"
   ]
  },
  {
   "cell_type": "markdown",
   "metadata": {},
   "source": [
    "# 8. Tricks and Tips"
   ]
  },
  {
   "cell_type": "markdown",
   "metadata": {},
   "source": [
    "The basic concepts of flow control, demarcating code blocks and truth telling are part of nearly all programming languages. This section contains more specialized functionality that can simplify your code."
   ]
  },
  {
   "cell_type": "markdown",
   "metadata": {},
   "source": [
    "### Enumerate"
   ]
  },
  {
   "cell_type": "markdown",
   "metadata": {},
   "source": [
    "As you saw above, the python `for` loop sequentially grabs each element in a sequence. When the `enumerate` function is used in conjunction with `for`, you also get an index at each iteration."
   ]
  },
  {
   "cell_type": "code",
   "execution_count": null,
   "metadata": {},
   "outputs": [],
   "source": [
    "first_names = ['jim', 'sarah', 'mark', 'victor', 'xiaojun']\n",
    "last_names = ['elsner', 'lester', 'horner', 'mesev', 'yang']"
   ]
  },
  {
   "cell_type": "markdown",
   "metadata": {},
   "source": [
    "The `enumerate` function returns two values on each pass over a sequence:\n",
    "* an integer (starting at `0`); uses the variable name `counter` in the example below\n",
    "* the value from the sequence; uses the variable name `name` in the example below\n",
    "\n",
    "Notice that the `counter` value corresponds to the position of the `name` value at each iteration."
   ]
  },
  {
   "cell_type": "code",
   "execution_count": null,
   "metadata": {},
   "outputs": [],
   "source": [
    "for counter, name in enumerate(first_names):\n",
    "    print(counter, name, last_names[counter])"
   ]
  },
  {
   "cell_type": "markdown",
   "metadata": {},
   "source": [
    "**Action**: Dissect the cell above. Pay close attention to the syntax of the `print` statement and how that relates to what is actually printed."
   ]
  },
  {
   "cell_type": "markdown",
   "metadata": {},
   "source": [
    "### More compact code"
   ]
  },
  {
   "cell_type": "code",
   "execution_count": null,
   "metadata": {},
   "outputs": [],
   "source": [
    "names = ['elsner', 'lester', 'horner', 'mesev', 'yang']"
   ]
  },
  {
   "cell_type": "markdown",
   "metadata": {},
   "source": [
    "*List comprehension* is a nice syntactic trick available in python. When the *result* of your `for` loop is a list, then you should consider using a list comprehension. "
   ]
  },
  {
   "cell_type": "markdown",
   "metadata": {},
   "source": [
    "In the example below, we will create a list that contains the length of each person's name."
   ]
  },
  {
   "cell_type": "code",
   "execution_count": null,
   "metadata": {},
   "outputs": [],
   "source": [
    "lens_regular = []\n",
    "for name in names:\n",
    "    lens_regular.append(len(name))\n",
    "lens_regular"
   ]
  },
  {
   "cell_type": "markdown",
   "metadata": {},
   "source": [
    "**Note**: In the cell above we first had to create an empty list (`lens_regular`) to store the output. We then loop over each name in the `names` list, compute the length and append it to the output list. This takes three lines of code. A list comprehension collapses those three lines into one! See the next cell."
   ]
  },
  {
   "cell_type": "code",
   "execution_count": null,
   "metadata": {},
   "outputs": [],
   "source": [
    "lens_comprehension = [len(name) for name in names]\n",
    "lens_comprehension"
   ]
  },
  {
   "cell_type": "markdown",
   "metadata": {},
   "source": [
    "Let's breakdown the list comprehension syntax:\n",
    "* `lens_comprehension`: the variable holding the output (the result will always be a list)\n",
    "* `[]`: wrap all the stuff on the right side of the equals in square brackets (recall that square brackets are used to demarcate lists)\n",
    "* `len(name)`: this is the code that will be executed on each item from `names` (this corresponds to the code within the code block of the typical `for` loop); in the examples below you can see that we can swap this out with other functionality\n",
    "* `for name in names`: the typical syntax that starts a `for` loop"
   ]
  },
  {
   "cell_type": "markdown",
   "metadata": {},
   "source": [
    "Below are two more examples of list comprehensions. Try to predict what will be printed **before** running the cell."
   ]
  },
  {
   "cell_type": "code",
   "execution_count": null,
   "metadata": {},
   "outputs": [],
   "source": [
    "comprehension2 = [name.upper() for name in names]\n",
    "comprehension2"
   ]
  },
  {
   "cell_type": "code",
   "execution_count": null,
   "metadata": {},
   "outputs": [],
   "source": [
    "comprehension3 = [name + ' is a geographer' for name in names]\n",
    "comprehension3"
   ]
  },
  {
   "cell_type": "markdown",
   "metadata": {},
   "source": [
    "Another technique to write more compact code is the `map` function.  `map` \"maps\" a function onto a sequence or container."
   ]
  },
  {
   "cell_type": "code",
   "execution_count": null,
   "metadata": {},
   "outputs": [],
   "source": [
    "names"
   ]
  },
  {
   "cell_type": "markdown",
   "metadata": {},
   "source": [
    "Below is a repeat of a previous cell."
   ]
  },
  {
   "cell_type": "code",
   "execution_count": null,
   "metadata": {},
   "outputs": [],
   "source": [
    "lens_regular = []\n",
    "for name in names:\n",
    "    lens_regular.append(len(name))\n",
    "lens_regular"
   ]
  },
  {
   "cell_type": "markdown",
   "metadata": {},
   "source": [
    "Below is the same result using `map`."
   ]
  },
  {
   "cell_type": "code",
   "execution_count": null,
   "metadata": {},
   "outputs": [],
   "source": [
    "lens_map = map(len, names)\n",
    "list(lens_map)"
   ]
  },
  {
   "cell_type": "markdown",
   "metadata": {},
   "source": [
    "The first argument to `map` is the name of a function, the second argument is a sequence or container. \n",
    "\n",
    "__Python3 Note__: `map` is another example like `range`, it needs to be acted upon to actually execute, hence the reason it is wrapped in `list` to see the results."
   ]
  },
  {
   "cell_type": "markdown",
   "metadata": {},
   "source": [
    "Another example:"
   ]
  },
  {
   "cell_type": "code",
   "execution_count": null,
   "metadata": {},
   "outputs": [],
   "source": [
    "import math\n",
    "numbers = [4, 81, 9, 64]\n",
    "map2 = map(math.sqrt, numbers)\n",
    "list(map2)"
   ]
  },
  {
   "cell_type": "markdown",
   "metadata": {},
   "source": [
    "### Fine tuned flow control"
   ]
  },
  {
   "cell_type": "markdown",
   "metadata": {},
   "source": [
    "Sometimes you don't want to do the same thing on each pass of the loop (`for` loop or `while` loop)."
   ]
  },
  {
   "cell_type": "markdown",
   "metadata": {},
   "source": [
    "`break` \"breaks out\" of the current loop."
   ]
  },
  {
   "cell_type": "code",
   "execution_count": null,
   "metadata": {},
   "outputs": [],
   "source": [
    "names"
   ]
  },
  {
   "cell_type": "code",
   "execution_count": null,
   "metadata": {},
   "outputs": [],
   "source": [
    "for name in names:\n",
    "    if len(name) == 5:\n",
    "        break\n",
    "    print(name)\n",
    "print('finished')"
   ]
  },
  {
   "cell_type": "markdown",
   "metadata": {},
   "source": [
    "`break` essentially says, \"stop this loop right now!\".  In the example above, we stop the loop at the first instance of a name that contains exactly 5 characters."
   ]
  },
  {
   "cell_type": "markdown",
   "metadata": {},
   "source": [
    "`continue` \"continues\" with the next iteration of the loop."
   ]
  },
  {
   "cell_type": "code",
   "execution_count": null,
   "metadata": {},
   "outputs": [],
   "source": [
    "for name in names:\n",
    "    if len(name) == 5:\n",
    "        continue\n",
    "    print(name)\n",
    "print('finished')"
   ]
  },
  {
   "cell_type": "markdown",
   "metadata": {},
   "source": [
    "`continue` essentially says, \"skip the rest of the code block, and go back up and grab the next item in the sequence.\" In the example above, we don't print the name of anyone whose name has exactly 5 characters."
   ]
  },
  {
   "cell_type": "markdown",
   "metadata": {},
   "source": [
    "`pass` kinda does nothing."
   ]
  },
  {
   "cell_type": "code",
   "execution_count": null,
   "metadata": {},
   "outputs": [],
   "source": [
    "for name in names:\n",
    "    pass"
   ]
  },
  {
   "cell_type": "code",
   "execution_count": null,
   "metadata": {},
   "outputs": [],
   "source": [
    "for name in names:"
   ]
  },
  {
   "cell_type": "markdown",
   "metadata": {},
   "source": [
    "**Note**: `pass` is useful when outlining your code. You might know what you want to loop over, but you're not certain of what will go in the code block."
   ]
  },
  {
   "cell_type": "markdown",
   "metadata": {},
   "source": [
    "# 9. Evolution of Computers in Geography"
   ]
  },
  {
   "cell_type": "markdown",
   "metadata": {},
   "source": [
    "Read this recent article entitled: [\"Geography and computers: Past, present, and future](https://onlinelibrary.wiley.com/doi/pdf/10.1111/gec3.12403).\""
   ]
  },
  {
   "cell_type": "markdown",
   "metadata": {},
   "source": [
    "# 10. Test Yourself"
   ]
  },
  {
   "cell_type": "markdown",
   "metadata": {},
   "source": [
    "1) How is indentation different in Python than most other programming languages?"
   ]
  },
  {
   "cell_type": "markdown",
   "metadata": {},
   "source": [
    "[type answer here]"
   ]
  },
  {
   "cell_type": "markdown",
   "metadata": {},
   "source": [
    "---"
   ]
  },
  {
   "cell_type": "markdown",
   "metadata": {},
   "source": [
    "2) Fix the bug in the following cell."
   ]
  },
  {
   "cell_type": "code",
   "execution_count": null,
   "metadata": {},
   "outputs": [],
   "source": [
    "for i in ['a', 'b', 'c']\n",
    "    val = i * 3\n",
    "    print(val)"
   ]
  },
  {
   "cell_type": "markdown",
   "metadata": {},
   "source": [
    "---"
   ]
  },
  {
   "cell_type": "markdown",
   "metadata": {},
   "source": [
    "3) Rearrange (i.e., _rearrange_, not delete, rewrite, etc.) the lines in the following cell to remove the error. "
   ]
  },
  {
   "cell_type": "code",
   "execution_count": null,
   "metadata": {},
   "outputs": [],
   "source": [
    "fac = 'Pau'\n",
    "if fac in ['Bledsoe', 'Wright']:\n",
    "    print('UNC Chapel Hill')\n",
    "else:\n",
    "    print('Some other university')\n",
    "elif fac == 'Pau':\n",
    "    print('UCLA')"
   ]
  },
  {
   "cell_type": "markdown",
   "metadata": {},
   "source": [
    "---"
   ]
  },
  {
   "cell_type": "markdown",
   "metadata": {},
   "source": [
    "4) Write the following in Python code:\n",
    "- If the `distance` is less than 1000, then print \"not too far\"\n",
    "- If the distance is 1000 or more, but less than 2500, then print \"moderate trip\"\n",
    "- If the distance is 2500 or more, but less than 5000, then print \"that is a long way\"\n",
    "- If the distance is greater than 5000, then print \"whoa, where are you headed?\"\n",
    "\n",
    "Note: This is both a question on _computational thinking_ __and__ Python syntax. Although you could write this as four isolated `if` statements, take a closer look at the job. You can write this as one group of `if`, `elif` and `else` statements. Also, pay close attention to the values in each test; notice that they are related.\n",
    "\n",
    "Note: Plug in different values for `distance` to be sure your code works."
   ]
  },
  {
   "cell_type": "code",
   "execution_count": null,
   "metadata": {},
   "outputs": [],
   "source": [
    "distance = 4000"
   ]
  },
  {
   "cell_type": "markdown",
   "metadata": {},
   "source": [
    "---"
   ]
  },
  {
   "cell_type": "markdown",
   "metadata": {},
   "source": [
    "5) Which the following will evaluate to **True**.\n",
    "\n",
    " a. `None`\n",
    " \n",
    " b. `[0]`\n",
    " \n",
    " c. `\"0\"`\n",
    " \n",
    " d. `{0:None}`\n",
    " \n",
    " e. `0`"
   ]
  },
  {
   "cell_type": "markdown",
   "metadata": {},
   "source": [
    "[type answer here]"
   ]
  },
  {
   "cell_type": "markdown",
   "metadata": {},
   "source": [
    "---"
   ]
  },
  {
   "cell_type": "markdown",
   "metadata": {},
   "source": [
    "6) Briefly explain why the following cell only prints: `'ironman'`, `'thor'` and `'hulk'`."
   ]
  },
  {
   "cell_type": "code",
   "execution_count": null,
   "metadata": {},
   "outputs": [],
   "source": [
    "avengers = ['ironman', 'thor', 'hulk', 'captain america', 'black widow', 'hawkeye']\n",
    "for avenger in avengers:\n",
    "    print(avenger)\n",
    "    if avenger == 'hulk':\n",
    "        break"
   ]
  },
  {
   "cell_type": "markdown",
   "metadata": {},
   "source": [
    "[type answer here]"
   ]
  },
  {
   "cell_type": "markdown",
   "metadata": {},
   "source": [
    "---"
   ]
  },
  {
   "cell_type": "markdown",
   "metadata": {},
   "source": [
    "7) The following __while loop__ squares the numbers 1 through 5 and sticks them in a list."
   ]
  },
  {
   "cell_type": "code",
   "execution_count": null,
   "metadata": {},
   "outputs": [],
   "source": [
    "result = []\n",
    "i = 1\n",
    "while i <= 5:\n",
    "    result.append(i*i)\n",
    "    i += 1\n",
    "result"
   ]
  },
  {
   "cell_type": "markdown",
   "metadata": {},
   "source": [
    "7a) In a new cell, write a __for loop__ that creates the same list."
   ]
  },
  {
   "cell_type": "code",
   "execution_count": null,
   "metadata": {},
   "outputs": [],
   "source": []
  },
  {
   "cell_type": "markdown",
   "metadata": {},
   "source": [
    "7b)  In a new cell, write a __list comprehension__ that creates the same list."
   ]
  },
  {
   "cell_type": "code",
   "execution_count": null,
   "metadata": {},
   "outputs": [],
   "source": []
  },
  {
   "cell_type": "markdown",
   "metadata": {},
   "source": [
    "---"
   ]
  },
  {
   "cell_type": "markdown",
   "metadata": {},
   "source": [
    "8) In the following scenarios, would a for loop or while loop be preferred? Note: Some questions would need more than a for loop or while loop to answer; the goal here is to think about the looping step, and which option is preferred.\n",
    "\n",
    "Note: the answer to each is simply \"for loop\" or \"while loop\" plus a sentence on \"why\" you chose this answer."
   ]
  },
  {
   "cell_type": "markdown",
   "metadata": {},
   "source": [
    "8a) You have an ordered list of the 100 largest cities in the U.S. and some code that will pull population data from the U.S. Census Bureau's API one city at a time. Download the population of the 100 largest cities in the U.S."
   ]
  },
  {
   "cell_type": "markdown",
   "metadata": {},
   "source": [
    "[type answer here]"
   ]
  },
  {
   "cell_type": "markdown",
   "metadata": {},
   "source": [
    "8b) Download the population of just those cities with a population greater than 1 million."
   ]
  },
  {
   "cell_type": "markdown",
   "metadata": {},
   "source": [
    "[type answer here]"
   ]
  },
  {
   "cell_type": "markdown",
   "metadata": {},
   "source": [
    "8c) Identify how many cities are needed to get to a total population of at least 25 million people. "
   ]
  },
  {
   "cell_type": "markdown",
   "metadata": {},
   "source": [
    "[type answer here]"
   ]
  },
  {
   "cell_type": "markdown",
   "metadata": {},
   "source": [
    "8d) You also have the city center longitude and latitude of each of the 100 cities, the longitude and latitude of the geographic center of the U.S. and a function to compute distance. Which city is furthest from the center of the U.S.?"
   ]
  },
  {
   "cell_type": "markdown",
   "metadata": {},
   "source": [
    "[type answer here]"
   ]
  }
 ],
 "metadata": {
  "kernelspec": {
   "display_name": "Python 2",
   "language": "python",
   "name": "python2"
  },
  "language_info": {
   "codemirror_mode": {
    "name": "ipython",
    "version": 2
   },
   "file_extension": ".py",
   "mimetype": "text/x-python",
   "name": "python",
   "nbconvert_exporter": "python",
   "pygments_lexer": "ipython2",
   "version": "2.7.16"
  }
 },
 "nbformat": 4,
 "nbformat_minor": 1
}
