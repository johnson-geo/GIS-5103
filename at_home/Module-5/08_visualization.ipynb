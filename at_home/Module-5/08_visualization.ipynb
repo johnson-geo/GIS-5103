{
 "cells": [
  {
   "cell_type": "markdown",
   "metadata": {},
   "source": [
    "# This Week"
   ]
  },
  {
   "cell_type": "markdown",
   "metadata": {},
   "source": [
    "Data Visualization\n",
    "* matplotlib - core plotting package for python\n",
    "* Seaborn - built on top of matplotlib and pandas"
   ]
  },
  {
   "cell_type": "markdown",
   "metadata": {},
   "source": [
    "# matplotlib"
   ]
  },
  {
   "cell_type": "markdown",
   "metadata": {},
   "source": [
    "matplotlib was initially intended to bring [MATLAB](https://www.mathworks.com/products/matlab/)-like graphics functionality into Python.  Today it is one of the most (if not THE most) used Python graphics package.  It was started by John Hunter (1968-2012), and is now lead by Michael Droettboom."
   ]
  },
  {
   "cell_type": "markdown",
   "metadata": {},
   "source": [
    "#### Object-oriented interface\n",
    "* Create a figure object and axes objects, and then operate on those\n",
    "* Separates style from graph\n",
    "* Can easily have multiple subplots"
   ]
  },
  {
   "cell_type": "markdown",
   "metadata": {},
   "source": [
    "#### Objectives\n",
    "\n",
    "* Understand the basic components of a plot\n",
    "* Understand how to style a plot\n",
    "* Give you enough information to use the [gallery](http://matplotlib.org/gallery#) on your own\n",
    "* Reference for several standard plots\n",
    "  * histogram, boxplot\n",
    "  * scatter, line, hexbin\n",
    "  * contour"
   ]
  },
  {
   "cell_type": "markdown",
   "metadata": {},
   "source": [
    "#### References\n",
    "\n",
    "This notebook is based on presentations from Monte Lunacek (National Renewable Energy Laboratory), which are based on some of the following content.\n",
    "\n",
    "- [J.R. Johansson's tutorial](http://nbviewer.ipython.org/github/jrjohansson/scientific-python-lectures/blob/master/Lecture-4-Matplotlib.ipynb)\n",
    "- [Matplotlib tutorial by Jake Vanderplas](http://jakevdp.github.io/mpl_tutorial/)\n",
    "- [Nicolas P. Rougier's tutorial](http://www.loria.fr/~rougier/teaching/matplotlib/)\n",
    "- [Making matplotlib look like ggplot](http://messymind.net/making-matplotlib-look-like-ggplot/)\n",
    "- https://github.com/jakevdp/mpld3\n",
    "-  [Harvard CS109 Data Science Class](http://nbviewer.ipython.org/github/cs109/content/blob/master/lec_03_statistical_graphs.ipynb)"
   ]
  },
  {
   "cell_type": "markdown",
   "metadata": {},
   "source": [
    "#### matplotlib in the IPython Notebook"
   ]
  },
  {
   "cell_type": "markdown",
   "metadata": {},
   "source": [
    "The default functionality for matplotlib is to render graphics in a new window. This is great when you are working at the command line since it is not possible for Terminal (Mac) or Anaconda Prompt (Windows) to directly render graphics, they only render text.  However, the Jupyter Notebook is in a web browser, which is perfectly capable of presenting all kinds of graphics.  To get matplotlib and the Notebook to play nice together we use the following **\"magic\"**:    \n",
    "`%matplotlib inline`     \n",
    "This renders the graphics inside the Notebook, as opposed to throwing them into an independent window.  You don't need this magic when working at the command line or when working in a Python script (i.e., a `.py` file).\n",
    "\n",
    "Note: \"magics\" add functionality to the IPython command line and the Jupyter Notebook. They are preceded by `%` or `%%`.  You saw the `%timeit` magic a couple weeks ago when we wanted to know how fast some code ran.\n",
    "\n",
    "Sometimes you will see the following Jupyter Notebook magic:    \n",
    "`%pylab inline`      \n",
    "**Don't use this!!!**  This magic runs the following commands, plus a lot of other stuff:     \n",
    "`from pylab import *`    \n",
    "`from numpy import *`     \n",
    "As you learned a few weeks ago, you *never* use the **`from xxx import *`** syntax. \n",
    "The result is that your name space gets polluted. The code you write is not easily ported to a regular Python script (i.e., a `.py` file) since it is not clear what has been imported.\n",
    "\n",
    "Read more about the evils of `pylab` [here](https://github.com/Carreau/posts/blob/master/10-No-PyLab-Thanks.ipynb)."
   ]
  },
  {
   "cell_type": "markdown",
   "metadata": {},
   "source": [
    "### Quick, easy, simple plots"
   ]
  },
  {
   "cell_type": "markdown",
   "metadata": {},
   "source": [
    "You (almost) always want to start a Notebook that uses plotting with the following line."
   ]
  },
  {
   "cell_type": "code",
   "execution_count": null,
   "metadata": {},
   "outputs": [],
   "source": [
    "# keep the graphics inside the Notebook\n",
    "%matplotlib inline"
   ]
  },
  {
   "cell_type": "markdown",
   "metadata": {},
   "source": [
    "Now you need to import matplotlib. Generally `pyplot` has everything you'll need."
   ]
  },
  {
   "cell_type": "code",
   "execution_count": null,
   "metadata": {},
   "outputs": [],
   "source": [
    "import matplotlib.pyplot as plt\n",
    "import numpy as np"
   ]
  },
  {
   "cell_type": "markdown",
   "metadata": {},
   "source": [
    "Let's start with a simple equation that shows the relationship between radii and areas of circles. We'll generate 50 `x` values (radii of circles), and then compute the area of each circle. We then pass this data to the `plot` function and then `show` it."
   ]
  },
  {
   "cell_type": "code",
   "execution_count": null,
   "metadata": {},
   "outputs": [],
   "source": [
    "x = np.arange(1, 51)\n",
    "y = np.pi * (x**2)\n",
    "plt.plot(x, y)\n",
    "plt.show()"
   ]
  },
  {
   "cell_type": "markdown",
   "metadata": {},
   "source": [
    "The `plot` function will draw a line plot by default. The following cell plots the same data as points."
   ]
  },
  {
   "cell_type": "code",
   "execution_count": null,
   "metadata": {},
   "outputs": [],
   "source": [
    "plt.plot(x, y, 'o')\n",
    "plt.show()"
   ]
  },
  {
   "cell_type": "markdown",
   "metadata": {},
   "source": [
    "**Action**: [This website](http://matplotlib.org/api/markers_api.html) lists other markers offered by matplotlib. Swap out the `o` in the above cell with some of the other options to see the different markers you can use."
   ]
  },
  {
   "cell_type": "markdown",
   "metadata": {},
   "source": [
    "Another common plot is the histogram. "
   ]
  },
  {
   "cell_type": "code",
   "execution_count": null,
   "metadata": {},
   "outputs": [],
   "source": [
    "plt.hist(np.random.normal(0, 1, 1000), alpha=0.5, histtype='stepfilled')\n",
    "plt.hist(np.random.normal(2, 2, 1000), alpha=0.5, histtype='stepfilled')\n",
    "plt.show()"
   ]
  },
  {
   "cell_type": "markdown",
   "metadata": {},
   "source": [
    "**Action**: Change the `alpha` value in the above cell to other values between 0 and 1. What does the `alpha` setting do?"
   ]
  },
  {
   "cell_type": "markdown",
   "metadata": {},
   "source": [
    "__Action__: Visualization (and programming) is an alternative way to learn (and understand) statistics. If you want to refresh your memory on the [normal distribution](https://en.wikipedia.org/wiki/Normal_distribution), you can play with the parameters for [`np.random.normal`](https://docs.scipy.org/doc/numpy-1.13.0/reference/generated/numpy.random.normal.html) and then render the plot again."
   ]
  },
  {
   "cell_type": "markdown",
   "metadata": {},
   "source": [
    "### Infrastructure"
   ]
  },
  {
   "cell_type": "markdown",
   "metadata": {},
   "source": [
    "The examples above are for quick plots. Typically you'll want more fine grained control over the plot to add stylistic elements."
   ]
  },
  {
   "cell_type": "markdown",
   "metadata": {},
   "source": [
    "#### The `figures` and `axes` objects"
   ]
  },
  {
   "cell_type": "markdown",
   "metadata": {},
   "source": [
    "This is the typical workflow we will follow:\n",
    "1. Create a blank figure\n",
    "2. Add axes (a.k.a. subplots)\n",
    "3. Fill each axis with the data plot"
   ]
  },
  {
   "cell_type": "code",
   "execution_count": null,
   "metadata": {},
   "outputs": [],
   "source": [
    "x = np.arange(1, 51) # same data as before\n",
    "y = np.pi * x**2\n",
    "\n",
    "fig = plt.figure()\n",
    "ax = fig.add_subplot(1,1,1) # 1 row, 1 col, graphic 1\n",
    "ax.plot(x, y)\n",
    "plt.show()"
   ]
  },
  {
   "cell_type": "markdown",
   "metadata": {},
   "source": [
    "**Note**: Matching up the three steps in the workflow to the code in the above cell:\n",
    "\n",
    "    Step 1: fig = plt.figure()\n",
    "    Step 2: ax = fig.add_subplot(1,1,1)\n",
    "    Step 3: ax.plot(x, y)"
   ]
  },
  {
   "cell_type": "markdown",
   "metadata": {},
   "source": [
    "Let's now make multiple subplots."
   ]
  },
  {
   "cell_type": "code",
   "execution_count": null,
   "metadata": {},
   "outputs": [],
   "source": [
    "fig = plt.figure()\n",
    "\n",
    "ax1 = fig.add_subplot(1,2,1) # 1 row, 2 cols, graphic 1\n",
    "ax2 = fig.add_subplot(1,2,2) # 1 row, 2 cols, graphic 2\n",
    "\n",
    "ax1.plot(x, y)\n",
    "\n",
    "ax2.hist(np.random.normal(0, 1, 1000), alpha=0.5, histtype='stepfilled')\n",
    "ax2.hist(np.random.normal(2, 2, 1000), alpha=0.5, histtype='stepfilled')\n",
    "\n",
    "plt.show()"
   ]
  },
  {
   "cell_type": "markdown",
   "metadata": {},
   "source": [
    "These are the same plots as earlier, just squished."
   ]
  },
  {
   "cell_type": "markdown",
   "metadata": {},
   "source": [
    "We can combine the first two steps of the workflow using the `plt.subplots()` command."
   ]
  },
  {
   "cell_type": "code",
   "execution_count": null,
   "metadata": {},
   "outputs": [],
   "source": [
    "fig, ax = plt.subplots(2,3)\n",
    "\n",
    "ax[0,0].plot(x, y)\n",
    "ax[0,2].hist(np.random.normal(0, 1, 100), color=\"g\")\n",
    "ax[1,1].scatter(np.random.normal(0, 1, 10), np.random.normal(0, 1, 10), color=\"r\")\n",
    "\n",
    "plt.show()"
   ]
  },
  {
   "cell_type": "markdown",
   "metadata": {},
   "source": [
    "**Note**: The first line in the above cell gives us our figure and an array of axes. The axes are accessed using numpy-style indexing. In the above example we only fill three of the six plots with data."
   ]
  },
  {
   "cell_type": "markdown",
   "metadata": {},
   "source": [
    "The `subplot2grid` command allows for variable sized subplots."
   ]
  },
  {
   "cell_type": "code",
   "execution_count": null,
   "metadata": {},
   "outputs": [],
   "source": [
    "fig = plt.figure()\n",
    "ax1 = plt.subplot2grid((3,4), (0,0), colspan=4)\n",
    "ax2 = plt.subplot2grid((3,4), (1,0), rowspan=2)\n",
    "ax3 = plt.subplot2grid((3,4), (1,1))\n",
    "ax4 = plt.subplot2grid((3,4), (2,1))\n",
    "ax5 = plt.subplot2grid((3,4), (1,2), colspan=2, rowspan=2)\n",
    "fig.tight_layout()\n",
    "plt.show()"
   ]
  },
  {
   "cell_type": "markdown",
   "metadata": {},
   "source": [
    "**Note**: Looking at the second line above. The first argument is `(3,4)`, which indicates the overall shape of the plot. The second argument is `(0,0)`, which acts as a start point for the subplot. The third argument is `colspan=4`, which indicates how many columns this subplot will span. Can you interpret what is happening in the remaining lines of code?"
   ]
  },
  {
   "cell_type": "markdown",
   "metadata": {},
   "source": [
    "Don't forget about the built-in help functionality."
   ]
  },
  {
   "cell_type": "code",
   "execution_count": null,
   "metadata": {},
   "outputs": [],
   "source": [
    "help(plt.plot)"
   ]
  },
  {
   "cell_type": "markdown",
   "metadata": {},
   "source": [
    "### Making Pretty Plots"
   ]
  },
  {
   "cell_type": "code",
   "execution_count": null,
   "metadata": {},
   "outputs": [],
   "source": [
    "# resetting the setup\n",
    "%matplotlib inline\n",
    "import pandas as pd\n",
    "import numpy as np\n",
    "import matplotlib.pyplot as plt"
   ]
  },
  {
   "cell_type": "markdown",
   "metadata": {},
   "source": [
    "We'll use data on different car models."
   ]
  },
  {
   "cell_type": "code",
   "execution_count": null,
   "metadata": {},
   "outputs": [],
   "source": [
    "cars = pd.read_csv('cars.csv')\n",
    "cars.head()"
   ]
  },
  {
   "cell_type": "code",
   "execution_count": null,
   "metadata": {},
   "outputs": [],
   "source": [
    "cars.shape"
   ]
  },
  {
   "cell_type": "markdown",
   "metadata": {},
   "source": [
    "The basic `scatter` plot. Notice that we follow the same workflow."
   ]
  },
  {
   "cell_type": "code",
   "execution_count": null,
   "metadata": {},
   "outputs": [],
   "source": [
    "fig, ax = plt.subplots(figsize=(6,4))\n",
    "ax.scatter(cars.wt, cars.mpg)\n",
    "plt.show()"
   ]
  },
  {
   "cell_type": "markdown",
   "metadata": {},
   "source": [
    "**Note**: We can interpret the above plot as saying that heavier cars (`wt`) tend to get worse gas mileage (`mpg`)."
   ]
  },
  {
   "cell_type": "markdown",
   "metadata": {},
   "source": [
    "#### Changing style"
   ]
  },
  {
   "cell_type": "markdown",
   "metadata": {},
   "source": [
    "We will use the Palettable package, which includes the Color Brewer framework developed by Cindy Brewer, to define our colors.\n",
    "* [color brewer](http://colorbrewer2.org/) (if you have not seen Color Brewer before, take some time to click around on the website) \n",
    "* [palettable](https://jiffyclub.github.io/palettable/)"
   ]
  },
  {
   "cell_type": "markdown",
   "metadata": {},
   "source": [
    "Install `palettable`\n",
    "* Launch a new command line.\n",
    "* Type: `conda install -c conda-forge palettable`"
   ]
  },
  {
   "cell_type": "code",
   "execution_count": null,
   "metadata": {},
   "outputs": [],
   "source": [
    "import palettable\n",
    "\n",
    "colors = palettable.colorbrewer.qualitative.Set2_3.mpl_colors"
   ]
  },
  {
   "cell_type": "markdown",
   "metadata": {},
   "source": [
    "We'll color the points based on a third variable (the number of engine cylinders (`cyl`)."
   ]
  },
  {
   "cell_type": "code",
   "execution_count": null,
   "metadata": {},
   "outputs": [],
   "source": [
    "fig, ax = plt.subplots(figsize=(6,5))\n",
    "for i, cylinder in enumerate([4,6,8]):\n",
    "    subset = cars[cars.cyl == cylinder]\n",
    "    ax = plt.scatter(subset.wt, subset.mpg, s=100, alpha=0.95, \n",
    "                     edgecolor='none', c=colors[i])\n",
    "plt.show()"
   ]
  },
  {
   "cell_type": "markdown",
   "metadata": {},
   "source": [
    "**Action**: Go through the above cell line by line. Spend some time on this. This is a complicated cell for sure, but there is nothing particularly new here; it is combining stuff you've learned in previous weeks, or earlier in this Notebook. You can type `help(plt.scatter)` to see what all the arguments do; you can also just change the values to see what happens."
   ]
  },
  {
   "cell_type": "markdown",
   "metadata": {},
   "source": [
    "**Action**: Go to [colorbrewer2.org](http://colorbrewer2.org) and click through the menus to see that these colors match the website. Recall that the line that selected colors was:\n",
    "    \n",
    "    colors = palettable.colorbrewer.qualitative.Set2_3.mpl_colors"
   ]
  },
  {
   "cell_type": "markdown",
   "metadata": {},
   "source": [
    "In the next few cells we are going to tweak the cars plot a bunch of times. Since we don't want to keep retyping the same code over and over again, we will make it into a function. Notice how the code in the following cell mirrors the code above."
   ]
  },
  {
   "cell_type": "code",
   "execution_count": null,
   "metadata": {},
   "outputs": [],
   "source": [
    "def base_figure():\n",
    "    fig, ax = plt.subplots(figsize=(6,5))\n",
    "    for i, cylinder in enumerate([4,6,8]):\n",
    "        subset = cars[cars.cyl == cylinder]\n",
    "        ax.scatter(subset.wt, subset.mpg, s=100, alpha=0.95, \n",
    "                   edgecolor='none', c=colors[i])\n",
    "    return fig, ax"
   ]
  },
  {
   "cell_type": "markdown",
   "metadata": {},
   "source": [
    "Each of the cells below adds minor customizations. Be sure to notice what is different with each new image."
   ]
  },
  {
   "cell_type": "code",
   "execution_count": null,
   "metadata": {},
   "outputs": [],
   "source": [
    "fig, ax = base_figure()\n",
    "\n",
    "# remove the ticks\n",
    "ax.xaxis.set_ticks_position('none')\n",
    "ax.yaxis.set_ticks_position('none')  \n",
    "plt.show()"
   ]
  },
  {
   "cell_type": "code",
   "execution_count": null,
   "metadata": {},
   "outputs": [],
   "source": [
    "fig, ax = base_figure()\n",
    "\n",
    "# remove the ticks\n",
    "ax.xaxis.set_ticks_position('none')\n",
    "ax.yaxis.set_ticks_position('none')  \n",
    "\n",
    "# remove the spines\n",
    "ax.spines['top'].set_visible(False)  \n",
    "ax.spines['right'].set_visible(False)\n",
    "plt.show()"
   ]
  },
  {
   "cell_type": "code",
   "execution_count": null,
   "metadata": {},
   "outputs": [],
   "source": [
    "fig, ax = base_figure()\n",
    "\n",
    "# remove the ticks\n",
    "ax.xaxis.set_ticks_position('none')\n",
    "ax.yaxis.set_ticks_position('none')  \n",
    "\n",
    "# modify the spines\n",
    "for s in ['bottom','left','top','right']:\n",
    "    ax.spines[s].set_linewidth(0.75)\n",
    "    ax.spines[s].set_color('0.8')    \n",
    "\n",
    "plt.show()"
   ]
  },
  {
   "cell_type": "code",
   "execution_count": null,
   "metadata": {},
   "outputs": [],
   "source": [
    "fig, ax = base_figure()\n",
    "\n",
    "# remove the ticks\n",
    "ax.xaxis.set_ticks_position('none')\n",
    "ax.yaxis.set_ticks_position('none')  \n",
    "\n",
    "# modify the spines\n",
    "for s in ['bottom','left','top','right']:\n",
    "    ax.spines[s].set_linewidth(0.75)\n",
    "    ax.spines[s].set_color('0.8')    \n",
    "\n",
    "# set a background color and overlay some grid lines\n",
    "ax.patch.set_facecolor('0.93')\n",
    "ax.grid(True, 'major', color='0.98', linestyle='-', linewidth=1.0)\n",
    "ax.set_axisbelow(True)\n",
    "\n",
    "plt.show()"
   ]
  },
  {
   "cell_type": "markdown",
   "metadata": {},
   "source": [
    "**Note**: Does the style of the above plot look familiar? This is a home-brewed version of the [ggplot style](https://plot.ly/ggplot2/) from R."
   ]
  },
  {
   "cell_type": "markdown",
   "metadata": {},
   "source": [
    "Let's put all of this ggplot styling into one function to define a custom transformation."
   ]
  },
  {
   "cell_type": "code",
   "execution_count": null,
   "metadata": {},
   "outputs": [],
   "source": [
    "# put all the transformations together into one function\n",
    "def ggplot(ax):\n",
    "    \n",
    "    ax.xaxis.set_ticks_position('none')\n",
    "    ax.yaxis.set_ticks_position('none')\n",
    "    for s in ['bottom','left','top','right']:\n",
    "        ax.spines[s].set_linewidth(0.75)\n",
    "        ax.spines[s].set_color('0.8')\n",
    "    \n",
    "    ax.patch.set_facecolor('0.93')\n",
    "    ax.grid(True, 'major', color='0.98', linestyle='-', linewidth=1.0)\n",
    "    ax.set_axisbelow(True)   "
   ]
  },
  {
   "cell_type": "markdown",
   "metadata": {},
   "source": [
    "__Aside__: I hope you noticed that the above function does not have a return. That might seem weird since I've been harping on this issue for a couple of weeks... \"the last line of a function should ALMOST always be `return ...`.\" Notice that we are leveraging the \"pass by reference\" concept in this function. We pass in an object and call it `ax`; then start hacking on `ax` (okay, that's kinda funny right, \"hacking\" and \"ax\"... seriously, stop rolling your eyes). Since it's pass by reference, the changes we make to `ax` live on outside the function."
   ]
  },
  {
   "cell_type": "markdown",
   "metadata": {},
   "source": [
    "With our two functions, we can now plot the pretty graphic with just two lines."
   ]
  },
  {
   "cell_type": "code",
   "execution_count": null,
   "metadata": {},
   "outputs": [],
   "source": [
    "fig, ax = base_figure()\n",
    "ggplot(ax)\n",
    "plt.show()"
   ]
  },
  {
   "cell_type": "markdown",
   "metadata": {},
   "source": [
    "#### Legends"
   ]
  },
  {
   "cell_type": "code",
   "execution_count": null,
   "metadata": {},
   "outputs": [],
   "source": [
    "# small change to our basic scatterplot function\n",
    "def base_figure():\n",
    "    fig, ax = plt.subplots(figsize=(6,5))\n",
    "    for i, cylinder in enumerate([4,6,8]):\n",
    "        subset = cars[cars.cyl == cylinder]\n",
    "        ax.scatter(subset.wt, subset.mpg, s=100, alpha=0.95, \n",
    "                   edgecolor='none', c=colors[i],\n",
    "                   label=str(cylinder)+' cyl')     # <---- adding a label\n",
    "    return fig, ax"
   ]
  },
  {
   "cell_type": "markdown",
   "metadata": {},
   "source": [
    "The following cell adds a legend based on the `label`."
   ]
  },
  {
   "cell_type": "code",
   "execution_count": null,
   "metadata": {},
   "outputs": [],
   "source": [
    "fig, ax = base_figure()    # get the basic scatterplot\n",
    "ggplot(ax)                 # make it ggplot like\n",
    "ax.legend(loc='best')      # add a legend\n",
    "plt.show()"
   ]
  },
  {
   "cell_type": "markdown",
   "metadata": {},
   "source": [
    "#### Save Figures to Hard Drive"
   ]
  },
  {
   "cell_type": "code",
   "execution_count": null,
   "metadata": {},
   "outputs": [],
   "source": [
    "fig, ax = base_figure()\n",
    "ggplot(ax)\n",
    "\n",
    "ax.legend(loc='best', scatterpoints=1) # for a single point\n",
    "ax.legend_.get_frame().set_linewidth(0)\n",
    "ax.legend_.get_frame().set_alpha(0.5)\n",
    "\n",
    "fig.savefig('scatter.png')\n",
    "fig.savefig('scatter.pdf')"
   ]
  },
  {
   "cell_type": "markdown",
   "metadata": {},
   "source": [
    "**Action**: Go to the directory where this Notebook is stored. You can open the two new files that you just created by double-clicking them."
   ]
  },
  {
   "cell_type": "markdown",
   "metadata": {},
   "source": [
    "### Examples"
   ]
  },
  {
   "cell_type": "markdown",
   "metadata": {},
   "source": [
    "The following is a selection of plots matplotlib offers (by no means comprehensive)."
   ]
  },
  {
   "cell_type": "code",
   "execution_count": null,
   "metadata": {},
   "outputs": [],
   "source": [
    "%matplotlib inline\n",
    "import numpy as np\n",
    "import matplotlib.pyplot as plt\n",
    "import matplotlib as mpl"
   ]
  },
  {
   "cell_type": "markdown",
   "metadata": {},
   "source": [
    "matplotlib lets you set many settings for the entire session so that you don't need to keep typing them in for each plot. Below we set the colors. Notice that we're using a different color scheme from above."
   ]
  },
  {
   "cell_type": "code",
   "execution_count": null,
   "metadata": {},
   "outputs": [],
   "source": [
    "# set the Color Brewer colors as the default colors\n",
    "import palettable\n",
    "from cycler import cycler\n",
    "\n",
    "colors = palettable.colorbrewer.qualitative.Set1_8.hex_colors\n",
    "mpl.rcParams['axes.prop_cycle'] = cycler('color', colors)\n",
    "colors"
   ]
  },
  {
   "cell_type": "markdown",
   "metadata": {},
   "source": [
    "__Action__: Hex color is a color standard that matplotlib is using, it is . Copy and paste a couple of the text strings above into [this website](https://www.hexcolortool.com) to see what they are."
   ]
  },
  {
   "cell_type": "markdown",
   "metadata": {},
   "source": [
    "#### Line Graph"
   ]
  },
  {
   "cell_type": "markdown",
   "metadata": {},
   "source": [
    "The following plot builds on the tools we have seen already, including the normal function. "
   ]
  },
  {
   "cell_type": "code",
   "execution_count": null,
   "metadata": {},
   "outputs": [],
   "source": [
    "fig, ax = plt.subplots()\n",
    "ggplot(ax)\n",
    "ax.plot(np.random.normal(0,1,200).cumsum())\n",
    "plt.show()"
   ]
  },
  {
   "cell_type": "markdown",
   "metadata": {},
   "source": [
    "Let's put eight lines on one plot."
   ]
  },
  {
   "cell_type": "code",
   "execution_count": null,
   "metadata": {},
   "outputs": [],
   "source": [
    "fig, ax = plt.subplots()\n",
    "ggplot(ax)\n",
    "for i in range(8):\n",
    "    ax.plot(np.random.normal(0,1,200).cumsum())\n",
    "plt.show()"
   ]
  },
  {
   "cell_type": "markdown",
   "metadata": {},
   "source": [
    "__Action__: You're going through this slowly, and not just getting mesmerized by the pretty colors... right? There is code from previous weeks in these cells, along with the new stuff on plotting. Make sure you're comfortable with the old _and_ new stuff."
   ]
  },
  {
   "cell_type": "markdown",
   "metadata": {},
   "source": [
    "#### Histogram"
   ]
  },
  {
   "cell_type": "code",
   "execution_count": null,
   "metadata": {},
   "outputs": [],
   "source": [
    "x = np.random.normal(100, 20, size=300)\n",
    "\n",
    "fig, ax = plt.subplots()\n",
    "ggplot(ax)\n",
    "ax.hist(x, alpha=0.5, bins=20)\n",
    "plt.show()"
   ]
  },
  {
   "cell_type": "code",
   "execution_count": null,
   "metadata": {
    "scrolled": false
   },
   "outputs": [],
   "source": [
    "fig, ax = plt.subplots()\n",
    "ggplot(ax)\n",
    "for i in range(3):\n",
    "    x = np.random.normal(i, 1, 500)\n",
    "    ax.hist(x, normed=True, alpha=0.5, histtype='stepfilled', bins=20)\n",
    "plt.show()"
   ]
  },
  {
   "cell_type": "markdown",
   "metadata": {},
   "source": [
    "Notice that this throws a deprecation warning (at least it does on my machine). If you read the warning it tells you how to fix the problem. We will do this in the following cell. Notice what has changed. Also, this issue will will return later in this notebook."
   ]
  },
  {
   "cell_type": "code",
   "execution_count": null,
   "metadata": {},
   "outputs": [],
   "source": [
    "fig, ax = plt.subplots()\n",
    "ggplot(ax)\n",
    "for i in range(3):\n",
    "    x = np.random.normal(i, 1, 500)\n",
    "    ax.hist(x, density=True, alpha=0.5, histtype='stepfilled', bins=20)\n",
    "plt.show()"
   ]
  },
  {
   "cell_type": "markdown",
   "metadata": {},
   "source": [
    "**Action**: How many histograms are in the above plot?"
   ]
  },
  {
   "cell_type": "markdown",
   "metadata": {},
   "source": [
    "**Action**: Use `help(ax.hist)` to see what all the histogram arguments are."
   ]
  },
  {
   "cell_type": "markdown",
   "metadata": {},
   "source": [
    "#### Bar Charts"
   ]
  },
  {
   "cell_type": "code",
   "execution_count": null,
   "metadata": {},
   "outputs": [],
   "source": [
    "animals = ['dogs', 'cats', 'bats', 'rats', 'cows']\n",
    "heights = [501, 607, 709, 650, 532]\n",
    "\n",
    "fig, ax = plt.subplots()\n",
    "ggplot(ax)\n",
    "\n",
    "# create some bars\n",
    "ax.bar(range(len(animals)), heights, color=colors, alpha=0.75)\n",
    "\n",
    "# set the plot limits to have nice padding above the bars\n",
    "ax.set_ylim(0,800)\n",
    "\n",
    "# add labels above each bar\n",
    "for x, y in enumerate(heights):\n",
    "    plt.annotate(y, (x, y+20), ha='center')\n",
    "\n",
    "# add labels below each bar    \n",
    "ax.set_xticks(np.arange(len(animals)))\n",
    "ax.set_xticklabels(animals)\n",
    "\n",
    "plt.show()"
   ]
  },
  {
   "cell_type": "markdown",
   "metadata": {},
   "source": [
    "**Action**: There is a lot happening in the above cell. \n",
    "- Comment out all the lines after `ax.bar(...)`. Rerun the cell.\n",
    "- One by one uncomment the code chunks and see how the final plot is built up"
   ]
  },
  {
   "cell_type": "markdown",
   "metadata": {},
   "source": [
    "#### Box Plot"
   ]
  },
  {
   "cell_type": "markdown",
   "metadata": {},
   "source": [
    "The cell below makes boxplots. Notice that we're still following the same pattern every time: \n",
    "\n",
    "    0) Get some data\n",
    "    1) Create a blank figure\n",
    "    2) Add axes (a.k.a. subplots)\n",
    "    3) Fill each axis with the data plot"
   ]
  },
  {
   "cell_type": "code",
   "execution_count": null,
   "metadata": {},
   "outputs": [],
   "source": [
    "# create some data\n",
    "d1 = np.random.normal(20, 10, 300)\n",
    "d2 = np.random.normal(40, 10, 300)\n",
    "data = [d1, d2]\n",
    "\n",
    "# make a plot\n",
    "fig, ax = plt.subplots()\n",
    "ggplot(ax)\n",
    "ax.boxplot(data, widths=0.65)\n",
    "\n",
    "plt.show()"
   ]
  },
  {
   "cell_type": "markdown",
   "metadata": {},
   "source": [
    "__Note__: A box plot is an alternative way to summarize a dataset. The middle line is the median, the top of the \"box\" is the value of the observation at the 75th percentile, the bottom is the value at the 25th percentile. The length of the whiskers can vary from implementation to implementation. matplotlib uses this rule:\n",
    "\n",
    "whis is set to 1.5 by default.\n",
    "> In other words, where IQR is the interquartile range (Q3-Q1), the upper whisker will extend to last datum less than Q3 + whis \\* IQR). Similarly, the lower whisker will extend to the first datum greater than Q1 - whis \\* IQR. Beyond the whiskers, data are considered outliers and are plotted as individual points. Set this to an unreasonably high value to force the whiskers to show the min and max values. Alternatively, set this to an ascending sequence of percentile (e.g., [5, 95]) to set the whiskers at specific percentiles of the data. Finally, whis can be the string 'range' to force the whiskers to the min and max of the data. [more info can be found here](https://matplotlib.org/api/_as_gen/matplotlib.pyplot.boxplot.html)\n",
    "\n",
    "This has less information than a histogram, but it is easier to plot these for comparisons."
   ]
  },
  {
   "cell_type": "markdown",
   "metadata": {},
   "source": [
    "#### Error Bars"
   ]
  },
  {
   "cell_type": "code",
   "execution_count": null,
   "metadata": {},
   "outputs": [],
   "source": [
    "# create some data\n",
    "x = np.arange(1, 51)\n",
    "y = np.pi * x**2\n",
    "xerr = np.random.normal(500, 500, size=len(x))\n",
    "\n",
    "# make a plot\n",
    "fig, ax = plt.subplots()\n",
    "ggplot(ax)\n",
    "\n",
    "ax.plot(x, y)\n",
    "ax.errorbar(x, y, yerr=xerr, fmt='.k')  # <--- adding this line gives us error bars\n",
    "plt.show()"
   ]
  },
  {
   "cell_type": "markdown",
   "metadata": {},
   "source": [
    "**Action**: Comment out the `errorbar` line in the above cell to see what the plot looks like \"before and after.\""
   ]
  },
  {
   "cell_type": "markdown",
   "metadata": {},
   "source": [
    "Below we fill in the error range."
   ]
  },
  {
   "cell_type": "code",
   "execution_count": null,
   "metadata": {
    "scrolled": true
   },
   "outputs": [],
   "source": [
    "fig, ax = plt.subplots()\n",
    "ggplot(ax)\n",
    "\n",
    "ax.plot(x, y)\n",
    "ad_low = y-abs(xerr)\n",
    "ad_high = y+abs(xerr)\n",
    "ax.fill_between(x, ad_low, ad_high, color='0.5', alpha=0.2)\n",
    "\n",
    "plt.show()"
   ]
  },
  {
   "cell_type": "markdown",
   "metadata": {},
   "source": [
    "#### Point Patterns"
   ]
  },
  {
   "cell_type": "markdown",
   "metadata": {},
   "source": [
    "The cell below generates 20,000 points using the sklearn package."
   ]
  },
  {
   "cell_type": "code",
   "execution_count": null,
   "metadata": {},
   "outputs": [],
   "source": [
    "from sklearn.datasets import make_blobs\n",
    "X, membership = make_blobs(n_samples=20000, centers=2, \n",
    "                           random_state=37, cluster_std=4)\n",
    "x = X[:,0]\n",
    "y = X[:,1]"
   ]
  },
  {
   "cell_type": "code",
   "execution_count": null,
   "metadata": {},
   "outputs": [],
   "source": [
    "fig, ax = plt.subplots()\n",
    "ggplot(ax)\n",
    "\n",
    "ax.plot(x, y, 'o')\n",
    "plt.show()"
   ]
  },
  {
   "cell_type": "markdown",
   "metadata": {},
   "source": [
    "**Action**: What is the problem with plotting 20,000 points?"
   ]
  },
  {
   "cell_type": "markdown",
   "metadata": {},
   "source": [
    "There are a number of approaches for dealing with overplotting."
   ]
  },
  {
   "cell_type": "code",
   "execution_count": null,
   "metadata": {},
   "outputs": [],
   "source": [
    "# adjust the transparency of the points\n",
    "fig, ax = plt.subplots()\n",
    "ggplot(ax)\n",
    "\n",
    "ax.plot(x, y, 'o', alpha=0.02)\n",
    "plt.show()"
   ]
  },
  {
   "cell_type": "markdown",
   "metadata": {},
   "source": [
    "**Note**: From the above cell it is becoming clearer that there are two clusters, and that each has a core with the density of points decreasing as you move away from the core."
   ]
  },
  {
   "cell_type": "markdown",
   "metadata": {},
   "source": [
    "**Action**: Play with the alpha level (0 to 1) in the above cell to see the impact."
   ]
  },
  {
   "cell_type": "markdown",
   "metadata": {},
   "source": [
    "A hexbin plot overlays a hexagonal grid on the points, and then counts the number points falling in each cell. The plot then colors each cell based on the number of points in the cell."
   ]
  },
  {
   "cell_type": "code",
   "execution_count": null,
   "metadata": {},
   "outputs": [],
   "source": [
    "# use hexbins to deal with over plotting\n",
    "fig, ax = plt.subplots(figsize=(6,5))\n",
    "\n",
    "ax.hexbin(x, y, gridsize=20)\n",
    "plt.show()"
   ]
  },
  {
   "cell_type": "markdown",
   "metadata": {},
   "source": [
    "Below we make a few customizations to the hexbin plot to increase the interpretability of the data."
   ]
  },
  {
   "cell_type": "code",
   "execution_count": null,
   "metadata": {},
   "outputs": [],
   "source": [
    "blues = plt.get_cmap('Blues')\n",
    "fig, ax = plt.subplots(figsize=(8,5))\n",
    "\n",
    "tmp = ax.hexbin(x, y, gridsize=40, cmap=blues)\n",
    "fig.colorbar(tmp, ax=ax)\n",
    "plt.show()"
   ]
  },
  {
   "cell_type": "markdown",
   "metadata": {},
   "source": [
    "# Seaborn"
   ]
  },
  {
   "cell_type": "markdown",
   "metadata": {},
   "source": [
    "> Seaborn is a Python visualization library based on matplotlib. It provides a high-level interface for drawing attractive statistical graphics.\n",
    "\n",
    "> Drawing attractive figures is important. When making figures for yourself, as you explore a dataset, its nice to have plots that are pleasant to look at. Visualizations are also central to communicating quantitative insights to an audience, and in that setting it's even more necessary to have figures that catch the attention and draw a viewer in.\n",
    "\n",
    "> Matplotlib is highly customizable, but it can be hard to know what settings to tweak to achieve an attractive plot. Seaborn comes with a number of customized themes and a high-level interface for controlling the look of matplotlib figures."
   ]
  },
  {
   "cell_type": "markdown",
   "metadata": {},
   "source": [
    "Recall that we defined this plot earlier."
   ]
  },
  {
   "cell_type": "code",
   "execution_count": null,
   "metadata": {},
   "outputs": [],
   "source": [
    "x = np.arange(1, 51)\n",
    "y = np.pi * x**2\n",
    "\n",
    "fig, ax = plt.subplots()\n",
    "ax.plot(x, y)\n",
    "plt.show()"
   ]
  },
  {
   "cell_type": "markdown",
   "metadata": {},
   "source": [
    "As you see above, the matplotlib styles are kinda boring and in some cases strange. In my opinion, the seaborn styles are generally an improvement."
   ]
  },
  {
   "cell_type": "code",
   "execution_count": null,
   "metadata": {},
   "outputs": [],
   "source": [
    "import seaborn as sns"
   ]
  },
  {
   "cell_type": "markdown",
   "metadata": {},
   "source": [
    "To get the seaborn styles in one shot, we use the `sns.set()` function. It is important to note that seaborn will apply its defaults to the matplotlib settings. This means that after importing seaborn, when you call matplotlib you will get seaborn style. "
   ]
  },
  {
   "cell_type": "code",
   "execution_count": null,
   "metadata": {},
   "outputs": [],
   "source": [
    "sns.set()"
   ]
  },
  {
   "cell_type": "markdown",
   "metadata": {},
   "source": [
    "Notice that the following cell makes the exact same calls to matplotlib as the plot above, but the style is much better... in fact it looks a lot like our `ggplot` style from earlier."
   ]
  },
  {
   "cell_type": "code",
   "execution_count": null,
   "metadata": {},
   "outputs": [],
   "source": [
    "fig = plt.figure()\n",
    "ax = fig.add_subplot(1,1,1) # 1 row, 1 col, graphic 1\n",
    "ax.plot(x, y)\n",
    "plt.show()"
   ]
  },
  {
   "cell_type": "markdown",
   "metadata": {},
   "source": [
    "Seaborn has five preset seaborn themes: `darkgrid`, `whitegrid`, `dark`, `white` and `ticks`. The default is `darkgrid`. In the following cell we change the style."
   ]
  },
  {
   "cell_type": "code",
   "execution_count": null,
   "metadata": {},
   "outputs": [],
   "source": [
    "sns.set_style(\"whitegrid\")"
   ]
  },
  {
   "cell_type": "code",
   "execution_count": null,
   "metadata": {},
   "outputs": [],
   "source": [
    "fig = plt.figure()\n",
    "ax = fig.add_subplot(1,1,1) # 1 row, 1 col, graphic 1\n",
    "ax.plot(x, y)\n",
    "plt.show()"
   ]
  },
  {
   "cell_type": "code",
   "execution_count": null,
   "metadata": {},
   "outputs": [],
   "source": [
    "plt.hist(np.random.randn(1000), alpha=0.5, histtype='stepfilled')\n",
    "plt.hist(0.75*np.random.randn(1000)+1, alpha=0.5, histtype='stepfilled')\n",
    "plt.show()"
   ]
  },
  {
   "cell_type": "markdown",
   "metadata": {},
   "source": [
    "**Note**: Notice that both the line plot and histogram take on the new style even though we only called `sns.set_style` once. When you set the style, this becomes the default for all subsequent plots; until you set the style again. "
   ]
  },
  {
   "cell_type": "markdown",
   "metadata": {},
   "source": [
    "**Action**: Go back up and test each of the five styles.  Which do you like best?"
   ]
  },
  {
   "cell_type": "markdown",
   "metadata": {},
   "source": [
    "We'll repeat some of the earlier plots now that seaborn has been imported."
   ]
  },
  {
   "cell_type": "code",
   "execution_count": null,
   "metadata": {},
   "outputs": [],
   "source": [
    "# not much here except getting the nicer style\n",
    "line_data = pd.DataFrame(np.random.normal(0,1,size=[200,8]).cumsum(axis=0))\n",
    "plt.plot(line_data)\n",
    "plt.show()"
   ]
  },
  {
   "cell_type": "markdown",
   "metadata": {},
   "source": [
    "We'll repeat an earlier histogram plot. The following cell just builds the data like before."
   ]
  },
  {
   "cell_type": "code",
   "execution_count": null,
   "metadata": {},
   "outputs": [],
   "source": [
    "x = np.random.normal(100, 20, size=300)"
   ]
  },
  {
   "cell_type": "markdown",
   "metadata": {},
   "source": [
    "**Action**: The next cell creates the histogram. Roll back up to see how this was coded in matplotlib."
   ]
  },
  {
   "cell_type": "code",
   "execution_count": null,
   "metadata": {},
   "outputs": [],
   "source": [
    "sns.distplot(x)"
   ]
  },
  {
   "cell_type": "markdown",
   "metadata": {},
   "source": [
    "__Note__: Recall the deprecation warning we saw earlier? This shows that seaborn is using matplotlib under the hood __and__ that seaborn has not updated there code to match the changes coming to matplotlib."
   ]
  },
  {
   "cell_type": "markdown",
   "metadata": {},
   "source": [
    "**Note**: Seaborn gives you some other stuff for free, like a [kernel density estimate](https://en.wikipedia.org/wiki/Kernel_density_estimation) (KDE) for the data."
   ]
  },
  {
   "cell_type": "code",
   "execution_count": null,
   "metadata": {},
   "outputs": [],
   "source": [
    "# turn off the KDE\n",
    "sns.distplot(x, kde=False)"
   ]
  },
  {
   "cell_type": "markdown",
   "metadata": {},
   "source": [
    "We'll replicate our bar plot from earlier."
   ]
  },
  {
   "cell_type": "code",
   "execution_count": null,
   "metadata": {},
   "outputs": [],
   "source": [
    "animals = ['dogs', 'cats', 'bats', 'rats', 'cows']\n",
    "heights = [501, 607, 709, 650, 532]\n",
    "\n",
    "fig, ax = plt.subplots()\n",
    "ggplot(ax)\n",
    "\n",
    "# create some bars\n",
    "ax.bar(range(len(animals)), heights, color=colors, alpha=0.75)\n",
    "\n",
    "# set the plot limits to have nice padding above the bars\n",
    "ax.set_ylim(0,800)\n",
    "\n",
    "# add labels above each bar\n",
    "for x, y in enumerate(heights):\n",
    "    plt.annotate(y, (x, y+20), ha='center')\n",
    "\n",
    "# add labels below each bar    \n",
    "ax.set_xticks(np.arange(len(animals)))\n",
    "ax.set_xticklabels(animals)\n",
    "\n",
    "plt.show()"
   ]
  },
  {
   "cell_type": "markdown",
   "metadata": {},
   "source": [
    "We'll rebuild this using seaborn. \n",
    "- Put the data into a pandas dataframe. \n",
    "- Call seaborn's `barplot` function.\n",
    "- We can still use matplotlib syntax to make tweaks to the plot.\n",
    "\n",
    "For this plot seaborn gets us most of the way there, but we still need a little matplotlib syntax to finish it off. Also notice the x and y axis labels come for free."
   ]
  },
  {
   "cell_type": "code",
   "execution_count": null,
   "metadata": {},
   "outputs": [],
   "source": [
    "animals = ['dogs', 'cats', 'bats', 'rats', 'cows']\n",
    "heights = [501, 607, 709, 650, 532]\n",
    "bar_data = pd.DataFrame(animals, columns=['animals'])\n",
    "bar_data['heights'] = heights\n",
    "\n",
    "plot = sns.barplot(x='animals', y='heights', data=bar_data)\n",
    "\n",
    "# set the plot limits to have nice padding above the bars\n",
    "plot.set_ylim(0,800)\n",
    "\n",
    "# add labels above each bar\n",
    "for x, y in enumerate(heights):\n",
    "    plot.annotate(y, (x, y+20), ha='center')\n",
    "plt.show()"
   ]
  },
  {
   "cell_type": "code",
   "execution_count": null,
   "metadata": {},
   "outputs": [],
   "source": [
    "d1 = np.random.normal(20, 10, 300)\n",
    "d2 = np.random.normal(40, 10, 300)\n",
    "data = pd.DataFrame(d1, columns=['data_1'])\n",
    "data['data_2'] = d2\n",
    "\n",
    "sns.boxplot(data=data)"
   ]
  },
  {
   "cell_type": "markdown",
   "metadata": {},
   "source": [
    "**Note**: Seaborn tries to use the pandas data frame columns as appropriate (in this case making them the x-axis labels)."
   ]
  },
  {
   "cell_type": "markdown",
   "metadata": {},
   "source": [
    "## Closing thoughts on Seaborn"
   ]
  },
  {
   "cell_type": "markdown",
   "metadata": {},
   "source": [
    "So you may be asking, \"why did he show us matplotlib if seaborn does all this great styling stuff.\" The answer is that seaborn sits on top of matplotlib, and so you will sometimes need to get your hands dirty mucking around with matplotlib to get the graphic just right. This can be analogized to the relationship between numpy and pandas; pandas sits on top of numpy, and provides a much nicer interface to data manipulation, but you still need to understand how numpy works to do sophisticated computations in python."
   ]
  },
  {
   "cell_type": "markdown",
   "metadata": {},
   "source": [
    "Seaborn is one of a few python plotting libraries vying to fill the current gap in the language for a high-level plotting package. matplotlib does (almost) everything in terms of plotting, and that has kept it around.  But it is also cumbersome to use.  You can compare this to ggplot in R, which has made visualization easy. It appears that seaborn is winning the battle in python, but if you really like ggplot you can [try this](http://ggplot.yhathq.com/)."
   ]
  },
  {
   "cell_type": "markdown",
   "metadata": {},
   "source": [
    "# Test Yourself"
   ]
  },
  {
   "cell_type": "markdown",
   "metadata": {},
   "source": [
    "1a) Use pandas to read in `iris.csv` that is in the `at_home` directory. Make a histogram of the `sepal_length` column using matplotlib. Do __NOT__ use the `ggplot` styling."
   ]
  },
  {
   "cell_type": "code",
   "execution_count": null,
   "metadata": {},
   "outputs": [],
   "source": [
    "# Run this cell to turn off the seaborn style\n",
    "sns.reset_orig()"
   ]
  },
  {
   "cell_type": "markdown",
   "metadata": {},
   "source": [
    "1b) Make the same histogram using seaborn. Do __NOT__ include the kernel density estimation."
   ]
  },
  {
   "cell_type": "markdown",
   "metadata": {},
   "source": [
    "---"
   ]
  },
  {
   "cell_type": "markdown",
   "metadata": {},
   "source": [
    "2) In your own words, what is the effect of this line?\n",
    "  \n",
    "       %matplotlib inline"
   ]
  },
  {
   "cell_type": "markdown",
   "metadata": {},
   "source": []
  },
  {
   "cell_type": "markdown",
   "metadata": {
    "collapsed": true
   },
   "source": [
    "3) Make some modern art using matplotlib.\n",
    "\n",
    "- Turn off the seaborn style using `sns.reset_orig()`.\n",
    "- Create a numpy array with 50 draws from a [uniform distribution](https://docs.scipy.org/doc/numpy-1.13.0/reference/generated/numpy.random.uniform.html), with a minimum value of 1 and max of 20. Call this `x`.\n",
    "- Repeat the above and call it `y`.\n",
    "- Do it again and call it `color`.\n",
    "- Repeat the above one more time, but this time assume that each value is a radius, and compute its area. Call this one `area`.\n",
    "- Read the docs on [matplotlib's scatterplot](https://matplotlib.org/api/_as_gen/matplotlib.axes.Axes.scatter.html). Plug in your four arrays to make a scatter plot. Set the `alpha` to 0.5. Hint: `area` is the size of the points and `color` is the color of the points.\n",
    "- Bonus: [Turn off the x and y labels and ticks](https://matplotlib.org/api/_as_gen/matplotlib.axes.Axes.tick_params.html?highlight=matplotlib%20axes%20axes%20tick_params#matplotlib.axes.Axes.tick_params) to make it really artsy.\n",
    "\n",
    "This makes a pretty picture, but notice that you just made a four dimensional plot. Imagine that each point is a U.S. state:\n",
    "- percent of the population in poverty is on the x axis\n",
    "- percent of the population with a college degree is on the y axis\n",
    "- total population is the size of the dot\n",
    "- population growth rate is represented by the dot color"
   ]
  },
  {
   "cell_type": "markdown",
   "metadata": {},
   "source": [
    "4) Visualize some flower data\n",
    "\n",
    "- Turn seaborn style back on using `sns.set()`\n",
    "- Use pandas to read in the `iris.csv`.\n",
    "- A [seaborn lmplot](https://seaborn.pydata.org/generated/seaborn.lmplot.html) will plot points and fit regression lines through subsets of the points. It does a ton of stuff in a single function call. Scroll to the bottom of the docs to see some examples.\n",
    "  - put the Sepal length on the x axis\n",
    "  - put the Sepal width on the y axis\n",
    "  - subset the data by species"
   ]
  }
 ],
 "metadata": {
  "anaconda-cloud": {},
  "kernelspec": {
   "display_name": "Python 3",
   "language": "python",
   "name": "python3"
  },
  "language_info": {
   "codemirror_mode": {
    "name": "ipython",
    "version": 3
   },
   "file_extension": ".py",
   "mimetype": "text/x-python",
   "name": "python",
   "nbconvert_exporter": "python",
   "pygments_lexer": "ipython3",
   "version": "3.6.5"
  }
 },
 "nbformat": 4,
 "nbformat_minor": 1
}
