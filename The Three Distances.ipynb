{
 "cells": [
  {
   "cell_type": "markdown",
   "metadata": {},
   "source": [
    "## Comparing three different distance metrics\n",
    "The main foci of this project were \n",
    "* to utilize computational thinking to clearly organize the process,\n",
    "* to manipulate a mathematical formula in Python,\n",
    "* to assign relevant variables that can be easily altered or used later on, and\n",
    "* to provide a use case for boolean and logical operators."
   ]
  },
  {
   "cell_type": "code",
   "execution_count": 1,
   "metadata": {},
   "outputs": [
    {
     "data": {
      "text/plain": [
       "' distance.py\\nTakes two lat/lon coordinate pairs and compares different distance metrics.\\nCompares user-created formulas to corresponding scipy.spatial functions\\n'"
      ]
     },
     "execution_count": 1,
     "metadata": {},
     "output_type": "execute_result"
    }
   ],
   "source": [
    "\"\"\" distance.py\n",
    "Takes two lat/lon coordinate pairs and compares different distance metrics.\n",
    "Compares user-created formulas to corresponding scipy.spatial functions\n",
    "\"\"\""
   ]
  },
  {
   "cell_type": "markdown",
   "metadata": {},
   "source": [
    "#### Make a habit of placing all imported modules, functions, and attributes at the beginning of scripts. Much easier to follow when dealing with longer code."
   ]
  },
  {
   "cell_type": "code",
   "execution_count": 2,
   "metadata": {},
   "outputs": [],
   "source": [
    "from scipy.spatial import distance"
   ]
  },
  {
   "cell_type": "markdown",
   "metadata": {},
   "source": [
    "#### The cell below establishes the coordinates of two lat/lon pairs\n",
    "##### Note: While it may not matter in this example, `x` is defined with the longitude and `y` by latitude."
   ]
  },
  {
   "cell_type": "code",
   "execution_count": 3,
   "metadata": {},
   "outputs": [],
   "source": [
    "\"\"\"\n",
    "Location 1: Baton Rouge, LA\n",
    "    30.4515, -91.1871\n",
    "Location 2: Ames, IA\n",
    "    42.0308, -93.6319\n",
    "\"\"\"\n",
    "\n",
    "x1, y1 = -91.1871, 30.4515\n",
    "x2, y2 = -93.6319, 42.0308 "
   ]
  },
  {
   "cell_type": "markdown",
   "metadata": {},
   "source": [
    "#### Computes the distance between respective latitudes and longitudes."
   ]
  },
  {
   "cell_type": "code",
   "execution_count": 4,
   "metadata": {},
   "outputs": [],
   "source": [
    "x_dist = x1 - x2\n",
    "y_dist = y1 - y2"
   ]
  },
  {
   "cell_type": "markdown",
   "metadata": {},
   "source": [
    "#### Computes, assigns variables, and prints the three distance metrics and rounds to 3 decimal places."
   ]
  },
  {
   "cell_type": "code",
   "execution_count": 5,
   "metadata": {},
   "outputs": [
    {
     "name": "stdout",
     "output_type": "stream",
     "text": [
      "The Euclidean distance is 11.835.\n",
      "The Manhattan distance is 14.024.\n",
      "The Minkowski distance is 14.024.\n"
     ]
    }
   ],
   "source": [
    "euclid = round((x_dist**2 + y_dist**2)**0.5, 3)\n",
    "manhat = round(abs(x_dist) + abs(y_dist), 3)\n",
    "p = 1       # Creates a simple location to change the value of p as needed.\n",
    "mink = round((abs(x_dist)**p + abs(y_dist)**p)**(1./p), 3)\n",
    "print('The Euclidean distance is ' + str(euclid) + '.')\n",
    "print('The Manhattan distance is ' + str(manhat) + '.')\n",
    "print('The Minkowski distance is ' + str(mink) + '.')"
   ]
  },
  {
   "cell_type": "markdown",
   "metadata": {},
   "source": [
    "#### Calls distance functions from `scipy.spatial`, rounds results and assigns to variables."
   ]
  },
  {
   "cell_type": "code",
   "execution_count": 6,
   "metadata": {},
   "outputs": [],
   "source": [
    "sci_eucl = round(distance.euclidean([x1, y1], [x2, y2]), 3)\n",
    "sci_manh = round(distance.cityblock([x1, y1], [x2, y2]), 3)\n",
    "sci_mink = round(distance.minkowski([x1, y1], [x2, y2], p), 3)"
   ]
  },
  {
   "cell_type": "markdown",
   "metadata": {},
   "source": [
    "#### Compares and prints user results against `scipy.spatial` function results for all three distance methods."
   ]
  },
  {
   "cell_type": "code",
   "execution_count": 7,
   "metadata": {},
   "outputs": [
    {
     "name": "stdout",
     "output_type": "stream",
     "text": [
      "True\n",
      "True\n",
      "True\n"
     ]
    }
   ],
   "source": [
    "print(euclid == sci_eucl)\n",
    "print(manhat == sci_manh)\n",
    "print(mink == sci_mink)"
   ]
  }
 ],
 "metadata": {
  "kernelspec": {
   "display_name": "Python 2",
   "language": "python",
   "name": "python2"
  },
  "language_info": {
   "codemirror_mode": {
    "name": "ipython",
    "version": 2
   },
   "file_extension": ".py",
   "mimetype": "text/x-python",
   "name": "python",
   "nbconvert_exporter": "python",
   "pygments_lexer": "ipython2",
   "version": "2.7.16"
  }
 },
 "nbformat": 4,
 "nbformat_minor": 2
}
