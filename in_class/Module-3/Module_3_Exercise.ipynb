{
 "cells": [
  {
   "cell_type": "markdown",
   "metadata": {},
   "source": [
    "# Module 3 Exercise\n",
    "\n",
    "#### GIS 5103\n",
    "#### Assigned: October 3, 2019\n",
    "\n",
    "_(See Exercise B below for submission instructions.)_"
   ]
  },
  {
   "cell_type": "markdown",
   "metadata": {},
   "source": [
    "---"
   ]
  },
  {
   "cell_type": "markdown",
   "metadata": {},
   "source": [
    "## Exercise A\n",
    "Below are three different functions that all presumably do the same thing.  However, only one of them actually works in all cases."
   ]
  },
  {
   "cell_type": "markdown",
   "metadata": {},
   "source": [
    "---"
   ]
  },
  {
   "cell_type": "code",
   "execution_count": null,
   "metadata": {},
   "outputs": [],
   "source": [
    "def comp_angle1(ang1, ang2):\n",
    "    # compute the remaining angle of a triangle\n",
    "    if ang1 + ang2 < 180:\n",
    "        return 180 - (ang1 + ang2)\n",
    "    else:\n",
    "        return \"this is not the angle you're looking for\""
   ]
  },
  {
   "cell_type": "code",
   "execution_count": null,
   "metadata": {},
   "outputs": [],
   "source": [
    "ang1 = 35\n",
    "ang2 = 95\n",
    "comp_angle1(ang1, ang2)"
   ]
  },
  {
   "cell_type": "code",
   "execution_count": null,
   "metadata": {},
   "outputs": [],
   "source": [
    "comp_angle1(35,95)"
   ]
  },
  {
   "cell_type": "code",
   "execution_count": null,
   "metadata": {},
   "outputs": [],
   "source": [
    "comp_angle1(10,30)"
   ]
  },
  {
   "cell_type": "markdown",
   "metadata": {},
   "source": [
    "---"
   ]
  },
  {
   "cell_type": "code",
   "execution_count": null,
   "metadata": {},
   "outputs": [],
   "source": [
    "def comp_angle2(ang1, ang2):\n",
    "    # compute the remaining angle of a triangle\n",
    "    if angle1 + angle2 < 180:\n",
    "        return 180 - (angle1 + angle2)\n",
    "    else:\n",
    "        return \"this is not the angle you're looking for\""
   ]
  },
  {
   "cell_type": "markdown",
   "metadata": {},
   "source": [
    "---"
   ]
  },
  {
   "cell_type": "markdown",
   "metadata": {},
   "source": [
    "**STOP**.  What is the difference between `comp_angle1()` and `comp_angle2()`?"
   ]
  },
  {
   "cell_type": "markdown",
   "metadata": {},
   "source": [
    "---"
   ]
  },
  {
   "cell_type": "code",
   "execution_count": null,
   "metadata": {},
   "outputs": [],
   "source": [
    "ang1 = 35\n",
    "ang2 = 95\n",
    "comp_angle2(ang1, ang2)"
   ]
  },
  {
   "cell_type": "code",
   "execution_count": null,
   "metadata": {},
   "outputs": [],
   "source": [
    "comp_angle2(35,95)"
   ]
  },
  {
   "cell_type": "code",
   "execution_count": null,
   "metadata": {},
   "outputs": [],
   "source": [
    "comp_angle2(10,30)"
   ]
  },
  {
   "cell_type": "markdown",
   "metadata": {},
   "source": [
    "---"
   ]
  },
  {
   "cell_type": "markdown",
   "metadata": {},
   "source": [
    "Why does `comp_angle2` always return an error?"
   ]
  },
  {
   "cell_type": "markdown",
   "metadata": {},
   "source": [
    "---"
   ]
  },
  {
   "cell_type": "code",
   "execution_count": null,
   "metadata": {},
   "outputs": [],
   "source": [
    "def comp_angle3(angle1, angle2):\n",
    "    # compute the remaining angle of a triangle\n",
    "    if ang1 + ang2 < 180:\n",
    "        return 180 - (ang1 + ang2)\n",
    "    else:\n",
    "        return \"this is not the angle you're looking for\""
   ]
  },
  {
   "cell_type": "markdown",
   "metadata": {},
   "source": [
    "---"
   ]
  },
  {
   "cell_type": "markdown",
   "metadata": {},
   "source": [
    "What is the difference between `comp_angle1()` and `comp_angle3()`?"
   ]
  },
  {
   "cell_type": "markdown",
   "metadata": {},
   "source": [
    "What is the difference between `comp_angle2()` and `comp_angle3()`?"
   ]
  },
  {
   "cell_type": "markdown",
   "metadata": {},
   "source": [
    "---"
   ]
  },
  {
   "cell_type": "code",
   "execution_count": null,
   "metadata": {},
   "outputs": [],
   "source": [
    "ang1 = 35\n",
    "ang2 = 95\n",
    "comp_angle3(ang1, ang2)"
   ]
  },
  {
   "cell_type": "code",
   "execution_count": null,
   "metadata": {},
   "outputs": [],
   "source": [
    "comp_angle3(35,95)"
   ]
  },
  {
   "cell_type": "code",
   "execution_count": null,
   "metadata": {},
   "outputs": [],
   "source": [
    "comp_angle3(10,30)"
   ]
  },
  {
   "cell_type": "markdown",
   "metadata": {},
   "source": [
    "---"
   ]
  },
  {
   "cell_type": "markdown",
   "metadata": {},
   "source": [
    "Why does `comp_angle3()` return the same value for the three examples?"
   ]
  },
  {
   "cell_type": "markdown",
   "metadata": {},
   "source": [
    "---"
   ]
  },
  {
   "cell_type": "markdown",
   "metadata": {},
   "source": [
    "## Exercise B"
   ]
  },
  {
   "cell_type": "markdown",
   "metadata": {},
   "source": [
    "_This assignment is adopted from problems 9-3 and 9-5 in Python Crash Course._"
   ]
  },
  {
   "cell_type": "markdown",
   "metadata": {},
   "source": [
    "##### Part 1\n",
    "Use the resources from at_home `05_functions_classes` and previous sections to complete the following exercises.\n",
    "In the first script,\n",
    "- Make a class called `Account`. \n",
    "- Create two attributes called `first_name` and `last_name`. \n",
    "- Then create several other attributes that are typically stored in a user account profile. (You can determine what kind of account it is.)\n",
    "- Make a method called `summary()` that prints a summary of the account and user's information.\n",
    "- Make another method called `greeting()` that prints a personalized greeting to the user.\n",
    "\n",
    "Create several instances representing different users and call both methods for each user."
   ]
  },
  {
   "cell_type": "markdown",
   "metadata": {},
   "source": [
    "---"
   ]
  },
  {
   "cell_type": "markdown",
   "metadata": {},
   "source": [
    "##### Part 2\n",
    "- Add an attribute called `login_attempts()` to your `Account` class above. \n",
    "- Write a method called `increment_login_attempts()` that increments the value of `login_attempts()` by `1`. \n",
    "- Write another method called `reset_login_attempts()` that resets the value of `login_attempts()` to `0`.\n",
    "\n",
    "- Make an instance of the `Account` class and call `increment_login_attempts()` several times. \n",
    "- Print the value of `login_attempts` to make sure it was incremented properly, and then call `reset_login_attempts()`. \n",
    "- Print `login_attempts` again to make sure it was reset to `0`."
   ]
  },
  {
   "cell_type": "markdown",
   "metadata": {},
   "source": [
    "---"
   ]
  },
  {
   "cell_type": "markdown",
   "metadata": {},
   "source": [
    "#### Submission\n",
    "When you complete this exercise, send **ONE EMAIL** to [bdjohnson@fsu.edu](mailto:bdjohnson@fsu.edu)\n",
    "containing both _this notebook_ and _your **python code (.py) for Exercise B**_ that completes the tasks below.  "
   ]
  }
 ],
 "metadata": {
  "anaconda-cloud": {},
  "kernelspec": {
   "display_name": "Python 2",
   "language": "python",
   "name": "python2"
  },
  "language_info": {
   "codemirror_mode": {
    "name": "ipython",
    "version": 2
   },
   "file_extension": ".py",
   "mimetype": "text/x-python",
   "name": "python",
   "nbconvert_exporter": "python",
   "pygments_lexer": "ipython2",
   "version": "2.7.16"
  }
 },
 "nbformat": 4,
 "nbformat_minor": 1
}
