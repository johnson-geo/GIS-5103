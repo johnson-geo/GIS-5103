{
 "cells": [
  {
   "cell_type": "markdown",
   "metadata": {},
   "source": [
    "# Module 5\n",
    "## Exercise B"
   ]
  },
  {
   "cell_type": "markdown",
   "metadata": {},
   "source": [
    "#### GIS 5103"
   ]
  },
  {
   "cell_type": "markdown",
   "metadata": {},
   "source": [
    "#### Assigned: November 7, 2019"
   ]
  },
  {
   "cell_type": "markdown",
   "metadata": {},
   "source": [
    "In this exercise you will be further analyzing the database of restaurants for the Phoenix metro area distributed by Yelp that you saw last week.  The database contains actual restaurants locations, user ratings and categorizations from Yelp. Email the completed Notebook to [bdjohnson@fsu.edu](mailto:bdjohnson@fsu.edu) by next class."
   ]
  },
  {
   "cell_type": "markdown",
   "metadata": {},
   "source": [
    "### Data"
   ]
  },
  {
   "cell_type": "markdown",
   "metadata": {},
   "source": [
    "#### 1.  Create a points GeoDataFrame."
   ]
  },
  {
   "cell_type": "markdown",
   "metadata": {},
   "source": [
    "a. What is the difference between a DataFrame and a GeoDataFrame?"
   ]
  },
  {
   "cell_type": "markdown",
   "metadata": {},
   "source": [
    "b. Read in the data from `restaurants.csv`, which is in the `in_class` directory, and create a GeoDataFrame from it."
   ]
  },
  {
   "cell_type": "markdown",
   "metadata": {},
   "source": [
    "* Geopandas does not read CSV files, but pandas does.\n",
    "* I recommend reading the data in as a pandas DataFrame and then plan out the strategy to make it into a GeoDataFrame. It is a little tricky.\n",
    "* There are some hints in the Notebook you had as homework."
   ]
  },
  {
   "cell_type": "markdown",
   "metadata": {},
   "source": [
    "#### 2. Make a map of the restaurants using geopandas tools.\n",
    "* Set the `rcParams` to make the map bigger.\n",
    "* Adjust the size and transparency of the points to make the map more readable."
   ]
  },
  {
   "cell_type": "markdown",
   "metadata": {},
   "source": [
    "#### 3. Project the restaurant data.\n",
    "\n",
    "It is important to distinguish between \"assigning a projection\" (or \"defining a projection\") and \"projecting\" (or \"reprojecting\"). \n",
    "- Assigning a projection simply means telling the GIS what you think the projection is. __No math is done in this case.__\n",
    "- Projecting asks the computer to convert spatial data from one projection to another. __This requires the computer to do a lot of math.__"
   ]
  },
  {
   "cell_type": "markdown",
   "metadata": {},
   "source": [
    "a. What is the current projection of the restaurant data you just read in? Why?"
   ]
  },
  {
   "cell_type": "markdown",
   "metadata": {},
   "source": [
    "b. Project the data.\n",
    "\n",
    "* You'll need to assign your GeoDataFrame CRS before projecting (see `at_home` Notebook).\n",
    "* Convert to [EPSG 2223](http://www.spatialreference.org/ref/epsg/2223/)\n",
    "* I recommend giving your projected GeoDataFrame to a new name while you work on getting the correct code."
   ]
  },
  {
   "cell_type": "markdown",
   "metadata": {},
   "source": [
    "#### 4. Plot your projected map\n",
    "\n",
    "* Constrain the bounds of the map to the dense part of the metro area. HINT: A geopandas plot uses matplotlib under the hood; so set your plot equal to a variable and adjust the axis limits on that object like any other matplotlib object.\n",
    "* Adjust the size and transparency of the points to make the map more readable."
   ]
  },
  {
   "cell_type": "markdown",
   "metadata": {},
   "source": [
    "#### 5. Read in information on light rail stations.\n",
    "* `phx_lightrail_stations/XYstations_ordered.shp`\n",
    "* Reproject to EPSG 2223. HINT: this is similar, but not exactly the same as the restaurant reprojection.\n",
    "* Plot the light rail points on top of the restaurant points. Use different colors and sizes for the station and restaurant points."
   ]
  },
  {
   "cell_type": "markdown",
   "metadata": {},
   "source": [
    "#### 6. Buffer the stations.\n",
    "* Create a half mile buffer around each station.\n",
    "* Plot the buffers, along with the restaurants and light rail stations (use the styling from the earlier plot)."
   ]
  },
  {
   "cell_type": "markdown",
   "metadata": {},
   "source": [
    "#### 7. Counting points \n",
    "\n",
    "a. What type is the buffer? How many elements are in the buffer?"
   ]
  },
  {
   "cell_type": "markdown",
   "metadata": {},
   "source": [
    "b. How many restaurants are within a half mile of a light rail station? Hints:\n",
    "\n",
    "- Look back at the at_home notebook to see how this is done; GeoPandas is a little finicky about the objects you use to do this.\n",
    "- `unary_union` will come in handy here; pay close attention to how to use it and the type of object it returns."
   ]
  },
  {
   "cell_type": "markdown",
   "metadata": {},
   "source": [
    "#### 8. Some summary stats.\n",
    "\n",
    "a. What share (i.e., percentage) of restaurants in the region are within a half mile of a rail station?"
   ]
  },
  {
   "cell_type": "markdown",
   "metadata": {},
   "source": [
    "b. What is the average number of restaurants per station?"
   ]
  },
  {
   "cell_type": "markdown",
   "metadata": {},
   "source": [
    "#### 9. Is the average number of restaurants per station abnormally high for the Phoenix area?\n",
    "\n",
    "One strategy to get at this:\n",
    "- Randomly pick a point in the metro area\n",
    "- Draw a half mile buffer around the point\n",
    "- Count the number of points in the buffer\n",
    "- Repeat the above steps 1000 times (keeping track of the value each time)\n",
    "- Conduct a two-tailed test at the 95% confidence level\n",
    "    - Find the cutoff point (it's at the 97.5 percentile)\n",
    "    - If the average number of restaurants near the stations is larger than the cutoff, then it is statistically significant\n",
    "    \n",
    "Optional: Look at the map of the Phoenix area above (or zoom to that scale in Google Maps). What is a potential criticism of the methodology I outlined above?"
   ]
  }
 ],
 "metadata": {
  "anaconda-cloud": {},
  "kernelspec": {
   "display_name": "Python 3",
   "language": "python",
   "name": "python3"
  },
  "language_info": {
   "codemirror_mode": {
    "name": "ipython",
    "version": 3
   },
   "file_extension": ".py",
   "mimetype": "text/x-python",
   "name": "python",
   "nbconvert_exporter": "python",
   "pygments_lexer": "ipython3",
   "version": "3.6.5"
  }
 },
 "nbformat": 4,
 "nbformat_minor": 1
}
