{
 "cells": [
  {
   "cell_type": "markdown",
   "metadata": {},
   "source": [
    "# Module 5\n",
    "## Exercise B"
   ]
  },
  {
   "cell_type": "markdown",
   "metadata": {},
   "source": [
    "#### GIS 5103"
   ]
  },
  {
   "cell_type": "markdown",
   "metadata": {},
   "source": [
    "#### Assigned: November 7, 2019"
   ]
  },
  {
   "cell_type": "markdown",
   "metadata": {},
   "source": [
    "Visualization is an important part of data analysis.  In this exercise you will be analyzing a database of restaurants in the Phoenix metro area distributed by Yelp.  The database contains actual restaurants locations, user ratings and categorizations from Yelp.  "
   ]
  },
  {
   "cell_type": "markdown",
   "metadata": {},
   "source": [
    "### Data"
   ]
  },
  {
   "cell_type": "markdown",
   "metadata": {},
   "source": [
    "#### 1. Read in the data from `restaurants.csv`, which is in the `in_class` directory."
   ]
  },
  {
   "cell_type": "markdown",
   "metadata": {},
   "source": [
    "* I recommend using pandas to read in the file.\n",
    "* Use the `head()` and `describe()` methods to see what your data frame contains."
   ]
  },
  {
   "cell_type": "markdown",
   "metadata": {},
   "source": [
    "### Plots"
   ]
  },
  {
   "cell_type": "markdown",
   "metadata": {},
   "source": [
    "#### 2. Make plots of  `stars`."
   ]
  },
  {
   "cell_type": "markdown",
   "metadata": {},
   "source": [
    "#### 2a. First make a histogram.\n",
    "\n",
    "* I recommend using seaborn for plotting. Do not include the KDE plot.\n",
    "* `stars` is the rounded average rating the restaurant received\n",
    "* A Pandas dataframe has a `value_counts()` method. Use this to figure out the number of possible values of `stars` and constrain your histogram to this number of `bins`."
   ]
  },
  {
   "cell_type": "markdown",
   "metadata": {},
   "source": [
    "#### 2b. Make a countplot of `stars`.\n",
    "\n",
    "- A histogram is a tool for summarizing data. For the Yelp dataset, the provider has in effect already summarized the `stars` data for us as you say in the `value_counts` output above. This makes the histogram look kind of weird since ticks on the x-axis are not aligned under the bars. Remember that the whole point of data visualization is __communication__.\n",
    "- Make a `countplot` (using seaborn).\n",
    "- The default settings for `countplot` results in multicolored bars. For this particular visualization a single color is more appropriate. Use the `color` argument to set the color to a particular value. Note that seaborn allows you to enter values such as `'red'` or `'blue'`."
   ]
  },
  {
   "cell_type": "markdown",
   "metadata": {},
   "source": [
    "#### 3. Compare the `stars` of open and closed restaurants (side-by-side)."
   ]
  },
  {
   "cell_type": "markdown",
   "metadata": {},
   "source": [
    "* The goal here is to split the data using the `open` column. \"Open\" restaurants are still in business, and we want to see if the ratings of closed restaurants are different from ones still in business. What would you expect _a priori_?\n",
    "* Plot side-by-side countplots of `stars`, one for open restaurants and one for closed.\n",
    "* Seaborn has a class called `FacetGrid` that does most of the heavy lifting.\n",
    "  * Create a `FacetGrid` object (first line of code).\n",
    "  * Use that object's `map` method to build the two histograms (second line of code).\n",
    "  * You want to use the same seaborn plot type as in Question 2, but now inside the `map` method. This is a little tricky, so look closely at the examples you find on line to see how `map` works in seaborn.\n",
    "  * Note: you might get a warning about \"specifying `order`\". This is not an issue for this plot."
   ]
  },
  {
   "cell_type": "markdown",
   "metadata": {},
   "source": [
    "#### 4. Interpret the answer from the previous question."
   ]
  },
  {
   "cell_type": "markdown",
   "metadata": {},
   "source": [
    "a. Are there more \"open\" or \"closed\" restaurants?"
   ]
  },
  {
   "cell_type": "markdown",
   "metadata": {},
   "source": [
    "b. Based in the plot, do open or closed restaurants tend to get better ratings?"
   ]
  },
  {
   "cell_type": "markdown",
   "metadata": {},
   "source": [
    "#### 5. Are `hipster` restaurants better than the average restaurant?"
   ]
  },
  {
   "cell_type": "markdown",
   "metadata": {},
   "source": [
    "* Don't know what a \"hipster\" is? Check out [this](https://thumbnails-visually.netdna-ssl.com/the-evolution-of-a-hipster_50290b4e749ad_w1500.jpg) and [this](http://youtu.be/kAO4EVMlpwM).\n",
    "* Make a `barplot` that compares the average (mean) rating (*stars*) between `hipster` and non-hipster restaurants. The plot will have just two bars.\n",
    "* Note: I'm not making this up, Yelp actually categorizes restaurants as \"hipster\" or not.\n",
    "* Since hipsters are all about style (although of course they would never admit to spending 15 minutes getting the perfect bed-head look), this plot needs to be extra pretty.  All joking aside, journal editors (and bosses) expect you to produce pretty (read \"sophisticated\", \"useful\", \"easily interpretable\") plots, and this is an exercise in customizing a seaborn/matplotlib plot."
   ]
  },
  {
   "cell_type": "markdown",
   "metadata": {},
   "source": [
    "* First, make a default seaborn `barplot` and assign that plot object to a variable.\n",
    "* Second, style the object you created in the first step using _methods_ of that object.\n",
    "\n",
    "Style Rules:\n",
    "\n",
    "* Remove the confidence interval markers (this is done in the `barplot` function).\n",
    "* The x-axis should only have a label centered below each bar (e.g., \"hipster\" and \"not hipster\"); no numbers, ticks or anything else on the x-axis. (HINT: `set_xlabel` and `set_xticklabels` from matplotlib will be useful here.)\n",
    "\n",
    "* The y-axis should have numbers and a custom label (i.e., create a label that is not the default).\n",
    "\n",
    "* The y-axis should go to 5 (the max Yelp rating).  See the `set_ylim` method.\n",
    "\n",
    "* The plot obviously needs a relevant title. See the `set_title` method.\n",
    "\n",
    "* BONUS: Since studying hipster restaurants is a bit absurd, you may want to apply the [XKCD style](http://xkcd.com/) to your plot using `xkcd()` function of matplotlib. Ticks are okay here."
   ]
  },
  {
   "cell_type": "markdown",
   "metadata": {},
   "source": [
    "#### 6. Plot the restaurant locations."
   ]
  },
  {
   "cell_type": "markdown",
   "metadata": {},
   "source": [
    "* If you used XKCD style in the previous question, turn it off with `plt.rcdefaults()`.\n",
    "* For today, you don't need to use any specialized mapping packages, just plot points based on the `latitude` and `longitude`.\n",
    "* Seaborn's scatter plot functionality is in `regplot`.\n",
    "* Turn off the fit line.\n",
    "* Adjust the visible area of the plot. Mess with the range of the x and y axes (`set_xlim` and `set_ylim`) to exclude the sparse areas on the map. \n",
    "* Adjust the point size, so that you can see the general point pattern in the region. Seaborn sits on top of matplotlib, and so `regplot` borrows basic scatter plot functionality from matplotlib. Notice that `regplot` has a `scatter_kws` parameter that takes a dictionary. This allows you to pass styling through to matplotlib. \n",
    "* What can you infer about the Phoenix metro area street network from this plot?"
   ]
  },
  {
   "cell_type": "markdown",
   "metadata": {},
   "source": [
    "#### 7. Use hexbins to address the problem of over plotting."
   ]
  },
  {
   "cell_type": "markdown",
   "metadata": {},
   "source": [
    "* Over plotting becomes a problem when there are many points on a plot.\n",
    "* Use matplotlib's `hexbin` function for aggregating points into polygons for easier interpretation of high concentrations of points.\n",
    "* Hint: copy and paste from the at_home notebook and change the parameters to match the restaurants data.\n",
    "* Vary the `gridsize` for `hexbin` to identify a map that seems to reveal the most information about the pattern of restaurants.  \n",
    "* The at_home Notebook shows how to use `colorbar` to put a legend on the `hexbin` plot.\n",
    "* Plot your favorite `hexbin` map.\n",
    "* Discuss why you chose this map, and how many high concentrations of restaurants are in the Phoenix metro area."
   ]
  }
 ],
 "metadata": {
  "anaconda-cloud": {},
  "kernelspec": {
   "display_name": "Python 3",
   "language": "python",
   "name": "python3"
  },
  "language_info": {
   "codemirror_mode": {
    "name": "ipython",
    "version": 3
   },
   "file_extension": ".py",
   "mimetype": "text/x-python",
   "name": "python",
   "nbconvert_exporter": "python",
   "pygments_lexer": "ipython3",
   "version": "3.7.5"
  }
 },
 "nbformat": 4,
 "nbformat_minor": 1
}
