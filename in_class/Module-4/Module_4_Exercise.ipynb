{
 "cells": [
  {
   "cell_type": "markdown",
   "metadata": {},
   "source": [
    "# Module 4 Exercise"
   ]
  },
  {
   "cell_type": "markdown",
   "metadata": {},
   "source": [
    "#### GIS 5103\n",
    "\n",
    "#### Assigned: October 17, 2019"
   ]
  },
  {
   "cell_type": "markdown",
   "metadata": {},
   "source": [
    "Basic map algebra performs algebraic operations (e.g., addition, subtraction, etc.) on two or more raster maps with the same dimensions.  An example might be where Map A contains the number of housing units for each cell in Year 1, and Map B contains the same data but for Year 2; the objective may then be to get a new map with the change in housing units from Year 1 to Year 2, and identify the cell with the greatest change. Another example is computing say NDVI from multiple bands from a satellite image. Below you will conduct various computations on raster maps.  \n",
    "\n",
    "Send your completed notebook to [bdjohnson@fsu.edu](mailto:bdjohnson@fsu.edu) before the next class meeting."
   ]
  },
  {
   "cell_type": "markdown",
   "metadata": {},
   "source": [
    "### Goals"
   ]
  },
  {
   "cell_type": "markdown",
   "metadata": {},
   "source": [
    "Numpy underlies most mathematical packages and activities in Python, it is therefore important to understand how it works. In this exercise you will...\n",
    "- practice using numpy\n",
    "- search Google to extend your numpy skills"
   ]
  },
  {
   "cell_type": "markdown",
   "metadata": {},
   "source": [
    "### Data"
   ]
  },
  {
   "cell_type": "markdown",
   "metadata": {},
   "source": [
    "The example data you will be using comes from a 500x600 meter fictional desert site where data have been collected on the number of plants over 0.5 meters high.  The site has been divided into 30 square cells, each 100x100 meters.  Plant counts were collected and aggregated to the cell level (we need to respect the plants' privacy).  Fifty years of data is available.\n",
    "\n",
    "The data are provided as a list containing 50 lists of lists organized to match the locations on the ground.  For example, the data at `plants[1][0][5]` is the Year 1 (assuming we start at Year 0) count of plants in the northeastern most cell. Run the cell below to get the data."
   ]
  },
  {
   "cell_type": "code",
   "execution_count": null,
   "metadata": {},
   "outputs": [],
   "source": [
    "import random\n",
    "\n",
    "def get_plants(rows, cols):\n",
    "    plants = []\n",
    "    for i in range(rows):\n",
    "        plants.append([random.randint(1,99) for j in range(cols)])\n",
    "    return plants\n",
    "\n",
    "random.seed(123)\n",
    "plants = [get_plants(5,6) for i in range(50)]"
   ]
  },
  {
   "cell_type": "markdown",
   "metadata": {},
   "source": [
    "For all intents and purposes, a NumPy array is a good proxy for a rectangular rasterized map.  NOTE: The northeastern most cell is located at `[0,5]` in a NumPy array. You will be working with fifty maps in this exercise.  \n",
    "\n",
    "NOTE: NumPy has tons of functionality, more than I could show in the Notebook you reviewed at home.  Part of this exercise requires you to seek out that functionality online to help answer these questions concisely.  I have provided some NumPy hints in the questions to help get you started.\n",
    "\n",
    "---"
   ]
  },
  {
   "cell_type": "markdown",
   "metadata": {},
   "source": [
    "### Questions"
   ]
  },
  {
   "cell_type": "markdown",
   "metadata": {},
   "source": [
    "#### 1. Organize the data for the questions that follow."
   ]
  },
  {
   "cell_type": "markdown",
   "metadata": {},
   "source": [
    "- NOTE: The object should be an array with the dimensions: (50, 5, 6)."
   ]
  },
  {
   "cell_type": "markdown",
   "metadata": {},
   "source": [
    "#### 2. Print the total number of plants found each year. "
   ]
  },
  {
   "cell_type": "markdown",
   "metadata": {},
   "source": [
    " * NOTE1: The result should be one integer for each year.\n",
    " * NOTE2: In addition to printing the result, store it for use in later questions."
   ]
  },
  {
   "cell_type": "markdown",
   "metadata": {},
   "source": [
    "#### 3. Print the total number of plants identified over the fifty years. "
   ]
  },
  {
   "cell_type": "markdown",
   "metadata": {},
   "source": [
    " * NOTE1: You can assume that each year's data represent new plants.\n",
    " * NOTE2: Your result from number 2 might make this easier.\n",
    " * NOTE3: The result is a single integer."
   ]
  },
  {
   "cell_type": "markdown",
   "metadata": {},
   "source": [
    "#### 4. Print the annual change in total plants.  "
   ]
  },
  {
   "cell_type": "markdown",
   "metadata": {},
   "source": [
    " * NOTE1: This is Year1-Year0, Year2-Year1, etc.\n",
    " * NOTE2: The result is 49 integers.\n",
    " * NOTE3: There is a numpy function to do this. Search Google to find it.\n",
    " * NOTE4: Given your earlier results, the answer here should be one line."
   ]
  },
  {
   "cell_type": "markdown",
   "metadata": {},
   "source": [
    "#### 5. Print a \"map\" of the change in number of plants from Year 2 to Year 3."
   ]
  },
  {
   "cell_type": "markdown",
   "metadata": {},
   "source": [
    " * NOTE1: This is asking for the change within each cell.\n",
    " * NOTE2: A \"map\" is a 5x6 NumPy array of numbers.\n",
    " * NOTE3: Assume that years are numbered: Year 0, Year 1, Year 2, ..., Year 49"
   ]
  },
  {
   "cell_type": "markdown",
   "metadata": {},
   "source": [
    "#### 6. Print a \"map\" of the percent change in plants from Year 4 to Year 5.  Round the results to one decimal place."
   ]
  },
  {
   "cell_type": "markdown",
   "metadata": {},
   "source": [
    " * NOTE1: Round results to 1 decimal place using NumPy's round function.\n",
    " * NOTE2: If it seems like `np.round()` is not working it is probably because there is an error in your percent change code.\n",
    "\n",
    "The percent change for a particular cell $i$ between years 4 and 5 can be computed as follows:     \n",
    "$$\\mbox{pct_change}_{i,4,5} = \n",
    "     100 * \\left((\\mbox{plants}_{i,5} - \\mbox{plants}_{i,4}) / \n",
    "      \\mbox{plants}_{i,4} \\right)$$"
   ]
  },
  {
   "cell_type": "markdown",
   "metadata": {},
   "source": [
    "**7. Collapse your answer from the previous question into one line of code.**"
   ]
  },
  {
   "cell_type": "markdown",
   "metadata": {},
   "source": [
    "#### 8. Using your Year 4 to Year 5 percent change map, how many cells had a decrease in plant count from Year 4 to Year 5?"
   ]
  },
  {
   "cell_type": "markdown",
   "metadata": {},
   "source": [
    "NOTE1: Use python syntax, don't just count them by hand."
   ]
  },
  {
   "cell_type": "markdown",
   "metadata": {},
   "source": [
    "#### 9. Print a map that contains the total plants identified in each cell over the 50 years."
   ]
  }
 ],
 "metadata": {
  "anaconda-cloud": {},
  "kernelspec": {
   "display_name": "Python 2",
   "language": "python",
   "name": "python2"
  },
  "language_info": {
   "codemirror_mode": {
    "name": "ipython",
    "version": 2
   },
   "file_extension": ".py",
   "mimetype": "text/x-python",
   "name": "python",
   "nbconvert_exporter": "python",
   "pygments_lexer": "ipython2",
   "version": "2.7.16"
  }
 },
 "nbformat": 4,
 "nbformat_minor": 1
}
