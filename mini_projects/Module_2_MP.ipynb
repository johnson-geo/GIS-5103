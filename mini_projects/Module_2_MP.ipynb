{
 "cells": [
  {
   "cell_type": "markdown",
   "metadata": {},
   "source": [
    "# Exercise 4\n",
    "\n",
    "#### GIS 5103\n",
    "__Assigned: September 26, 2019__  \n",
    "__Due: October 3, 2019__\n",
    "\n",
    "\n",
    "When you complete this exercise, send **ONE EMAIL** to [bdjohnson@fsu.edu](mailto:bdjohnson@fsu.edu)\n",
    "containing your team's notebook that completes the tasks below.  This is due\n",
    "before our next class meeting."
   ]
  },
  {
   "cell_type": "markdown",
   "metadata": {},
   "source": [
    "---"
   ]
  },
  {
   "cell_type": "markdown",
   "metadata": {},
   "source": [
    "### Package Installation\n",
    "\n",
    "We will be using the [`geopy` package](https://geopy.readthedocs.io/en/latest/) this week. This package geocodes addresses\n",
    "and computes distances between points. Geocoding is the process of converting\n",
    "an address such as \"123 Main St, Anytown USA 01234\" into a latitude/longitude\n",
    "coordinate. There are many companies that provide online geocoding services via\n",
    "APIs, and `geopy` provides a single python interface that connects to many of\n",
    "them.  When computing distances, `geopy` can consider the curvature of the\n",
    "earth; this means that distances assume travel along the surface of curved\n",
    "object and not a straight line burrowing through the planet (i.e., Euclidean\n",
    "distance).\n",
    "\n",
    "To install the package, open a new Terminal (Mac) or Anaconda Prompt (Windows)\n",
    "and run the following line (note: you can run this from any directory; no need\n",
    "to `cd` anyplace before running the line): \n",
    "``` \n",
    "pip install geopy \n",
    "```"
   ]
  },
  {
   "cell_type": "markdown",
   "metadata": {},
   "source": [
    "---"
   ]
  },
  {
   "cell_type": "markdown",
   "metadata": {},
   "source": [
    "### Big Picture\n",
    "\n",
    "Write a program that computes the pairwise distance between a list\n",
    "of cities.  The start of the program can be found.\n",
    "\n",
    "#### Goals\n",
    "- Learn how to use a new a API\n",
    "- Learn that different APIs provide results in different formats\n",
    "- Learn a classic programming \"pattern\" the starts by creating an empty container, and then filling it up each time through a loop.\n"
   ]
  },
  {
   "cell_type": "markdown",
   "metadata": {},
   "source": [
    "---"
   ]
  },
  {
   "cell_type": "markdown",
   "metadata": {},
   "source": [
    "1) Run the following cell.\n",
    "In the `geolocator` assignment statement below, replace my email address with your own. __This is in order to conform to the [Nominatim Usage Policy](https://operations.osmfoundation.org/policies/nominatim/)__ which provides the server allowing use of the API. See the code template here.\n",
    "```python\n",
    "# instantiate the geocoder\n",
    "geolocator = Nominatim(user_agent=\"insert your email address here\") \n",
    "```"
   ]
  },
  {
   "cell_type": "code",
   "execution_count": null,
   "metadata": {},
   "outputs": [],
   "source": [
    "from geopy.geocoders import Nominatim\n",
    "from geopy import distance\n",
    "\n",
    "# instantiate the geocoder\n",
    "geolocator = Nominatim(user_agent=\"bdjohnson@fsu.edu\") \n",
    "\n",
    "# geocode a location\n",
    "location = geolocator.geocode(\"Tallahassee, FL\")\n",
    "\n",
    "# get distance between two locations\n",
    "newport_ri = (41.49008, -71.312796)\n",
    "cleveland_oh = (41.499498, -81.695391)\n",
    "dist = distance.distance(newport_ri, cleveland_oh)"
   ]
  },
  {
   "cell_type": "markdown",
   "metadata": {},
   "source": [
    "2) Explore the results.\n",
    "\n",
    "- Explore the `location` variable. Print the latitude and longitude from the object.\n",
    "- Explore the `dist` variable. Print the distance in miles and kilometers from the object."
   ]
  },
  {
   "cell_type": "markdown",
   "metadata": {},
   "source": [
    "3) Pick seven cities from around the US and/or world (including Tallahassee).\n",
    "\n",
    "   - Put the city names in a list\n",
    "   - Loop through the city names\n",
    "      - Geocode the city name\n",
    "      - Print the city name and corresponding lat/lon on a single line"
   ]
  },
  {
   "cell_type": "markdown",
   "metadata": {},
   "source": [
    "4)  Repeat the previous question, but this time store the results in a dictionary where the key is the city name and the value is a tuple with the lat/lon."
   ]
  },
  {
   "cell_type": "markdown",
   "metadata": {},
   "source": [
    "5) Compute all the pairwise distances (in miles). \n",
    "\n",
    " * Computing all the pairwise distances between seven cities results in 49\n",
    "   distances (7x7=49). The distance between a city and itself is zero, and\n",
    "   flipping the origin and destination results in the same distance. Even\n",
    "   though these regularities exist, we will explicitly store all 49 numbers.\n",
    " * Store the results in a 7 x 8 list of lists.\n",
    "   This is essentially a spreadsheet style organization of the results, with 7\n",
    "   \"rows\" and 8 \"columns.\"\n",
    " * The first element in each interior list (i.e., the\n",
    "   \"rows\") is the \"origin\" city name, and the remaining 7 elements in the row\n",
    "   are the distances between the origin and destination cities. You do not\n",
    "   need to put city names on the \"columns\", but it will be assumed that the\n",
    "   city associated with each column is in the same order as the rows."
   ]
  },
  {
   "cell_type": "markdown",
   "metadata": {},
   "source": [
    "6) Modify your previous answer to include the following rules for rounding the distance between two cities:\n",
    " * distance less than 100 miles: round the distance to three decimal places\n",
    " * distance of 100 miles or more, but less than 1000 miles: round the distance to two decimal places\n",
    " * distance of 1000 miles or more: round the distance to one decimal place "
   ]
  },
  {
   "cell_type": "markdown",
   "metadata": {},
   "source": [
    "7) Add another city to the list and rerun your code. \n",
    "\n",
    "   - In principle, you should not need to change any code to do this (besides\n",
    "     adding in the new city name).\n",
    "   - If changes were required, then revisit your code to see how you can make\n",
    "     it more general to handle different numbers of cities.\n",
    "\n"
   ]
  }
 ],
 "metadata": {
  "kernelspec": {
   "display_name": "Python 2",
   "language": "python",
   "name": "python2"
  },
  "language_info": {
   "codemirror_mode": {
    "name": "ipython",
    "version": 2
   },
   "file_extension": ".py",
   "mimetype": "text/x-python",
   "name": "python",
   "nbconvert_exporter": "python",
   "pygments_lexer": "ipython2",
   "version": "2.7.16"
  }
 },
 "nbformat": 4,
 "nbformat_minor": 2
}
