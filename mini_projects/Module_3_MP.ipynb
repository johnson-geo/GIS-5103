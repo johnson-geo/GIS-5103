{
 "cells": [
  {
   "cell_type": "markdown",
   "metadata": {},
   "source": [
    "# Module 3\n",
    "## MiniProject\n",
    "\n",
    "#### GIS 5103\n",
    "#### Assigned: October 10, 2019\n",
    "\n",
    "\n",
    "When you complete this exercise, send **ONE EMAIL** to [bdjohnson@fsu.edu](mailto:bdjohnson@fsu.edu)\n",
    "containing your team's notebook that completes the tasks below.  This is due\n",
    "before our next class meeting."
   ]
  },
  {
   "cell_type": "markdown",
   "metadata": {},
   "source": [
    "---"
   ]
  },
  {
   "cell_type": "markdown",
   "metadata": {},
   "source": [
    "### JSON\n",
    "\n",
    "JSON or \"JavaScript Object Notation\" is a set of rules for organizing data. Although the word \"JavaScript\" is in the name, today it exists independent of that language. An alternative set of rules for organizing data is CSV or \"comma separated values\"; CSV is good for spreadsheets, which is why they tend to open nicely in Excel. JSON is more flexible than CSV and has become a standard for moving data around on the internet.\n",
    "\n",
    "Here is an example of what JSON looks like:\n",
    "\n",
    "```\n",
    "[{ \n",
    "    \"id\" : 6543,\n",
    "    \"name\" : \"Jane Smith\",\n",
    "    \"age\" : 52,\n",
    "    \"degrees\" : [\"bachelors\", \"masters\", \"PhD\"],\n",
    "},\n",
    "{ \n",
    "    \"id\" : 9346,\n",
    "    \"name\" : \"John Doe\",\n",
    "    \"age\" : 49,\n",
    "    \"degrees\" : [\"bachelors\"],\n",
    "}]\n",
    "```\n",
    "\n",
    "Note that in general JSON syntax matches python syntax. [More on JSON](https://en.wikipedia.org/wiki/JSON)."
   ]
  },
  {
   "cell_type": "markdown",
   "metadata": {},
   "source": [
    "---"
   ]
  },
  {
   "cell_type": "markdown",
   "metadata": {},
   "source": [
    "### API Access\n",
    "\n",
    "We will be using content from www.geonames.org this week.\n",
    "\n",
    "> The GeoNames geographical database covers all countries and contains over eleven million placenames that are available for download free of charge.\n",
    "\n",
    "We will be using their API to pass commands to their GeoNames server that will result in it returning specific data back to us. GeoNames uses a RESTful API. RESTful APIs are based on the REST (representational state transfer) software architecture style, which leverages HTTP protocols (essentially the rules for creating a web address) to get the server to do something. The strength of this structure is that a user can simply construct a web address as a text string and does not need to understand how the server works. For this class you are only expected to understand the user side (not the server side) of this transaction. A [brief introduction to RESTful APIs](https://searchmicroservices.techtarget.com/definition/RESTful-API).\n",
    "\n",
    "You will need a GeoNames user name to access their API.\n",
    "\n",
    "- Go to www.geonames.org/login and follow the steps to \"create a new user account\"\n",
    "- Follow the directions in the email they send you\n",
    "- Additional step to get the API to work\n",
    "  - Login to GeoNames (if you are not already logged in)\n",
    "  - Click your user name in the upper-right corner\n",
    "  - Below the boxes is a link that says \"Click here to enable\"; click that link\n",
    "  \n",
    "We will only use a few of the GeoNames services. [Here is a list of all the services.](https://www.geonames.org/export/web-services.html)"
   ]
  },
  {
   "cell_type": "markdown",
   "metadata": {},
   "source": [
    "---"
   ]
  },
  {
   "cell_type": "markdown",
   "metadata": {},
   "source": [
    "### Goals\n",
    "\n",
    "- Strengthen computational thinking skills\n",
    "  - Breaking a problem into its component parts\n",
    "  - Figuring out the Python tools needed to implement each part\n",
    "  - Putting the pieces together into working code\n",
    "- Gain comfort working with building complex text strings\n",
    "- Practice writing functions\n",
    "\n",
    "You already have seen all the Python syntax needed to complete today's exercise. You will be using string, dictionary, list and function syntax."
   ]
  },
  {
   "cell_type": "markdown",
   "metadata": {},
   "source": [
    "---"
   ]
  },
  {
   "cell_type": "markdown",
   "metadata": {},
   "source": [
    "1) Get a feel for how a RESTful API works.\n",
    "\n",
    "a) Open a new web browser window (or tab) and paste in the following (be sure to replace `demo` with your username):\n",
    "`http://api.geonames.org/searchJSON?q=tallahassee&maxRows=1&username=demo`\n",
    "\n",
    "What is the population, latitude, longitude and country of Tallahassee? (just copy-and-paste the answers)"
   ]
  },
  {
   "cell_type": "markdown",
   "metadata": {},
   "source": [
    "[Type answer here]"
   ]
  },
  {
   "cell_type": "markdown",
   "metadata": {},
   "source": [
    "b) Modify the above URL to pull the info for Atlanta.\n",
    "\n",
    "What is the population, latitude, longitude and country of Atlanta?"
   ]
  },
  {
   "cell_type": "markdown",
   "metadata": {},
   "source": [
    "[Type answer here]"
   ]
  },
  {
   "cell_type": "markdown",
   "metadata": {},
   "source": [
    "c) Construct the URL from parts.\n",
    "- Break the URL into 5 parts and assign to the following variables (be sure all the characters from the URL are in one of the variables)\n",
    "    - `base`\n",
    "    - `service`\n",
    "    - `city` (Note: this should be just the city name)\n",
    "    - `rows`\n",
    "    - `user`\n",
    "- Combine the _variables_ to get a single string that matches the URL\n",
    "- Assign the combined string to a variable called `url`\n",
    "- Test the URL to be sure you got it correct."
   ]
  },
  {
   "cell_type": "code",
   "execution_count": null,
   "metadata": {},
   "outputs": [],
   "source": []
  },
  {
   "cell_type": "markdown",
   "metadata": {},
   "source": [
    "---"
   ]
  },
  {
   "cell_type": "markdown",
   "metadata": {},
   "source": [
    "2 Working with JSON data."
   ]
  },
  {
   "cell_type": "markdown",
   "metadata": {},
   "source": [
    "a) Replace `XXXX` in the following cell with the Tallahassee URL from 1a."
   ]
  },
  {
   "cell_type": "code",
   "execution_count": null,
   "metadata": {},
   "outputs": [],
   "source": [
    "import requests\n",
    "\n",
    "result = requests.get('XXXX').json()\n",
    "result"
   ]
  },
  {
   "cell_type": "markdown",
   "metadata": {},
   "source": [
    "b) What type of object is `result`?"
   ]
  },
  {
   "cell_type": "code",
   "execution_count": null,
   "metadata": {},
   "outputs": [],
   "source": []
  },
  {
   "cell_type": "markdown",
   "metadata": {},
   "source": [
    "c) How many elements are in `result`?"
   ]
  },
  {
   "cell_type": "code",
   "execution_count": null,
   "metadata": {},
   "outputs": [],
   "source": []
  },
  {
   "cell_type": "markdown",
   "metadata": {},
   "source": [
    "d) Extract the `geonames` element from `results`."
   ]
  },
  {
   "cell_type": "code",
   "execution_count": null,
   "metadata": {},
   "outputs": [],
   "source": []
  },
  {
   "cell_type": "markdown",
   "metadata": {},
   "source": [
    "e) What type of object is the `geonames` element from `results`? How many elements are in `geonames`?"
   ]
  },
  {
   "cell_type": "code",
   "execution_count": null,
   "metadata": {},
   "outputs": [],
   "source": []
  },
  {
   "cell_type": "markdown",
   "metadata": {},
   "source": [
    "f) Extract the latitude and longitude from `result`.\n",
    "\n",
    "HINT: \n",
    "- look at your answers to the previous parts of Question 2\n",
    "- you need to drill into the `result` object one layer at a time\n",
    "- carefully read any error messages you get"
   ]
  },
  {
   "cell_type": "code",
   "execution_count": null,
   "metadata": {},
   "outputs": [],
   "source": []
  },
  {
   "cell_type": "markdown",
   "metadata": {},
   "source": [
    "---"
   ]
  },
  {
   "cell_type": "markdown",
   "metadata": {},
   "source": [
    "3) Let's write some functions."
   ]
  },
  {
   "cell_type": "markdown",
   "metadata": {},
   "source": [
    "a) Write a function that takes a city name as an argument and returns (not prints) a string like this: `'The city of [city name] is awesome!'`. For example if the city name was `Miami`, the function would return `'The city of Miami is awesome!'`."
   ]
  },
  {
   "cell_type": "code",
   "execution_count": null,
   "metadata": {},
   "outputs": [],
   "source": []
  },
  {
   "cell_type": "markdown",
   "metadata": {},
   "source": [
    "b) Write a function that takes a city name as an argument and returns a text string for the GeoNames URL like the one from 1a. For example if the city name was `Miami` it would return `'http://api.geonames.org/searchJSON?q=Miami&maxRows=1&username=demo'`.\n",
    "\n",
    "HINT: \n",
    "- This answer is mostly a combination of earlier answers\n",
    "- Don't forget to use the correct user name\n",
    "- Test your output in a web browser"
   ]
  },
  {
   "cell_type": "code",
   "execution_count": null,
   "metadata": {},
   "outputs": [],
   "source": []
  },
  {
   "cell_type": "markdown",
   "metadata": {},
   "source": [
    "c) Write a function that takes a city name as an argument and returns a tuple containing the latitude and longitude.\n",
    "\n",
    "HINT: \n",
    "- This is answer is almost all copy and paste from earlier answers\n",
    "- Test your function to be sure it works"
   ]
  },
  {
   "cell_type": "code",
   "execution_count": null,
   "metadata": {},
   "outputs": [],
   "source": []
  },
  {
   "cell_type": "markdown",
   "metadata": {},
   "source": [
    "---"
   ]
  },
  {
   "cell_type": "markdown",
   "metadata": {},
   "source": [
    "4) GeoNames has a lot of other nifty \"services\" based on lat/lons. "
   ]
  },
  {
   "cell_type": "markdown",
   "metadata": {},
   "source": [
    "a) Copy and paste the following into a web browser:\n",
    "\n",
    "- Elevation: `http://api.geonames.org/srtm1JSON?lat=29.65163&lng=-82.32483&username=demo`\n",
    "- Weather: `http://api.geonames.org/findNearByWeatherJSON?lat=29.65163&lng=-82.32483&username=demo`\n",
    "- Country subdivision: `http://api.geonames.org/countrySubdivisionJSON?lat=29.65163&lng=-82.32483&username=demo`\n",
    "\n",
    "What is the elevation, temperature and state name for this lat/lon? (just copy and paste the answers)"
   ]
  },
  {
   "cell_type": "markdown",
   "metadata": {},
   "source": [
    "[Type answer here]"
   ]
  },
  {
   "cell_type": "markdown",
   "metadata": {},
   "source": [
    "b) Write a function that takes two arguments: latitude and longitude; and returns a tuple with the elevation, temperature and state name.\n",
    "\n",
    "HINT: \n",
    "- Make a pen-and-paper plan before starting to write the code. Your frustration will be greatly reduced if you take the time to write out a plan. It can include code, descriptions of the steps or both.\n",
    "- Since you are only going after three URLs I would not recommend using for loops for this function.\n",
    "- It is easier to debug code when it is not in a function. Notice how you built the functions in Question 3 by building up from code that was not in functions. DO THAT HERE!\n",
    "- Get little bits working and then add more code."
   ]
  },
  {
   "cell_type": "code",
   "execution_count": null,
   "metadata": {},
   "outputs": [],
   "source": []
  },
  {
   "cell_type": "markdown",
   "metadata": {},
   "source": [
    "---"
   ]
  },
  {
   "cell_type": "markdown",
   "metadata": {},
   "source": [
    "5) BONUS: Write a single function that takes a city name as an argument and returns a tuple with the elevation, temperature and state name.\n",
    "\n",
    "EXTRA CHALLENGE: Can any group write this entire function in just three lines? (note the three lines includes the `def` line)"
   ]
  },
  {
   "cell_type": "code",
   "execution_count": null,
   "metadata": {},
   "outputs": [],
   "source": []
  }
 ],
 "metadata": {
  "anaconda-cloud": {},
  "kernelspec": {
   "display_name": "Python 2",
   "language": "python",
   "name": "python2"
  },
  "language_info": {
   "codemirror_mode": {
    "name": "ipython",
    "version": 2
   },
   "file_extension": ".py",
   "mimetype": "text/x-python",
   "name": "python",
   "nbconvert_exporter": "python",
   "pygments_lexer": "ipython2",
   "version": "2.7.16"
  }
 },
 "nbformat": 4,
 "nbformat_minor": 2
}
