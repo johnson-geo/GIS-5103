{
 "cells": [
  {
   "cell_type": "markdown",
   "metadata": {},
   "source": [
    "# MiniProject 4"
   ]
  },
  {
   "cell_type": "markdown",
   "metadata": {},
   "source": [
    "#### GIS 5103\n",
    "#### Assigned: October 24, 2019"
   ]
  },
  {
   "cell_type": "markdown",
   "metadata": {},
   "source": [
    "You will be analyzing a database of movie ratings for this exercise. The database is a little dated, but hopefully will still be interesting. While you could do this using any of the Python tools you've learned so far, Pandas will offer the most concise solution; so this is what we will use. This will also be the first exercise with a \"big\" dataset: there are over one million ratings, on approximately 3,900 movies made by 6,040 users.\n",
    "\n",
    "Pandas is a rich package with a surprisingly large number of tools for data analysis and manipulation. In many cases this functionality is embedded as **methods** of the containers that you'll use to hold the data. Some of this functionality was covered in the at home Notebook, but you'll also need to do some Pandas research on your own as you work through this exercise."
   ]
  },
  {
   "cell_type": "markdown",
   "metadata": {},
   "source": [
    "When you have completed the exercise, email your team's solution to [bdjohnson@fsu.edu](mailto:bdjohnson@fsu.edu).  Due before the start of class next week."
   ]
  },
  {
   "cell_type": "markdown",
   "metadata": {},
   "source": [
    "### Data"
   ]
  },
  {
   "cell_type": "markdown",
   "metadata": {},
   "source": [
    "The first thing you'll need to do is read in the data. The data is spread across three files: users.dat, ratings.dat and movies.dat. The following code will get the files read in. "
   ]
  },
  {
   "cell_type": "code",
   "execution_count": null,
   "metadata": {},
   "outputs": [],
   "source": [
    "import pandas as pd\n",
    "\n",
    "unames = ['user_id','gender','age','occupation','zip']\n",
    "users = pd.read_table('users.dat', sep='::', \n",
    "                      header=None, names=unames, engine='python')\n",
    "    \n",
    "rnames = ['user_id', 'movie_id', 'rating', 'timestamp']\n",
    "ratings = pd.read_table('ratings.dat', sep='::', \n",
    "                        header=None, names=rnames, engine='python')\n",
    "    \n",
    "mnames = ['movie_id', 'title','genres']\n",
    "movies = pd.read_table('movies.dat', sep='::', \n",
    "                       header=None, names=mnames, engine='python')"
   ]
  },
  {
   "cell_type": "markdown",
   "metadata": {},
   "source": [
    "#### 1. What types of objects are `users`, `ratings` and `movies`?"
   ]
  },
  {
   "cell_type": "markdown",
   "metadata": {},
   "source": [
    "#### 2. Open `movies.dat` in a text editor. \n",
    "\n",
    "- What is the `sep` argument doing in the `pd.read_table` function above?\n",
    "- How is the data file different from a CSV file?"
   ]
  },
  {
   "cell_type": "markdown",
   "metadata": {},
   "source": [
    "#### 3. `head()` and `describe()` are two useful Pandas methods. Run the code below and...\n",
    "  * Give an explanation of what these two tools do.\n",
    "  * Why is the `describe()` output different for `gender` and `zip` relative to the other columns?"
   ]
  },
  {
   "cell_type": "markdown",
   "metadata": {},
   "source": [
    "#### 4. Run the following code to clean up the data a little. [You can just run it and move to the next step.]"
   ]
  },
  {
   "cell_type": "code",
   "execution_count": null,
   "metadata": {},
   "outputs": [],
   "source": [
    "tmp = movies.title.str.match('(.*) \\(([0-9]+)\\)')\n",
    "movies['year'] = None\n",
    "movies.loc[tmp, 'year'] = movies.loc[tmp, 'title'].str[-5:-1]\n",
    "movies['short_title'] = None\n",
    "movies.loc[tmp, 'short_title'] = movies.loc[tmp, 'title'].str[0:-7]\n",
    "movies.loc[tmp, 'short_title'] = movies.loc[tmp, 'short_title'].str[0:40]"
   ]
  },
  {
   "cell_type": "markdown",
   "metadata": {},
   "source": [
    "#### 5. Run the `head()` method on `ratings` and `movies` to get a better understanding what these objects contain."
   ]
  },
  {
   "cell_type": "markdown",
   "metadata": {},
   "source": [
    "#### 6. The content of `users`, `ratings` and `movies` can be linked together using the `user_id` and `movie_id` columns. Create one data frame that unifies all the information."
   ]
  },
  {
   "cell_type": "markdown",
   "metadata": {},
   "source": [
    "HINT1: Use Panda's `merge()` functionaility to create a new data frame with all content combined. Note that there is a `pd.merge()` function and a dataframe has a `merge()` method.\n",
    "\n",
    "HINT2: Before you start writing code, make a plan about how you will get everything linked together."
   ]
  },
  {
   "cell_type": "markdown",
   "metadata": {},
   "source": [
    "#### 7. Run the `head()` method on the object you created in the previous question. Get the `shape` of the object."
   ]
  },
  {
   "cell_type": "markdown",
   "metadata": {},
   "source": [
    "7a. Why does it have 12 columns?"
   ]
  },
  {
   "cell_type": "markdown",
   "metadata": {},
   "source": [
    "7b. Why does it have 1,000,029 rows?"
   ]
  },
  {
   "cell_type": "markdown",
   "metadata": {},
   "source": [
    "#### 8. What are the ten highest rated movies?"
   ]
  },
  {
   "cell_type": "markdown",
   "metadata": {},
   "source": [
    "Consider the intermediate tasks needed to answer this question. You need to determine the average rating for each movie and then sort the movies from highest to lowest average rating. \n",
    "\n",
    "* Pandas data frames (e.g., the object you were inspecting in the previous step) have a `groupby()` method that can get you most of the way to the answer.\n",
    "* Once you have created the `groupby` object, use its `describe()` method to get an understanding of the contents of the object.\n",
    "* Get the `mean()` of the each movie's ratings (HINT: remember your old friend `dir()`?)\n",
    "* Use the `sort_values()` method to sort the mean values.\n",
    "* If you don't have names associated with the means, consider the choice you made in the `groupby` step."
   ]
  },
  {
   "cell_type": "markdown",
   "metadata": {},
   "source": [
    "#### 9. I know this database is old, but even the millennials among you might be surprised that you have not heard of any of the \"top\" movies. What are the ten highest rated movies with more than 1000 ratings?"
   ]
  },
  {
   "cell_type": "markdown",
   "metadata": {},
   "source": [
    "* Your previous answer already did most of this. This question is asking you to \"just\" consider a subset of all the movies. \n",
    "* Create a mask that can be used to select all the movies with more than 1000 ratings.  This mask can be created using the `size()` method of the `groupby` object you created in the previous question."
   ]
  },
  {
   "cell_type": "markdown",
   "metadata": {},
   "source": [
    "#### 10. What are the top ten rated movies by women? (using just those with more than 500 ratings by women) "
   ]
  },
  {
   "cell_type": "markdown",
   "metadata": {},
   "source": [
    "There are a number of approaches to tackle this question. One path is as follows.\n",
    "\n",
    "- Select just the women from your merged data from Question 6.\n",
    "- Recycle the necessary pieces from Questions 8 and 9."
   ]
  },
  {
   "cell_type": "markdown",
   "metadata": {},
   "source": [
    "#### 11. What are the top ten rated movies by men? (using just those with more than 500 ratings by men) "
   ]
  },
  {
   "cell_type": "markdown",
   "metadata": {},
   "source": [
    "- You're welcome to add your sociological interpretation of the difference between the results from Questions 10 and 11."
   ]
  }
 ],
 "metadata": {
  "anaconda-cloud": {},
  "kernelspec": {
   "display_name": "Python 2",
   "language": "python",
   "name": "python2"
  },
  "language_info": {
   "codemirror_mode": {
    "name": "ipython",
    "version": 2
   },
   "file_extension": ".py",
   "mimetype": "text/x-python",
   "name": "python",
   "nbconvert_exporter": "python",
   "pygments_lexer": "ipython2",
   "version": "2.7.16"
  }
 },
 "nbformat": 4,
 "nbformat_minor": 1
}
