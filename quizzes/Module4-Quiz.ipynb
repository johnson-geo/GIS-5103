{
 "cells": [
  {
   "cell_type": "markdown",
   "metadata": {},
   "source": [
    "# Quiz 4\n",
    "#### GIS 5103 | October 24, 2019\n",
    "#### When you complete the quiz: save and close your Notebook, then email it to [bdjohnson@fsu.edu](mailto:bdjohnson@fsu.edu)."
   ]
  },
  {
   "cell_type": "markdown",
   "metadata": {},
   "source": [
    "---"
   ]
  },
  {
   "cell_type": "markdown",
   "metadata": {},
   "source": [
    "1) The following cell is trying to write some data to a file. Fix it."
   ]
  },
  {
   "cell_type": "code",
   "execution_count": null,
   "metadata": {},
   "outputs": [],
   "source": [
    "my_file = open('quiz_file.txt', 'w')\n",
    "my_file.write(743)\n",
    "my_file.close()"
   ]
  },
  {
   "cell_type": "markdown",
   "metadata": {},
   "source": [
    "---"
   ]
  },
  {
   "cell_type": "markdown",
   "metadata": {},
   "source": [
    "2) Extract `captain marvel` from the `avenger` pandas dataframe (using pandas syntax)."
   ]
  },
  {
   "cell_type": "code",
   "execution_count": null,
   "metadata": {},
   "outputs": [],
   "source": [
    "import pandas as pd\n",
    "avenger = pd.DataFrame([[\"tony stark\",\"ironman\"],[\"t'challa\",\"black panther\"],[\"carol danvers\",\"captain marvel\"],[\"steve rogers\",\"captain america\"]], \n",
    "                      columns=['before','after'], index=['hero1','hero2','hero3','hero4'])\n",
    "print(avenger)"
   ]
  },
  {
   "cell_type": "code",
   "execution_count": null,
   "metadata": {},
   "outputs": [],
   "source": []
  },
  {
   "cell_type": "markdown",
   "metadata": {},
   "source": [
    "---"
   ]
  },
  {
   "cell_type": "markdown",
   "metadata": {},
   "source": [
    "3) Some researchers are studying neighborhood trick-or-treating patterns as a measure of social cohesion. They asked the Smith and Johnson families, who are neighbors, to keep track of the number of kids visiting their houses by hour. The Smiths ran out to buy more candy from 7:00-8:00 and so recorded `NAN` for that hour (`7`) since they were not sure if anyone came. The Johnsons stayed home, but no one came.\n",
    "\n",
    "Why is the hourly mean different for the `smiths` and `johnsons` in the cell below?"
   ]
  },
  {
   "cell_type": "code",
   "execution_count": null,
   "metadata": {},
   "outputs": [],
   "source": [
    "kids = pd.DataFrame([[12,12],[18,18],[26,26],[pd.np.nan, 0], [4,4]], \n",
    "                    columns=['smiths','johnsons'], index=[4,5,6,7,8], dtype=float)\n",
    "print(kids)"
   ]
  },
  {
   "cell_type": "code",
   "execution_count": null,
   "metadata": {},
   "outputs": [],
   "source": [
    "kids.mean(axis=0)"
   ]
  },
  {
   "cell_type": "markdown",
   "metadata": {},
   "source": [
    "[double click here to type answer]"
   ]
  },
  {
   "cell_type": "markdown",
   "metadata": {},
   "source": [
    "---"
   ]
  },
  {
   "cell_type": "markdown",
   "metadata": {},
   "source": [
    "4) Suzie and Billy's mother is running an analysis of her kids' Halloween candy haul. She began by counting the candy packets they received, a subset of which is in the cell below. Using _pandas syntax_, print only the sum of `snickers` packets the two kids received. For one bonus point, print the number of `candy corn` poor Tahira had to bring home."
   ]
  },
  {
   "cell_type": "code",
   "execution_count": null,
   "metadata": {},
   "outputs": [],
   "source": [
    "candy = pd.DataFrame([[2,4],[6,1],[3,5]], columns=['tahira','maya'], \n",
    "                     index=['nerds','candy corn','snickers'])\n",
    "print(candy)"
   ]
  },
  {
   "cell_type": "code",
   "execution_count": null,
   "metadata": {},
   "outputs": [],
   "source": []
  },
  {
   "cell_type": "markdown",
   "metadata": {},
   "source": [
    "---"
   ]
  },
  {
   "cell_type": "markdown",
   "metadata": {},
   "source": [
    "5) Many pandas functions have an `inplace` argument. What does this do?"
   ]
  },
  {
   "cell_type": "markdown",
   "metadata": {},
   "source": [
    "[double click here to type answer]"
   ]
  },
  {
   "cell_type": "markdown",
   "metadata": {},
   "source": [
    "---"
   ]
  },
  {
   "cell_type": "markdown",
   "metadata": {},
   "source": [
    "**Remember to save and close your notebook before emailing it.**"
   ]
  }
 ],
 "metadata": {
  "anaconda-cloud": {},
  "kernelspec": {
   "display_name": "Python 2",
   "language": "python",
   "name": "python2"
  },
  "language_info": {
   "codemirror_mode": {
    "name": "ipython",
    "version": 2
   },
   "file_extension": ".py",
   "mimetype": "text/x-python",
   "name": "python",
   "nbconvert_exporter": "python",
   "pygments_lexer": "ipython2",
   "version": "2.7.16"
  }
 },
 "nbformat": 4,
 "nbformat_minor": 1
}
