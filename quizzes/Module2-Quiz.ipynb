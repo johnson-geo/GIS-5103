{
 "cells": [
  {
   "cell_type": "markdown",
   "metadata": {},
   "source": [
    "# Quiz 2\n",
    "#### GIS 5103 | September 26, 2019\n",
    "#### When you complete the quiz: save and close your Notebook, then email it to [bdjohnson@fsu.edu](mailto:bdjohnson@fsu.edu)."
   ]
  },
  {
   "cell_type": "markdown",
   "metadata": {},
   "source": [
    "---"
   ]
  },
  {
   "cell_type": "markdown",
   "metadata": {},
   "source": [
    "1) Run the following cell. Extract `81` from `data_list` using slicing."
   ]
  },
  {
   "cell_type": "code",
   "execution_count": null,
   "metadata": {},
   "outputs": [],
   "source": [
    "data_list = (45, 21, 21, 81, 89, 39, 98, 14, 6)\n",
    "data_list"
   ]
  },
  {
   "cell_type": "markdown",
   "metadata": {},
   "source": [
    "---"
   ]
  },
  {
   "cell_type": "markdown",
   "metadata": {},
   "source": [
    "2) There are five lines of code in the following cell, each with a comment identifying a container type. Modify each line so that the values on the right side of the equals become that type. "
   ]
  },
  {
   "cell_type": "code",
   "execution_count": null,
   "metadata": {},
   "outputs": [],
   "source": [
    "a = 5, 6  # set\n",
    "b = 5, 6  # list\n",
    "c = 5, 6  # tuple\n",
    "d = 5, 6  # string\n",
    "e = 5:6   # dictionary"
   ]
  },
  {
   "cell_type": "markdown",
   "metadata": {},
   "source": [
    "---"
   ]
  },
  {
   "cell_type": "markdown",
   "metadata": {},
   "source": [
    "3) Insert an `elif` statement that prints \"medium city name\" if the variable `city` is greater than 10 characters in length."
   ]
  },
  {
   "cell_type": "code",
   "execution_count": 1,
   "metadata": {},
   "outputs": [
    {
     "name": "stdout",
     "output_type": "stream",
     "text": [
      "short city name\n"
     ]
    }
   ],
   "source": [
    "city = 'Tallahassee'\n",
    "if len(city) > 20:\n",
    "    print('long city name')\n",
    "else:\n",
    "    print('short city name')"
   ]
  },
  {
   "cell_type": "markdown",
   "metadata": {},
   "source": [
    "---"
   ]
  },
  {
   "cell_type": "markdown",
   "metadata": {},
   "source": [
    "4) __Two__ of the following five options will evaluate to **False**. Which ones?\n",
    "\n",
    " a. `0`\n",
    " \n",
    " b. `[0,0,0]`\n",
    " \n",
    " c. `\"zero\"`\n",
    " \n",
    " d. `{'zero':0}`\n",
    " \n",
    " e. `None`"
   ]
  },
  {
   "cell_type": "markdown",
   "metadata": {},
   "source": [
    "[type answer here]"
   ]
  },
  {
   "cell_type": "markdown",
   "metadata": {},
   "source": [
    "---"
   ]
  },
  {
   "cell_type": "markdown",
   "metadata": {},
   "source": [
    "5) Briefly explain why the following cell only prints: `Florida`, `Georgia` and `Iowa`."
   ]
  },
  {
   "cell_type": "code",
   "execution_count": 2,
   "metadata": {},
   "outputs": [
    {
     "name": "stdout",
     "output_type": "stream",
     "text": [
      "Florida\n",
      "Georgia\n",
      "Iowa\n"
     ]
    }
   ],
   "source": [
    "states = ['Florida', 'Georgia', 'New York', 'Iowa', 'Louisiana']\n",
    "for state in states:\n",
    "    if len(state) >= 8:\n",
    "        continue\n",
    "    print(state)"
   ]
  },
  {
   "cell_type": "markdown",
   "metadata": {},
   "source": [
    "[type answer here]"
   ]
  },
  {
   "cell_type": "markdown",
   "metadata": {},
   "source": [
    "---"
   ]
  },
  {
   "cell_type": "markdown",
   "metadata": {},
   "source": [
    "#### Remember to Save your completed notebook before emailing it."
   ]
  }
 ],
 "metadata": {
  "kernelspec": {
   "display_name": "Python 2",
   "language": "python",
   "name": "python2"
  },
  "language_info": {
   "codemirror_mode": {
    "name": "ipython",
    "version": 2
   },
   "file_extension": ".py",
   "mimetype": "text/x-python",
   "name": "python",
   "nbconvert_exporter": "python",
   "pygments_lexer": "ipython2",
   "version": "2.7.16"
  }
 },
 "nbformat": 4,
 "nbformat_minor": 2
}
